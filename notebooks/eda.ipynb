{
 "cells": [
  {
   "cell_type": "markdown",
   "metadata": {},
   "source": [
    "# SDT Project Notebook\n",
    "The goal of this notebook is to perform Exploratory Data Analysis on a book sales data set. The dataset used provides data for book sales and ratings as well as other useful information. It provides insightful information regarding the types of books sold, patterns for what types of books are published and the relationship between ratings and sales."
   ]
  },
  {
   "cell_type": "markdown",
   "metadata": {},
   "source": [
    "First I add the libraries I will need to manipulate and chart the data."
   ]
  },
  {
   "cell_type": "code",
   "execution_count": 55,
   "metadata": {},
   "outputs": [],
   "source": [
    "import pandas as pd \n",
    "import matplotlib.pyplot as plt \n",
    "import plotly.express as px\n",
    "import numpy as np "
   ]
  },
  {
   "cell_type": "markdown",
   "metadata": {},
   "source": [
    "Next I load the dataset."
   ]
  },
  {
   "cell_type": "code",
   "execution_count": 56,
   "metadata": {},
   "outputs": [
    {
     "data": {
      "text/html": [
       "<div>\n",
       "<style scoped>\n",
       "    .dataframe tbody tr th:only-of-type {\n",
       "        vertical-align: middle;\n",
       "    }\n",
       "\n",
       "    .dataframe tbody tr th {\n",
       "        vertical-align: top;\n",
       "    }\n",
       "\n",
       "    .dataframe thead th {\n",
       "        text-align: right;\n",
       "    }\n",
       "</style>\n",
       "<table border=\"1\" class=\"dataframe\">\n",
       "  <thead>\n",
       "    <tr style=\"text-align: right;\">\n",
       "      <th></th>\n",
       "      <th>index</th>\n",
       "      <th>Publishing Year</th>\n",
       "      <th>Book Name</th>\n",
       "      <th>Author</th>\n",
       "      <th>language_code</th>\n",
       "      <th>Author_Rating</th>\n",
       "      <th>Book_average_rating</th>\n",
       "      <th>Book_ratings_count</th>\n",
       "      <th>genre</th>\n",
       "      <th>gross sales</th>\n",
       "      <th>publisher revenue</th>\n",
       "      <th>sale price</th>\n",
       "      <th>sales rank</th>\n",
       "      <th>Publisher</th>\n",
       "      <th>units sold</th>\n",
       "    </tr>\n",
       "  </thead>\n",
       "  <tbody>\n",
       "    <tr>\n",
       "      <th>0</th>\n",
       "      <td>0</td>\n",
       "      <td>1975.0</td>\n",
       "      <td>Beowulf</td>\n",
       "      <td>Unknown, Seamus Heaney</td>\n",
       "      <td>en-US</td>\n",
       "      <td>Novice</td>\n",
       "      <td>3.42</td>\n",
       "      <td>155903</td>\n",
       "      <td>genre fiction</td>\n",
       "      <td>34160.00</td>\n",
       "      <td>20496.000</td>\n",
       "      <td>4.88</td>\n",
       "      <td>1</td>\n",
       "      <td>HarperCollins Publishers</td>\n",
       "      <td>7000</td>\n",
       "    </tr>\n",
       "    <tr>\n",
       "      <th>1</th>\n",
       "      <td>1</td>\n",
       "      <td>1987.0</td>\n",
       "      <td>Batman: Year One</td>\n",
       "      <td>Frank Miller, David Mazzucchelli, Richmond Lew...</td>\n",
       "      <td>eng</td>\n",
       "      <td>Intermediate</td>\n",
       "      <td>4.23</td>\n",
       "      <td>145267</td>\n",
       "      <td>genre fiction</td>\n",
       "      <td>12437.50</td>\n",
       "      <td>7462.500</td>\n",
       "      <td>1.99</td>\n",
       "      <td>2</td>\n",
       "      <td>HarperCollins Publishers</td>\n",
       "      <td>6250</td>\n",
       "    </tr>\n",
       "    <tr>\n",
       "      <th>2</th>\n",
       "      <td>2</td>\n",
       "      <td>2015.0</td>\n",
       "      <td>Go Set a Watchman</td>\n",
       "      <td>Harper Lee</td>\n",
       "      <td>eng</td>\n",
       "      <td>Novice</td>\n",
       "      <td>3.31</td>\n",
       "      <td>138669</td>\n",
       "      <td>genre fiction</td>\n",
       "      <td>47795.00</td>\n",
       "      <td>28677.000</td>\n",
       "      <td>8.69</td>\n",
       "      <td>3</td>\n",
       "      <td>Amazon Digital Services,  Inc.</td>\n",
       "      <td>5500</td>\n",
       "    </tr>\n",
       "    <tr>\n",
       "      <th>3</th>\n",
       "      <td>3</td>\n",
       "      <td>2008.0</td>\n",
       "      <td>When You Are Engulfed in Flames</td>\n",
       "      <td>David Sedaris</td>\n",
       "      <td>en-US</td>\n",
       "      <td>Intermediate</td>\n",
       "      <td>4.04</td>\n",
       "      <td>150898</td>\n",
       "      <td>fiction</td>\n",
       "      <td>41250.00</td>\n",
       "      <td>24750.000</td>\n",
       "      <td>7.50</td>\n",
       "      <td>3</td>\n",
       "      <td>Hachette Book Group</td>\n",
       "      <td>5500</td>\n",
       "    </tr>\n",
       "    <tr>\n",
       "      <th>4</th>\n",
       "      <td>4</td>\n",
       "      <td>2011.0</td>\n",
       "      <td>Daughter of Smoke &amp; Bone</td>\n",
       "      <td>Laini Taylor</td>\n",
       "      <td>eng</td>\n",
       "      <td>Intermediate</td>\n",
       "      <td>4.04</td>\n",
       "      <td>198283</td>\n",
       "      <td>genre fiction</td>\n",
       "      <td>37952.50</td>\n",
       "      <td>22771.500</td>\n",
       "      <td>7.99</td>\n",
       "      <td>4</td>\n",
       "      <td>Penguin Group (USA) LLC</td>\n",
       "      <td>4750</td>\n",
       "    </tr>\n",
       "    <tr>\n",
       "      <th>5</th>\n",
       "      <td>5</td>\n",
       "      <td>2015.0</td>\n",
       "      <td>Red Queen</td>\n",
       "      <td>Victoria Aveyard</td>\n",
       "      <td>eng</td>\n",
       "      <td>Intermediate</td>\n",
       "      <td>4.08</td>\n",
       "      <td>83354</td>\n",
       "      <td>genre fiction</td>\n",
       "      <td>19960.00</td>\n",
       "      <td>0.000</td>\n",
       "      <td>4.99</td>\n",
       "      <td>5</td>\n",
       "      <td>Amazon Digital Services,  Inc.</td>\n",
       "      <td>4000</td>\n",
       "    </tr>\n",
       "    <tr>\n",
       "      <th>6</th>\n",
       "      <td>6</td>\n",
       "      <td>2011.0</td>\n",
       "      <td>The Power of Habit</td>\n",
       "      <td>Charles Duhigg</td>\n",
       "      <td>eng</td>\n",
       "      <td>Intermediate</td>\n",
       "      <td>4.03</td>\n",
       "      <td>155977</td>\n",
       "      <td>genre fiction</td>\n",
       "      <td>27491.67</td>\n",
       "      <td>16495.002</td>\n",
       "      <td>6.99</td>\n",
       "      <td>6</td>\n",
       "      <td>HarperCollins Publishers</td>\n",
       "      <td>3933</td>\n",
       "    </tr>\n",
       "    <tr>\n",
       "      <th>7</th>\n",
       "      <td>7</td>\n",
       "      <td>1994.0</td>\n",
       "      <td>Midnight in the Garden of Good and Evil</td>\n",
       "      <td>John Berendt</td>\n",
       "      <td>eng</td>\n",
       "      <td>Intermediate</td>\n",
       "      <td>3.90</td>\n",
       "      <td>167997</td>\n",
       "      <td>nonfiction</td>\n",
       "      <td>26182.00</td>\n",
       "      <td>15709.200</td>\n",
       "      <td>6.89</td>\n",
       "      <td>8</td>\n",
       "      <td>Hachette Book Group</td>\n",
       "      <td>3800</td>\n",
       "    </tr>\n",
       "    <tr>\n",
       "      <th>8</th>\n",
       "      <td>8</td>\n",
       "      <td>2012.0</td>\n",
       "      <td>Hopeless</td>\n",
       "      <td>Colleen Hoover</td>\n",
       "      <td>eng</td>\n",
       "      <td>Intermediate</td>\n",
       "      <td>4.34</td>\n",
       "      <td>189938</td>\n",
       "      <td>genre fiction</td>\n",
       "      <td>26093.67</td>\n",
       "      <td>15656.202</td>\n",
       "      <td>6.99</td>\n",
       "      <td>9</td>\n",
       "      <td>HarperCollins Publishers</td>\n",
       "      <td>3733</td>\n",
       "    </tr>\n",
       "    <tr>\n",
       "      <th>9</th>\n",
       "      <td>9</td>\n",
       "      <td>1905.0</td>\n",
       "      <td>A Little Princess</td>\n",
       "      <td>Frances Hodgson Burnett, Nancy Bond</td>\n",
       "      <td>eng</td>\n",
       "      <td>Intermediate</td>\n",
       "      <td>4.20</td>\n",
       "      <td>199872</td>\n",
       "      <td>genre fiction</td>\n",
       "      <td>23792.34</td>\n",
       "      <td>14275.404</td>\n",
       "      <td>6.49</td>\n",
       "      <td>10</td>\n",
       "      <td>Random House LLC</td>\n",
       "      <td>3666</td>\n",
       "    </tr>\n",
       "  </tbody>\n",
       "</table>\n",
       "</div>"
      ],
      "text/plain": [
       "   index  Publishing Year                                Book Name  \\\n",
       "0      0           1975.0                                  Beowulf   \n",
       "1      1           1987.0                         Batman: Year One   \n",
       "2      2           2015.0                        Go Set a Watchman   \n",
       "3      3           2008.0          When You Are Engulfed in Flames   \n",
       "4      4           2011.0                 Daughter of Smoke & Bone   \n",
       "5      5           2015.0                                Red Queen   \n",
       "6      6           2011.0                       The Power of Habit   \n",
       "7      7           1994.0  Midnight in the Garden of Good and Evil   \n",
       "8      8           2012.0                                 Hopeless   \n",
       "9      9           1905.0                        A Little Princess   \n",
       "\n",
       "                                              Author language_code  \\\n",
       "0                             Unknown, Seamus Heaney         en-US   \n",
       "1  Frank Miller, David Mazzucchelli, Richmond Lew...           eng   \n",
       "2                                         Harper Lee           eng   \n",
       "3                                      David Sedaris         en-US   \n",
       "4                                       Laini Taylor           eng   \n",
       "5                                   Victoria Aveyard           eng   \n",
       "6                                     Charles Duhigg           eng   \n",
       "7                                       John Berendt           eng   \n",
       "8                                     Colleen Hoover           eng   \n",
       "9                Frances Hodgson Burnett, Nancy Bond           eng   \n",
       "\n",
       "  Author_Rating  Book_average_rating  Book_ratings_count          genre  \\\n",
       "0        Novice                 3.42              155903  genre fiction   \n",
       "1  Intermediate                 4.23              145267  genre fiction   \n",
       "2        Novice                 3.31              138669  genre fiction   \n",
       "3  Intermediate                 4.04              150898        fiction   \n",
       "4  Intermediate                 4.04              198283  genre fiction   \n",
       "5  Intermediate                 4.08               83354  genre fiction   \n",
       "6  Intermediate                 4.03              155977  genre fiction   \n",
       "7  Intermediate                 3.90              167997     nonfiction   \n",
       "8  Intermediate                 4.34              189938  genre fiction   \n",
       "9  Intermediate                 4.20              199872  genre fiction   \n",
       "\n",
       "   gross sales  publisher revenue  sale price  sales rank  \\\n",
       "0     34160.00          20496.000        4.88           1   \n",
       "1     12437.50           7462.500        1.99           2   \n",
       "2     47795.00          28677.000        8.69           3   \n",
       "3     41250.00          24750.000        7.50           3   \n",
       "4     37952.50          22771.500        7.99           4   \n",
       "5     19960.00              0.000        4.99           5   \n",
       "6     27491.67          16495.002        6.99           6   \n",
       "7     26182.00          15709.200        6.89           8   \n",
       "8     26093.67          15656.202        6.99           9   \n",
       "9     23792.34          14275.404        6.49          10   \n",
       "\n",
       "                       Publisher   units sold  \n",
       "0        HarperCollins Publishers        7000  \n",
       "1        HarperCollins Publishers        6250  \n",
       "2  Amazon Digital Services,  Inc.        5500  \n",
       "3             Hachette Book Group        5500  \n",
       "4         Penguin Group (USA) LLC        4750  \n",
       "5  Amazon Digital Services,  Inc.        4000  \n",
       "6        HarperCollins Publishers        3933  \n",
       "7             Hachette Book Group        3800  \n",
       "8        HarperCollins Publishers        3733  \n",
       "9                Random House LLC        3666  "
      ]
     },
     "execution_count": 56,
     "metadata": {},
     "output_type": "execute_result"
    }
   ],
   "source": [
    "df = pd.read_csv('Books_Data_Clean.csv')\n",
    "df.head(10)"
   ]
  },
  {
   "cell_type": "code",
   "execution_count": 57,
   "metadata": {},
   "outputs": [
    {
     "name": "stdout",
     "output_type": "stream",
     "text": [
      "<class 'pandas.core.frame.DataFrame'>\n",
      "RangeIndex: 1070 entries, 0 to 1069\n",
      "Data columns (total 15 columns):\n",
      " #   Column               Non-Null Count  Dtype  \n",
      "---  ------               --------------  -----  \n",
      " 0   index                1070 non-null   int64  \n",
      " 1   Publishing Year      1069 non-null   float64\n",
      " 2   Book Name            1047 non-null   object \n",
      " 3   Author               1070 non-null   object \n",
      " 4   language_code        1017 non-null   object \n",
      " 5   Author_Rating        1070 non-null   object \n",
      " 6   Book_average_rating  1070 non-null   float64\n",
      " 7   Book_ratings_count   1070 non-null   int64  \n",
      " 8   genre                1070 non-null   object \n",
      " 9   gross sales          1070 non-null   float64\n",
      " 10  publisher revenue    1070 non-null   float64\n",
      " 11  sale price           1070 non-null   float64\n",
      " 12  sales rank           1070 non-null   int64  \n",
      " 13  Publisher            1070 non-null   object \n",
      " 14  units sold           1070 non-null   int64  \n",
      "dtypes: float64(5), int64(4), object(6)\n",
      "memory usage: 125.5+ KB\n"
     ]
    }
   ],
   "source": [
    "df.info()"
   ]
  },
  {
   "cell_type": "markdown",
   "metadata": {},
   "source": [
    "Since these columns aren't important for analysis, I drop them."
   ]
  },
  {
   "cell_type": "code",
   "execution_count": 58,
   "metadata": {},
   "outputs": [],
   "source": [
    "df.drop(columns=['index','language_code','Author_Rating','sales rank'],inplace=True)"
   ]
  },
  {
   "cell_type": "markdown",
   "metadata": {},
   "source": [
    "To make the column names more consistent, I rename them using standard convention."
   ]
  },
  {
   "cell_type": "code",
   "execution_count": 59,
   "metadata": {},
   "outputs": [],
   "source": [
    "df.columns = ['publishing_year','book_name','author','book_average_rating',\n",
    "              'book_ratings_count','genre','gross_sales','publisher_revenue','sales_price',\n",
    "              'publisher','units_sold']"
   ]
  },
  {
   "cell_type": "markdown",
   "metadata": {},
   "source": [
    "I check for duplicates."
   ]
  },
  {
   "cell_type": "code",
   "execution_count": 60,
   "metadata": {},
   "outputs": [
    {
     "data": {
      "text/plain": [
       "publishing_year         1\n",
       "book_name              23\n",
       "author                  0\n",
       "book_average_rating     0\n",
       "book_ratings_count      0\n",
       "genre                   0\n",
       "gross_sales             0\n",
       "publisher_revenue       0\n",
       "sales_price             0\n",
       "publisher               0\n",
       "units_sold              0\n",
       "dtype: int64"
      ]
     },
     "execution_count": 60,
     "metadata": {},
     "output_type": "execute_result"
    }
   ],
   "source": [
    "df.isna().sum()"
   ]
  },
  {
   "cell_type": "markdown",
   "metadata": {},
   "source": [
    "Checking rows for duplicate book names."
   ]
  },
  {
   "cell_type": "code",
   "execution_count": 61,
   "metadata": {},
   "outputs": [
    {
     "data": {
      "text/html": [
       "<div>\n",
       "<style scoped>\n",
       "    .dataframe tbody tr th:only-of-type {\n",
       "        vertical-align: middle;\n",
       "    }\n",
       "\n",
       "    .dataframe tbody tr th {\n",
       "        vertical-align: top;\n",
       "    }\n",
       "\n",
       "    .dataframe thead th {\n",
       "        text-align: right;\n",
       "    }\n",
       "</style>\n",
       "<table border=\"1\" class=\"dataframe\">\n",
       "  <thead>\n",
       "    <tr style=\"text-align: right;\">\n",
       "      <th></th>\n",
       "      <th>publishing_year</th>\n",
       "      <th>book_name</th>\n",
       "      <th>author</th>\n",
       "      <th>book_average_rating</th>\n",
       "      <th>book_ratings_count</th>\n",
       "      <th>genre</th>\n",
       "      <th>gross_sales</th>\n",
       "      <th>publisher_revenue</th>\n",
       "      <th>sales_price</th>\n",
       "      <th>publisher</th>\n",
       "      <th>units_sold</th>\n",
       "    </tr>\n",
       "  </thead>\n",
       "  <tbody>\n",
       "    <tr>\n",
       "      <th>24</th>\n",
       "      <td>1996.0</td>\n",
       "      <td>NaN</td>\n",
       "      <td>Kenneth Branagh, William Shakespeare</td>\n",
       "      <td>4.12</td>\n",
       "      <td>156869</td>\n",
       "      <td>genre fiction</td>\n",
       "      <td>2639.34</td>\n",
       "      <td>1583.604</td>\n",
       "      <td>0.99</td>\n",
       "      <td>Amazon Digital Services,  Inc.</td>\n",
       "      <td>2666</td>\n",
       "    </tr>\n",
       "    <tr>\n",
       "      <th>34</th>\n",
       "      <td>2007.0</td>\n",
       "      <td>NaN</td>\n",
       "      <td>Brandon Sanderson</td>\n",
       "      <td>4.35</td>\n",
       "      <td>150736</td>\n",
       "      <td>genre fiction</td>\n",
       "      <td>17980.00</td>\n",
       "      <td>10788.000</td>\n",
       "      <td>8.99</td>\n",
       "      <td>Random House LLC</td>\n",
       "      <td>2000</td>\n",
       "    </tr>\n",
       "    <tr>\n",
       "      <th>105</th>\n",
       "      <td>2011.0</td>\n",
       "      <td>NaN</td>\n",
       "      <td>Mark Cotta Vaz</td>\n",
       "      <td>4.30</td>\n",
       "      <td>188136</td>\n",
       "      <td>genre fiction</td>\n",
       "      <td>7670.40</td>\n",
       "      <td>4602.240</td>\n",
       "      <td>7.99</td>\n",
       "      <td>Penguin Group (USA) LLC</td>\n",
       "      <td>960</td>\n",
       "    </tr>\n",
       "    <tr>\n",
       "      <th>186</th>\n",
       "      <td>2012.0</td>\n",
       "      <td>NaN</td>\n",
       "      <td>Kate Egan</td>\n",
       "      <td>4.51</td>\n",
       "      <td>119915</td>\n",
       "      <td>genre fiction</td>\n",
       "      <td>2950.91</td>\n",
       "      <td>1770.546</td>\n",
       "      <td>6.01</td>\n",
       "      <td>HarperCollins Publishers</td>\n",
       "      <td>491</td>\n",
       "    </tr>\n",
       "    <tr>\n",
       "      <th>190</th>\n",
       "      <td>2013.0</td>\n",
       "      <td>NaN</td>\n",
       "      <td>Allie Brosh</td>\n",
       "      <td>4.17</td>\n",
       "      <td>118910</td>\n",
       "      <td>genre fiction</td>\n",
       "      <td>5269.53</td>\n",
       "      <td>3161.718</td>\n",
       "      <td>10.91</td>\n",
       "      <td>Penguin Group (USA) LLC</td>\n",
       "      <td>483</td>\n",
       "    </tr>\n",
       "    <tr>\n",
       "      <th>245</th>\n",
       "      <td>1997.0</td>\n",
       "      <td>NaN</td>\n",
       "      <td>Phaidon Press</td>\n",
       "      <td>3.79</td>\n",
       "      <td>102746</td>\n",
       "      <td>genre fiction</td>\n",
       "      <td>3060.17</td>\n",
       "      <td>1836.102</td>\n",
       "      <td>7.99</td>\n",
       "      <td>Penguin Group (USA) LLC</td>\n",
       "      <td>383</td>\n",
       "    </tr>\n",
       "    <tr>\n",
       "      <th>312</th>\n",
       "      <td>2012.0</td>\n",
       "      <td>NaN</td>\n",
       "      <td>E.L. James</td>\n",
       "      <td>4.13</td>\n",
       "      <td>76876</td>\n",
       "      <td>genre fiction</td>\n",
       "      <td>1387.22</td>\n",
       "      <td>0.000</td>\n",
       "      <td>4.99</td>\n",
       "      <td>Amazon Digital Services,  Inc.</td>\n",
       "      <td>278</td>\n",
       "    </tr>\n",
       "    <tr>\n",
       "      <th>359</th>\n",
       "      <td>1953.0</td>\n",
       "      <td>NaN</td>\n",
       "      <td>Isaac Asimov</td>\n",
       "      <td>4.23</td>\n",
       "      <td>96865</td>\n",
       "      <td>nonfiction</td>\n",
       "      <td>690.69</td>\n",
       "      <td>414.414</td>\n",
       "      <td>2.99</td>\n",
       "      <td>HarperCollins Publishers</td>\n",
       "      <td>6237</td>\n",
       "    </tr>\n",
       "    <tr>\n",
       "      <th>440</th>\n",
       "      <td>1995.0</td>\n",
       "      <td>NaN</td>\n",
       "      <td>Marcus Pfister, J. Alison James</td>\n",
       "      <td>4.15</td>\n",
       "      <td>95421</td>\n",
       "      <td>genre fiction</td>\n",
       "      <td>903.19</td>\n",
       "      <td>0.000</td>\n",
       "      <td>4.99</td>\n",
       "      <td>Amazon Digital Services,  Inc.</td>\n",
       "      <td>4887</td>\n",
       "    </tr>\n",
       "    <tr>\n",
       "      <th>445</th>\n",
       "      <td>NaN</td>\n",
       "      <td>NaN</td>\n",
       "      <td>Robert Kapilow, Dr. Seuss</td>\n",
       "      <td>4.44</td>\n",
       "      <td>90574</td>\n",
       "      <td>nonfiction</td>\n",
       "      <td>532.22</td>\n",
       "      <td>319.332</td>\n",
       "      <td>2.99</td>\n",
       "      <td>Hachette Book Group</td>\n",
       "      <td>4806</td>\n",
       "    </tr>\n",
       "    <tr>\n",
       "      <th>492</th>\n",
       "      <td>1994.0</td>\n",
       "      <td>NaN</td>\n",
       "      <td>Robert Jordan</td>\n",
       "      <td>4.10</td>\n",
       "      <td>91046</td>\n",
       "      <td>fiction</td>\n",
       "      <td>823.35</td>\n",
       "      <td>494.010</td>\n",
       "      <td>4.99</td>\n",
       "      <td>Hachette Book Group</td>\n",
       "      <td>4455</td>\n",
       "    </tr>\n",
       "    <tr>\n",
       "      <th>743</th>\n",
       "      <td>1986.0</td>\n",
       "      <td>NaN</td>\n",
       "      <td>Clement C. Moore, Jan Brett</td>\n",
       "      <td>4.36</td>\n",
       "      <td>81553</td>\n",
       "      <td>genre fiction</td>\n",
       "      <td>466.83</td>\n",
       "      <td>0.000</td>\n",
       "      <td>3.99</td>\n",
       "      <td>Amazon Digital Services,  Inc.</td>\n",
       "      <td>32184</td>\n",
       "    </tr>\n",
       "    <tr>\n",
       "      <th>824</th>\n",
       "      <td>2012.0</td>\n",
       "      <td>NaN</td>\n",
       "      <td>Emily Seife</td>\n",
       "      <td>4.40</td>\n",
       "      <td>67264</td>\n",
       "      <td>genre fiction</td>\n",
       "      <td>340.86</td>\n",
       "      <td>0.000</td>\n",
       "      <td>2.99</td>\n",
       "      <td>Amazon Digital Services,  Inc.</td>\n",
       "      <td>2889</td>\n",
       "    </tr>\n",
       "    <tr>\n",
       "      <th>826</th>\n",
       "      <td>1678.0</td>\n",
       "      <td>NaN</td>\n",
       "      <td>John Bunyan</td>\n",
       "      <td>3.98</td>\n",
       "      <td>67777</td>\n",
       "      <td>genre fiction</td>\n",
       "      <td>856.14</td>\n",
       "      <td>513.684</td>\n",
       "      <td>7.51</td>\n",
       "      <td>Penguin Group (USA) LLC</td>\n",
       "      <td>2889</td>\n",
       "    </tr>\n",
       "    <tr>\n",
       "      <th>831</th>\n",
       "      <td>2000.0</td>\n",
       "      <td>NaN</td>\n",
       "      <td>Robert Jordan</td>\n",
       "      <td>3.92</td>\n",
       "      <td>71355</td>\n",
       "      <td>fiction</td>\n",
       "      <td>597.36</td>\n",
       "      <td>358.416</td>\n",
       "      <td>5.24</td>\n",
       "      <td>Amazon Digital Services,  Inc.</td>\n",
       "      <td>2889</td>\n",
       "    </tr>\n",
       "    <tr>\n",
       "      <th>839</th>\n",
       "      <td>2006.0</td>\n",
       "      <td>NaN</td>\n",
       "      <td>Alison Bechdel</td>\n",
       "      <td>4.12</td>\n",
       "      <td>48305</td>\n",
       "      <td>genre fiction</td>\n",
       "      <td>902.87</td>\n",
       "      <td>541.722</td>\n",
       "      <td>7.99</td>\n",
       "      <td>Hachette Book Group</td>\n",
       "      <td>2889</td>\n",
       "    </tr>\n",
       "    <tr>\n",
       "      <th>852</th>\n",
       "      <td>1978.0</td>\n",
       "      <td>NaN</td>\n",
       "      <td>Louis Sachar, Adam McCauley</td>\n",
       "      <td>4.14</td>\n",
       "      <td>74121</td>\n",
       "      <td>genre fiction</td>\n",
       "      <td>864.45</td>\n",
       "      <td>518.670</td>\n",
       "      <td>7.65</td>\n",
       "      <td>Penguin Group (USA) LLC</td>\n",
       "      <td>2862</td>\n",
       "    </tr>\n",
       "    <tr>\n",
       "      <th>856</th>\n",
       "      <td>2010.0</td>\n",
       "      <td>NaN</td>\n",
       "      <td>L.J. Smith, Kevin Williamson, Julie Plec</td>\n",
       "      <td>4.10</td>\n",
       "      <td>59715</td>\n",
       "      <td>genre fiction</td>\n",
       "      <td>337.87</td>\n",
       "      <td>0.000</td>\n",
       "      <td>2.99</td>\n",
       "      <td>Amazon Digital Services,  Inc.</td>\n",
       "      <td>2862</td>\n",
       "    </tr>\n",
       "    <tr>\n",
       "      <th>888</th>\n",
       "      <td>2009.0</td>\n",
       "      <td>NaN</td>\n",
       "      <td>Roberto Aguirre-Sacasa, Stephen King, Mike Per...</td>\n",
       "      <td>4.43</td>\n",
       "      <td>57279</td>\n",
       "      <td>genre fiction</td>\n",
       "      <td>838.88</td>\n",
       "      <td>503.328</td>\n",
       "      <td>7.49</td>\n",
       "      <td>Penguin Group (USA) LLC</td>\n",
       "      <td>4440</td>\n",
       "    </tr>\n",
       "    <tr>\n",
       "      <th>898</th>\n",
       "      <td>2008.0</td>\n",
       "      <td>NaN</td>\n",
       "      <td>Brent Weeks</td>\n",
       "      <td>4.29</td>\n",
       "      <td>64961</td>\n",
       "      <td>fiction</td>\n",
       "      <td>442.89</td>\n",
       "      <td>0.000</td>\n",
       "      <td>3.99</td>\n",
       "      <td>Amazon Digital Services,  Inc.</td>\n",
       "      <td>4400</td>\n",
       "    </tr>\n",
       "    <tr>\n",
       "      <th>958</th>\n",
       "      <td>1937.0</td>\n",
       "      <td>NaN</td>\n",
       "      <td>Laura Ingalls Wilder, Garth Williams</td>\n",
       "      <td>4.19</td>\n",
       "      <td>74666</td>\n",
       "      <td>genre fiction</td>\n",
       "      <td>516.66</td>\n",
       "      <td>309.996</td>\n",
       "      <td>4.74</td>\n",
       "      <td>HarperCollins Publishers</td>\n",
       "      <td>4280</td>\n",
       "    </tr>\n",
       "    <tr>\n",
       "      <th>968</th>\n",
       "      <td>2016.0</td>\n",
       "      <td>NaN</td>\n",
       "      <td>Jodi Picoult</td>\n",
       "      <td>4.35</td>\n",
       "      <td>73745</td>\n",
       "      <td>genre fiction</td>\n",
       "      <td>1306.91</td>\n",
       "      <td>784.146</td>\n",
       "      <td>11.99</td>\n",
       "      <td>Penguin Group (USA) LLC</td>\n",
       "      <td>4240</td>\n",
       "    </tr>\n",
       "    <tr>\n",
       "      <th>1031</th>\n",
       "      <td>2015.0</td>\n",
       "      <td>NaN</td>\n",
       "      <td>Colleen Hoover</td>\n",
       "      <td>4.25</td>\n",
       "      <td>72611</td>\n",
       "      <td>nonfiction</td>\n",
       "      <td>1175.93</td>\n",
       "      <td>705.558</td>\n",
       "      <td>10.99</td>\n",
       "      <td>Amazon Digital Services,  Inc.</td>\n",
       "      <td>107</td>\n",
       "    </tr>\n",
       "  </tbody>\n",
       "</table>\n",
       "</div>"
      ],
      "text/plain": [
       "      publishing_year book_name  \\\n",
       "24             1996.0       NaN   \n",
       "34             2007.0       NaN   \n",
       "105            2011.0       NaN   \n",
       "186            2012.0       NaN   \n",
       "190            2013.0       NaN   \n",
       "245            1997.0       NaN   \n",
       "312            2012.0       NaN   \n",
       "359            1953.0       NaN   \n",
       "440            1995.0       NaN   \n",
       "445               NaN       NaN   \n",
       "492            1994.0       NaN   \n",
       "743            1986.0       NaN   \n",
       "824            2012.0       NaN   \n",
       "826            1678.0       NaN   \n",
       "831            2000.0       NaN   \n",
       "839            2006.0       NaN   \n",
       "852            1978.0       NaN   \n",
       "856            2010.0       NaN   \n",
       "888            2009.0       NaN   \n",
       "898            2008.0       NaN   \n",
       "958            1937.0       NaN   \n",
       "968            2016.0       NaN   \n",
       "1031           2015.0       NaN   \n",
       "\n",
       "                                                 author  book_average_rating  \\\n",
       "24                 Kenneth Branagh, William Shakespeare                 4.12   \n",
       "34                                    Brandon Sanderson                 4.35   \n",
       "105                                      Mark Cotta Vaz                 4.30   \n",
       "186                                           Kate Egan                 4.51   \n",
       "190                                         Allie Brosh                 4.17   \n",
       "245                                       Phaidon Press                 3.79   \n",
       "312                                          E.L. James                 4.13   \n",
       "359                                        Isaac Asimov                 4.23   \n",
       "440                     Marcus Pfister, J. Alison James                 4.15   \n",
       "445                           Robert Kapilow, Dr. Seuss                 4.44   \n",
       "492                                       Robert Jordan                 4.10   \n",
       "743                         Clement C. Moore, Jan Brett                 4.36   \n",
       "824                                         Emily Seife                 4.40   \n",
       "826                                         John Bunyan                 3.98   \n",
       "831                                       Robert Jordan                 3.92   \n",
       "839                                      Alison Bechdel                 4.12   \n",
       "852                         Louis Sachar, Adam McCauley                 4.14   \n",
       "856            L.J. Smith, Kevin Williamson, Julie Plec                 4.10   \n",
       "888   Roberto Aguirre-Sacasa, Stephen King, Mike Per...                 4.43   \n",
       "898                                         Brent Weeks                 4.29   \n",
       "958                Laura Ingalls Wilder, Garth Williams                 4.19   \n",
       "968                                        Jodi Picoult                 4.35   \n",
       "1031                                     Colleen Hoover                 4.25   \n",
       "\n",
       "      book_ratings_count          genre  gross_sales  publisher_revenue  \\\n",
       "24                156869  genre fiction      2639.34           1583.604   \n",
       "34                150736  genre fiction     17980.00          10788.000   \n",
       "105               188136  genre fiction      7670.40           4602.240   \n",
       "186               119915  genre fiction      2950.91           1770.546   \n",
       "190               118910  genre fiction      5269.53           3161.718   \n",
       "245               102746  genre fiction      3060.17           1836.102   \n",
       "312                76876  genre fiction      1387.22              0.000   \n",
       "359                96865     nonfiction       690.69            414.414   \n",
       "440                95421  genre fiction       903.19              0.000   \n",
       "445                90574     nonfiction       532.22            319.332   \n",
       "492                91046        fiction       823.35            494.010   \n",
       "743                81553  genre fiction       466.83              0.000   \n",
       "824                67264  genre fiction       340.86              0.000   \n",
       "826                67777  genre fiction       856.14            513.684   \n",
       "831                71355        fiction       597.36            358.416   \n",
       "839                48305  genre fiction       902.87            541.722   \n",
       "852                74121  genre fiction       864.45            518.670   \n",
       "856                59715  genre fiction       337.87              0.000   \n",
       "888                57279  genre fiction       838.88            503.328   \n",
       "898                64961        fiction       442.89              0.000   \n",
       "958                74666  genre fiction       516.66            309.996   \n",
       "968                73745  genre fiction      1306.91            784.146   \n",
       "1031               72611     nonfiction      1175.93            705.558   \n",
       "\n",
       "      sales_price                       publisher  units_sold  \n",
       "24           0.99  Amazon Digital Services,  Inc.        2666  \n",
       "34           8.99                Random House LLC        2000  \n",
       "105          7.99         Penguin Group (USA) LLC         960  \n",
       "186          6.01        HarperCollins Publishers         491  \n",
       "190         10.91         Penguin Group (USA) LLC         483  \n",
       "245          7.99         Penguin Group (USA) LLC         383  \n",
       "312          4.99  Amazon Digital Services,  Inc.         278  \n",
       "359          2.99        HarperCollins Publishers        6237  \n",
       "440          4.99  Amazon Digital Services,  Inc.        4887  \n",
       "445          2.99             Hachette Book Group        4806  \n",
       "492          4.99             Hachette Book Group        4455  \n",
       "743          3.99  Amazon Digital Services,  Inc.       32184  \n",
       "824          2.99  Amazon Digital Services,  Inc.        2889  \n",
       "826          7.51         Penguin Group (USA) LLC        2889  \n",
       "831          5.24  Amazon Digital Services,  Inc.        2889  \n",
       "839          7.99             Hachette Book Group        2889  \n",
       "852          7.65         Penguin Group (USA) LLC        2862  \n",
       "856          2.99  Amazon Digital Services,  Inc.        2862  \n",
       "888          7.49         Penguin Group (USA) LLC        4440  \n",
       "898          3.99  Amazon Digital Services,  Inc.        4400  \n",
       "958          4.74        HarperCollins Publishers        4280  \n",
       "968         11.99         Penguin Group (USA) LLC        4240  \n",
       "1031        10.99  Amazon Digital Services,  Inc.         107  "
      ]
     },
     "execution_count": 61,
     "metadata": {},
     "output_type": "execute_result"
    }
   ],
   "source": [
    "df[df['book_name'].isna()]"
   ]
  },
  {
   "cell_type": "markdown",
   "metadata": {},
   "source": [
    "I fill in missing names with 'Unknown'."
   ]
  },
  {
   "cell_type": "code",
   "execution_count": 62,
   "metadata": {},
   "outputs": [],
   "source": [
    "df['book_name'].fillna('Unknown',inplace=True)"
   ]
  },
  {
   "cell_type": "markdown",
   "metadata": {},
   "source": [
    "I check for duplicate rows."
   ]
  },
  {
   "cell_type": "code",
   "execution_count": 63,
   "metadata": {},
   "outputs": [
    {
     "data": {
      "text/plain": [
       "0"
      ]
     },
     "execution_count": 63,
     "metadata": {},
     "output_type": "execute_result"
    }
   ],
   "source": [
    "df.duplicated().sum()"
   ]
  },
  {
   "cell_type": "markdown",
   "metadata": {},
   "source": [
    "I check for duplicate book names that are not unknown. Since the duplicate names have different authors and years, I leave them as they are probably different editions but different books."
   ]
  },
  {
   "cell_type": "code",
   "execution_count": 64,
   "metadata": {},
   "outputs": [
    {
     "data": {
      "text/html": [
       "<div>\n",
       "<style scoped>\n",
       "    .dataframe tbody tr th:only-of-type {\n",
       "        vertical-align: middle;\n",
       "    }\n",
       "\n",
       "    .dataframe tbody tr th {\n",
       "        vertical-align: top;\n",
       "    }\n",
       "\n",
       "    .dataframe thead th {\n",
       "        text-align: right;\n",
       "    }\n",
       "</style>\n",
       "<table border=\"1\" class=\"dataframe\">\n",
       "  <thead>\n",
       "    <tr style=\"text-align: right;\">\n",
       "      <th></th>\n",
       "      <th>publishing_year</th>\n",
       "      <th>book_name</th>\n",
       "      <th>author</th>\n",
       "      <th>book_average_rating</th>\n",
       "      <th>book_ratings_count</th>\n",
       "      <th>genre</th>\n",
       "      <th>gross_sales</th>\n",
       "      <th>publisher_revenue</th>\n",
       "      <th>sales_price</th>\n",
       "      <th>publisher</th>\n",
       "      <th>units_sold</th>\n",
       "    </tr>\n",
       "  </thead>\n",
       "  <tbody>\n",
       "    <tr>\n",
       "      <th>251</th>\n",
       "      <td>1899.0</td>\n",
       "      <td>The Awakening</td>\n",
       "      <td>Kate Chopin</td>\n",
       "      <td>3.63</td>\n",
       "      <td>125474</td>\n",
       "      <td>genre fiction</td>\n",
       "      <td>371.25</td>\n",
       "      <td>0.000</td>\n",
       "      <td>0.99</td>\n",
       "      <td>Amazon Digital Services,  Inc.</td>\n",
       "      <td>375</td>\n",
       "    </tr>\n",
       "    <tr>\n",
       "      <th>297</th>\n",
       "      <td>2000.0</td>\n",
       "      <td>Persepolis</td>\n",
       "      <td>Marjane Satrapi, Mattias Ripa</td>\n",
       "      <td>4.23</td>\n",
       "      <td>117103</td>\n",
       "      <td>genre fiction</td>\n",
       "      <td>1487.02</td>\n",
       "      <td>892.212</td>\n",
       "      <td>4.99</td>\n",
       "      <td>Random House LLC</td>\n",
       "      <td>298</td>\n",
       "    </tr>\n",
       "    <tr>\n",
       "      <th>696</th>\n",
       "      <td>2009.0</td>\n",
       "      <td>The Awakening</td>\n",
       "      <td>Kelley Armstrong</td>\n",
       "      <td>4.16</td>\n",
       "      <td>95026</td>\n",
       "      <td>genre fiction</td>\n",
       "      <td>761.10</td>\n",
       "      <td>456.660</td>\n",
       "      <td>6.45</td>\n",
       "      <td>Simon and Schuster Digital Sales Inc</td>\n",
       "      <td>36072</td>\n",
       "    </tr>\n",
       "    <tr>\n",
       "      <th>933</th>\n",
       "      <td>2003.0</td>\n",
       "      <td>Persepolis</td>\n",
       "      <td>Marjane Satrapi, Mattias Ripa, Blake Ferris, A...</td>\n",
       "      <td>4.36</td>\n",
       "      <td>71353</td>\n",
       "      <td>nonfiction</td>\n",
       "      <td>108.90</td>\n",
       "      <td>0.000</td>\n",
       "      <td>0.99</td>\n",
       "      <td>Amazon Digital Services,  Inc.</td>\n",
       "      <td>4320</td>\n",
       "    </tr>\n",
       "  </tbody>\n",
       "</table>\n",
       "</div>"
      ],
      "text/plain": [
       "     publishing_year      book_name  \\\n",
       "251           1899.0  The Awakening   \n",
       "297           2000.0     Persepolis   \n",
       "696           2009.0  The Awakening   \n",
       "933           2003.0     Persepolis   \n",
       "\n",
       "                                                author  book_average_rating  \\\n",
       "251                                        Kate Chopin                 3.63   \n",
       "297                      Marjane Satrapi, Mattias Ripa                 4.23   \n",
       "696                                   Kelley Armstrong                 4.16   \n",
       "933  Marjane Satrapi, Mattias Ripa, Blake Ferris, A...                 4.36   \n",
       "\n",
       "     book_ratings_count          genre  gross_sales  publisher_revenue  \\\n",
       "251              125474  genre fiction       371.25              0.000   \n",
       "297              117103  genre fiction      1487.02            892.212   \n",
       "696               95026  genre fiction       761.10            456.660   \n",
       "933               71353     nonfiction       108.90              0.000   \n",
       "\n",
       "     sales_price                             publisher  units_sold  \n",
       "251         0.99        Amazon Digital Services,  Inc.         375  \n",
       "297         4.99                      Random House LLC         298  \n",
       "696         6.45  Simon and Schuster Digital Sales Inc       36072  \n",
       "933         0.99        Amazon Digital Services,  Inc.        4320  "
      ]
     },
     "execution_count": 64,
     "metadata": {},
     "output_type": "execute_result"
    }
   ],
   "source": [
    "df[(df.duplicated(subset='book_name',keep=False))&(df['book_name'] != 'Unknown')]"
   ]
  },
  {
   "cell_type": "code",
   "execution_count": 65,
   "metadata": {},
   "outputs": [
    {
     "data": {
      "text/html": [
       "<div>\n",
       "<style scoped>\n",
       "    .dataframe tbody tr th:only-of-type {\n",
       "        vertical-align: middle;\n",
       "    }\n",
       "\n",
       "    .dataframe tbody tr th {\n",
       "        vertical-align: top;\n",
       "    }\n",
       "\n",
       "    .dataframe thead th {\n",
       "        text-align: right;\n",
       "    }\n",
       "</style>\n",
       "<table border=\"1\" class=\"dataframe\">\n",
       "  <thead>\n",
       "    <tr style=\"text-align: right;\">\n",
       "      <th></th>\n",
       "      <th>publishing_year</th>\n",
       "      <th>book_name</th>\n",
       "      <th>author</th>\n",
       "      <th>book_average_rating</th>\n",
       "      <th>book_ratings_count</th>\n",
       "      <th>genre</th>\n",
       "      <th>gross_sales</th>\n",
       "      <th>publisher_revenue</th>\n",
       "      <th>sales_price</th>\n",
       "      <th>publisher</th>\n",
       "      <th>units_sold</th>\n",
       "    </tr>\n",
       "  </thead>\n",
       "  <tbody>\n",
       "    <tr>\n",
       "      <th>186</th>\n",
       "      <td>2012.0</td>\n",
       "      <td>Unknown</td>\n",
       "      <td>Kate Egan</td>\n",
       "      <td>4.51</td>\n",
       "      <td>119915</td>\n",
       "      <td>genre fiction</td>\n",
       "      <td>2950.91</td>\n",
       "      <td>1770.546</td>\n",
       "      <td>6.01</td>\n",
       "      <td>HarperCollins Publishers</td>\n",
       "      <td>491</td>\n",
       "    </tr>\n",
       "    <tr>\n",
       "      <th>312</th>\n",
       "      <td>2012.0</td>\n",
       "      <td>Unknown</td>\n",
       "      <td>E.L. James</td>\n",
       "      <td>4.13</td>\n",
       "      <td>76876</td>\n",
       "      <td>genre fiction</td>\n",
       "      <td>1387.22</td>\n",
       "      <td>0.000</td>\n",
       "      <td>4.99</td>\n",
       "      <td>Amazon Digital Services,  Inc.</td>\n",
       "      <td>278</td>\n",
       "    </tr>\n",
       "    <tr>\n",
       "      <th>824</th>\n",
       "      <td>2012.0</td>\n",
       "      <td>Unknown</td>\n",
       "      <td>Emily Seife</td>\n",
       "      <td>4.40</td>\n",
       "      <td>67264</td>\n",
       "      <td>genre fiction</td>\n",
       "      <td>340.86</td>\n",
       "      <td>0.000</td>\n",
       "      <td>2.99</td>\n",
       "      <td>Amazon Digital Services,  Inc.</td>\n",
       "      <td>2889</td>\n",
       "    </tr>\n",
       "  </tbody>\n",
       "</table>\n",
       "</div>"
      ],
      "text/plain": [
       "     publishing_year book_name       author  book_average_rating  \\\n",
       "186           2012.0   Unknown    Kate Egan                 4.51   \n",
       "312           2012.0   Unknown   E.L. James                 4.13   \n",
       "824           2012.0   Unknown  Emily Seife                 4.40   \n",
       "\n",
       "     book_ratings_count          genre  gross_sales  publisher_revenue  \\\n",
       "186              119915  genre fiction      2950.91           1770.546   \n",
       "312               76876  genre fiction      1387.22              0.000   \n",
       "824               67264  genre fiction       340.86              0.000   \n",
       "\n",
       "     sales_price                       publisher  units_sold  \n",
       "186         6.01        HarperCollins Publishers         491  \n",
       "312         4.99  Amazon Digital Services,  Inc.         278  \n",
       "824         2.99  Amazon Digital Services,  Inc.        2889  "
      ]
     },
     "execution_count": 65,
     "metadata": {},
     "output_type": "execute_result"
    }
   ],
   "source": [
    "df[df.duplicated(subset=['publishing_year','book_name'],keep=False)]"
   ]
  },
  {
   "cell_type": "code",
   "execution_count": 66,
   "metadata": {},
   "outputs": [
    {
     "data": {
      "text/html": [
       "<div>\n",
       "<style scoped>\n",
       "    .dataframe tbody tr th:only-of-type {\n",
       "        vertical-align: middle;\n",
       "    }\n",
       "\n",
       "    .dataframe tbody tr th {\n",
       "        vertical-align: top;\n",
       "    }\n",
       "\n",
       "    .dataframe thead th {\n",
       "        text-align: right;\n",
       "    }\n",
       "</style>\n",
       "<table border=\"1\" class=\"dataframe\">\n",
       "  <thead>\n",
       "    <tr style=\"text-align: right;\">\n",
       "      <th></th>\n",
       "      <th>publishing_year</th>\n",
       "      <th>book_name</th>\n",
       "      <th>author</th>\n",
       "      <th>book_average_rating</th>\n",
       "      <th>book_ratings_count</th>\n",
       "      <th>genre</th>\n",
       "      <th>gross_sales</th>\n",
       "      <th>publisher_revenue</th>\n",
       "      <th>sales_price</th>\n",
       "      <th>publisher</th>\n",
       "      <th>units_sold</th>\n",
       "    </tr>\n",
       "  </thead>\n",
       "  <tbody>\n",
       "    <tr>\n",
       "      <th>8</th>\n",
       "      <td>2012.0</td>\n",
       "      <td>Hopeless</td>\n",
       "      <td>Colleen Hoover</td>\n",
       "      <td>4.34</td>\n",
       "      <td>189938</td>\n",
       "      <td>genre fiction</td>\n",
       "      <td>26093.67</td>\n",
       "      <td>15656.202</td>\n",
       "      <td>6.99</td>\n",
       "      <td>HarperCollins Publishers</td>\n",
       "      <td>3733</td>\n",
       "    </tr>\n",
       "    <tr>\n",
       "      <th>40</th>\n",
       "      <td>2003.0</td>\n",
       "      <td>The Guardian</td>\n",
       "      <td>Nicholas Sparks</td>\n",
       "      <td>4.14</td>\n",
       "      <td>136427</td>\n",
       "      <td>genre fiction</td>\n",
       "      <td>1873.08</td>\n",
       "      <td>0.000</td>\n",
       "      <td>0.99</td>\n",
       "      <td>Amazon Digital Services,  Inc.</td>\n",
       "      <td>1892</td>\n",
       "    </tr>\n",
       "    <tr>\n",
       "      <th>81</th>\n",
       "      <td>1987.0</td>\n",
       "      <td>The Drawing of the Three</td>\n",
       "      <td>Stephen King</td>\n",
       "      <td>4.23</td>\n",
       "      <td>139052</td>\n",
       "      <td>nonfiction</td>\n",
       "      <td>2539.24</td>\n",
       "      <td>1523.544</td>\n",
       "      <td>1.99</td>\n",
       "      <td>HarperCollins Publishers</td>\n",
       "      <td>1276</td>\n",
       "    </tr>\n",
       "    <tr>\n",
       "      <th>92</th>\n",
       "      <td>2014.0</td>\n",
       "      <td>Mr. Mercedes</td>\n",
       "      <td>Stephen King</td>\n",
       "      <td>3.92</td>\n",
       "      <td>125847</td>\n",
       "      <td>genre fiction</td>\n",
       "      <td>2202.93</td>\n",
       "      <td>1321.758</td>\n",
       "      <td>1.99</td>\n",
       "      <td>Macmillan</td>\n",
       "      <td>1107</td>\n",
       "    </tr>\n",
       "    <tr>\n",
       "      <th>112</th>\n",
       "      <td>2008.0</td>\n",
       "      <td>Chosen: A House of Night Novel</td>\n",
       "      <td>P.C. Cast, Kristin Cast</td>\n",
       "      <td>3.90</td>\n",
       "      <td>180961</td>\n",
       "      <td>fiction</td>\n",
       "      <td>7759.20</td>\n",
       "      <td>4655.520</td>\n",
       "      <td>8.48</td>\n",
       "      <td>Amazon Digital Services,  Inc.</td>\n",
       "      <td>915</td>\n",
       "    </tr>\n",
       "    <tr>\n",
       "      <th>...</th>\n",
       "      <td>...</td>\n",
       "      <td>...</td>\n",
       "      <td>...</td>\n",
       "      <td>...</td>\n",
       "      <td>...</td>\n",
       "      <td>...</td>\n",
       "      <td>...</td>\n",
       "      <td>...</td>\n",
       "      <td>...</td>\n",
       "      <td>...</td>\n",
       "      <td>...</td>\n",
       "    </tr>\n",
       "    <tr>\n",
       "      <th>948</th>\n",
       "      <td>2004.0</td>\n",
       "      <td>Furies of Calderon</td>\n",
       "      <td>Jim Butcher</td>\n",
       "      <td>4.12</td>\n",
       "      <td>70269</td>\n",
       "      <td>genre fiction</td>\n",
       "      <td>108.90</td>\n",
       "      <td>0.000</td>\n",
       "      <td>0.99</td>\n",
       "      <td>Amazon Digital Services,  Inc.</td>\n",
       "      <td>4280</td>\n",
       "    </tr>\n",
       "    <tr>\n",
       "      <th>967</th>\n",
       "      <td>1999.0</td>\n",
       "      <td>Hearts in Atlantis</td>\n",
       "      <td>Stephen King</td>\n",
       "      <td>3.80</td>\n",
       "      <td>65063</td>\n",
       "      <td>genre fiction</td>\n",
       "      <td>216.91</td>\n",
       "      <td>130.146</td>\n",
       "      <td>1.99</td>\n",
       "      <td>Macmillan</td>\n",
       "      <td>4240</td>\n",
       "    </tr>\n",
       "    <tr>\n",
       "      <th>1004</th>\n",
       "      <td>2006.0</td>\n",
       "      <td>Saving The World and Other Extreme Sports</td>\n",
       "      <td>James Patterson</td>\n",
       "      <td>4.16</td>\n",
       "      <td>75436</td>\n",
       "      <td>genre fiction</td>\n",
       "      <td>748.44</td>\n",
       "      <td>449.064</td>\n",
       "      <td>6.93</td>\n",
       "      <td>Hachette Book Group</td>\n",
       "      <td>108</td>\n",
       "    </tr>\n",
       "    <tr>\n",
       "      <th>1025</th>\n",
       "      <td>2012.0</td>\n",
       "      <td>Opal</td>\n",
       "      <td>Jennifer L. Armentrout</td>\n",
       "      <td>4.34</td>\n",
       "      <td>92014</td>\n",
       "      <td>genre fiction</td>\n",
       "      <td>105.93</td>\n",
       "      <td>0.000</td>\n",
       "      <td>0.99</td>\n",
       "      <td>Amazon Digital Services,  Inc.</td>\n",
       "      <td>107</td>\n",
       "    </tr>\n",
       "    <tr>\n",
       "      <th>1047</th>\n",
       "      <td>1987.0</td>\n",
       "      <td>Intensity</td>\n",
       "      <td>Dean Koontz</td>\n",
       "      <td>4.04</td>\n",
       "      <td>58062</td>\n",
       "      <td>genre fiction</td>\n",
       "      <td>104.94</td>\n",
       "      <td>0.000</td>\n",
       "      <td>0.99</td>\n",
       "      <td>Amazon Digital Services,  Inc.</td>\n",
       "      <td>106</td>\n",
       "    </tr>\n",
       "  </tbody>\n",
       "</table>\n",
       "<p>66 rows × 11 columns</p>\n",
       "</div>"
      ],
      "text/plain": [
       "      publishing_year                                  book_name  \\\n",
       "8              2012.0                                   Hopeless   \n",
       "40             2003.0                               The Guardian   \n",
       "81             1987.0                   The Drawing of the Three   \n",
       "92             2014.0                               Mr. Mercedes   \n",
       "112            2008.0             Chosen: A House of Night Novel   \n",
       "...               ...                                        ...   \n",
       "948            2004.0                        Furies of Calderon    \n",
       "967            1999.0                         Hearts in Atlantis   \n",
       "1004           2006.0  Saving The World and Other Extreme Sports   \n",
       "1025           2012.0                                       Opal   \n",
       "1047           1987.0                                  Intensity   \n",
       "\n",
       "                       author  book_average_rating  book_ratings_count  \\\n",
       "8              Colleen Hoover                 4.34              189938   \n",
       "40            Nicholas Sparks                 4.14              136427   \n",
       "81               Stephen King                 4.23              139052   \n",
       "92               Stephen King                 3.92              125847   \n",
       "112   P.C. Cast, Kristin Cast                 3.90              180961   \n",
       "...                       ...                  ...                 ...   \n",
       "948               Jim Butcher                 4.12               70269   \n",
       "967              Stephen King                 3.80               65063   \n",
       "1004          James Patterson                 4.16               75436   \n",
       "1025   Jennifer L. Armentrout                 4.34               92014   \n",
       "1047              Dean Koontz                 4.04               58062   \n",
       "\n",
       "              genre  gross_sales  publisher_revenue  sales_price  \\\n",
       "8     genre fiction     26093.67          15656.202         6.99   \n",
       "40    genre fiction      1873.08              0.000         0.99   \n",
       "81       nonfiction      2539.24           1523.544         1.99   \n",
       "92    genre fiction      2202.93           1321.758         1.99   \n",
       "112         fiction      7759.20           4655.520         8.48   \n",
       "...             ...          ...                ...          ...   \n",
       "948   genre fiction       108.90              0.000         0.99   \n",
       "967   genre fiction       216.91            130.146         1.99   \n",
       "1004  genre fiction       748.44            449.064         6.93   \n",
       "1025  genre fiction       105.93              0.000         0.99   \n",
       "1047  genre fiction       104.94              0.000         0.99   \n",
       "\n",
       "                           publisher  units_sold  \n",
       "8           HarperCollins Publishers        3733  \n",
       "40    Amazon Digital Services,  Inc.        1892  \n",
       "81          HarperCollins Publishers        1276  \n",
       "92                         Macmillan        1107  \n",
       "112   Amazon Digital Services,  Inc.         915  \n",
       "...                              ...         ...  \n",
       "948   Amazon Digital Services,  Inc.        4280  \n",
       "967                        Macmillan        4240  \n",
       "1004             Hachette Book Group         108  \n",
       "1025  Amazon Digital Services,  Inc.         107  \n",
       "1047  Amazon Digital Services,  Inc.         106  \n",
       "\n",
       "[66 rows x 11 columns]"
      ]
     },
     "execution_count": 66,
     "metadata": {},
     "output_type": "execute_result"
    }
   ],
   "source": [
    "df[df.duplicated(subset=['publishing_year','author'],keep=False)]"
   ]
  },
  {
   "cell_type": "markdown",
   "metadata": {},
   "source": [
    "To get rid of the redundant 'genre fiction, I replace 'genre fiction' with 'fiction'."
   ]
  },
  {
   "cell_type": "code",
   "execution_count": 67,
   "metadata": {},
   "outputs": [],
   "source": [
    "df['genre'].replace('genre fiction','fiction',inplace=True)"
   ]
  },
  {
   "cell_type": "markdown",
   "metadata": {},
   "source": [
    "Now that the data has been checked for duplicates and missing values, I move on to some basic analysis. To begin, I want to compare see how many books of each genre are in the dataset."
   ]
  },
  {
   "cell_type": "code",
   "execution_count": 68,
   "metadata": {},
   "outputs": [
    {
     "data": {
      "text/html": [
       "<div>\n",
       "<style scoped>\n",
       "    .dataframe tbody tr th:only-of-type {\n",
       "        vertical-align: middle;\n",
       "    }\n",
       "\n",
       "    .dataframe tbody tr th {\n",
       "        vertical-align: top;\n",
       "    }\n",
       "\n",
       "    .dataframe thead th {\n",
       "        text-align: right;\n",
       "    }\n",
       "</style>\n",
       "<table border=\"1\" class=\"dataframe\">\n",
       "  <thead>\n",
       "    <tr style=\"text-align: right;\">\n",
       "      <th></th>\n",
       "      <th>genre</th>\n",
       "      <th>Count</th>\n",
       "    </tr>\n",
       "  </thead>\n",
       "  <tbody>\n",
       "    <tr>\n",
       "      <th>0</th>\n",
       "      <td>children</td>\n",
       "      <td>15</td>\n",
       "    </tr>\n",
       "    <tr>\n",
       "      <th>1</th>\n",
       "      <td>fiction</td>\n",
       "      <td>884</td>\n",
       "    </tr>\n",
       "    <tr>\n",
       "      <th>2</th>\n",
       "      <td>nonfiction</td>\n",
       "      <td>171</td>\n",
       "    </tr>\n",
       "  </tbody>\n",
       "</table>\n",
       "</div>"
      ],
      "text/plain": [
       "        genre  Count\n",
       "0    children     15\n",
       "1     fiction    884\n",
       "2  nonfiction    171"
      ]
     },
     "execution_count": 68,
     "metadata": {},
     "output_type": "execute_result"
    }
   ],
   "source": [
    "by_genre = df.groupby('genre')['book_name'].count().reset_index()\n",
    "by_genre.columns = ['genre','Count']\n",
    "by_genre"
   ]
  },
  {
   "cell_type": "markdown",
   "metadata": {},
   "source": [
    "This dataset is primarily fiction. "
   ]
  },
  {
   "cell_type": "code",
   "execution_count": 69,
   "metadata": {},
   "outputs": [
    {
     "data": {
      "application/vnd.plotly.v1+json": {
       "config": {
        "plotlyServerURL": "https://plot.ly"
       },
       "data": [
        {
         "alignmentgroup": "True",
         "hovertemplate": "genre=%{x}<br>Count=%{y}<extra></extra>",
         "legendgroup": "",
         "marker": {
          "color": "#636efa",
          "pattern": {
           "shape": ""
          }
         },
         "name": "",
         "offsetgroup": "",
         "orientation": "v",
         "showlegend": false,
         "textposition": "auto",
         "type": "bar",
         "x": [
          "children",
          "fiction",
          "nonfiction"
         ],
         "xaxis": "x",
         "y": [
          15,
          884,
          171
         ],
         "yaxis": "y"
        }
       ],
       "layout": {
        "barmode": "relative",
        "legend": {
         "tracegroupgap": 0
        },
        "margin": {
         "t": 60
        },
        "template": {
         "data": {
          "bar": [
           {
            "error_x": {
             "color": "#2a3f5f"
            },
            "error_y": {
             "color": "#2a3f5f"
            },
            "marker": {
             "line": {
              "color": "#E5ECF6",
              "width": 0.5
             },
             "pattern": {
              "fillmode": "overlay",
              "size": 10,
              "solidity": 0.2
             }
            },
            "type": "bar"
           }
          ],
          "barpolar": [
           {
            "marker": {
             "line": {
              "color": "#E5ECF6",
              "width": 0.5
             },
             "pattern": {
              "fillmode": "overlay",
              "size": 10,
              "solidity": 0.2
             }
            },
            "type": "barpolar"
           }
          ],
          "carpet": [
           {
            "aaxis": {
             "endlinecolor": "#2a3f5f",
             "gridcolor": "white",
             "linecolor": "white",
             "minorgridcolor": "white",
             "startlinecolor": "#2a3f5f"
            },
            "baxis": {
             "endlinecolor": "#2a3f5f",
             "gridcolor": "white",
             "linecolor": "white",
             "minorgridcolor": "white",
             "startlinecolor": "#2a3f5f"
            },
            "type": "carpet"
           }
          ],
          "choropleth": [
           {
            "colorbar": {
             "outlinewidth": 0,
             "ticks": ""
            },
            "type": "choropleth"
           }
          ],
          "contour": [
           {
            "colorbar": {
             "outlinewidth": 0,
             "ticks": ""
            },
            "colorscale": [
             [
              0,
              "#0d0887"
             ],
             [
              0.1111111111111111,
              "#46039f"
             ],
             [
              0.2222222222222222,
              "#7201a8"
             ],
             [
              0.3333333333333333,
              "#9c179e"
             ],
             [
              0.4444444444444444,
              "#bd3786"
             ],
             [
              0.5555555555555556,
              "#d8576b"
             ],
             [
              0.6666666666666666,
              "#ed7953"
             ],
             [
              0.7777777777777778,
              "#fb9f3a"
             ],
             [
              0.8888888888888888,
              "#fdca26"
             ],
             [
              1,
              "#f0f921"
             ]
            ],
            "type": "contour"
           }
          ],
          "contourcarpet": [
           {
            "colorbar": {
             "outlinewidth": 0,
             "ticks": ""
            },
            "type": "contourcarpet"
           }
          ],
          "heatmap": [
           {
            "colorbar": {
             "outlinewidth": 0,
             "ticks": ""
            },
            "colorscale": [
             [
              0,
              "#0d0887"
             ],
             [
              0.1111111111111111,
              "#46039f"
             ],
             [
              0.2222222222222222,
              "#7201a8"
             ],
             [
              0.3333333333333333,
              "#9c179e"
             ],
             [
              0.4444444444444444,
              "#bd3786"
             ],
             [
              0.5555555555555556,
              "#d8576b"
             ],
             [
              0.6666666666666666,
              "#ed7953"
             ],
             [
              0.7777777777777778,
              "#fb9f3a"
             ],
             [
              0.8888888888888888,
              "#fdca26"
             ],
             [
              1,
              "#f0f921"
             ]
            ],
            "type": "heatmap"
           }
          ],
          "heatmapgl": [
           {
            "colorbar": {
             "outlinewidth": 0,
             "ticks": ""
            },
            "colorscale": [
             [
              0,
              "#0d0887"
             ],
             [
              0.1111111111111111,
              "#46039f"
             ],
             [
              0.2222222222222222,
              "#7201a8"
             ],
             [
              0.3333333333333333,
              "#9c179e"
             ],
             [
              0.4444444444444444,
              "#bd3786"
             ],
             [
              0.5555555555555556,
              "#d8576b"
             ],
             [
              0.6666666666666666,
              "#ed7953"
             ],
             [
              0.7777777777777778,
              "#fb9f3a"
             ],
             [
              0.8888888888888888,
              "#fdca26"
             ],
             [
              1,
              "#f0f921"
             ]
            ],
            "type": "heatmapgl"
           }
          ],
          "histogram": [
           {
            "marker": {
             "pattern": {
              "fillmode": "overlay",
              "size": 10,
              "solidity": 0.2
             }
            },
            "type": "histogram"
           }
          ],
          "histogram2d": [
           {
            "colorbar": {
             "outlinewidth": 0,
             "ticks": ""
            },
            "colorscale": [
             [
              0,
              "#0d0887"
             ],
             [
              0.1111111111111111,
              "#46039f"
             ],
             [
              0.2222222222222222,
              "#7201a8"
             ],
             [
              0.3333333333333333,
              "#9c179e"
             ],
             [
              0.4444444444444444,
              "#bd3786"
             ],
             [
              0.5555555555555556,
              "#d8576b"
             ],
             [
              0.6666666666666666,
              "#ed7953"
             ],
             [
              0.7777777777777778,
              "#fb9f3a"
             ],
             [
              0.8888888888888888,
              "#fdca26"
             ],
             [
              1,
              "#f0f921"
             ]
            ],
            "type": "histogram2d"
           }
          ],
          "histogram2dcontour": [
           {
            "colorbar": {
             "outlinewidth": 0,
             "ticks": ""
            },
            "colorscale": [
             [
              0,
              "#0d0887"
             ],
             [
              0.1111111111111111,
              "#46039f"
             ],
             [
              0.2222222222222222,
              "#7201a8"
             ],
             [
              0.3333333333333333,
              "#9c179e"
             ],
             [
              0.4444444444444444,
              "#bd3786"
             ],
             [
              0.5555555555555556,
              "#d8576b"
             ],
             [
              0.6666666666666666,
              "#ed7953"
             ],
             [
              0.7777777777777778,
              "#fb9f3a"
             ],
             [
              0.8888888888888888,
              "#fdca26"
             ],
             [
              1,
              "#f0f921"
             ]
            ],
            "type": "histogram2dcontour"
           }
          ],
          "mesh3d": [
           {
            "colorbar": {
             "outlinewidth": 0,
             "ticks": ""
            },
            "type": "mesh3d"
           }
          ],
          "parcoords": [
           {
            "line": {
             "colorbar": {
              "outlinewidth": 0,
              "ticks": ""
             }
            },
            "type": "parcoords"
           }
          ],
          "pie": [
           {
            "automargin": true,
            "type": "pie"
           }
          ],
          "scatter": [
           {
            "fillpattern": {
             "fillmode": "overlay",
             "size": 10,
             "solidity": 0.2
            },
            "type": "scatter"
           }
          ],
          "scatter3d": [
           {
            "line": {
             "colorbar": {
              "outlinewidth": 0,
              "ticks": ""
             }
            },
            "marker": {
             "colorbar": {
              "outlinewidth": 0,
              "ticks": ""
             }
            },
            "type": "scatter3d"
           }
          ],
          "scattercarpet": [
           {
            "marker": {
             "colorbar": {
              "outlinewidth": 0,
              "ticks": ""
             }
            },
            "type": "scattercarpet"
           }
          ],
          "scattergeo": [
           {
            "marker": {
             "colorbar": {
              "outlinewidth": 0,
              "ticks": ""
             }
            },
            "type": "scattergeo"
           }
          ],
          "scattergl": [
           {
            "marker": {
             "colorbar": {
              "outlinewidth": 0,
              "ticks": ""
             }
            },
            "type": "scattergl"
           }
          ],
          "scattermapbox": [
           {
            "marker": {
             "colorbar": {
              "outlinewidth": 0,
              "ticks": ""
             }
            },
            "type": "scattermapbox"
           }
          ],
          "scatterpolar": [
           {
            "marker": {
             "colorbar": {
              "outlinewidth": 0,
              "ticks": ""
             }
            },
            "type": "scatterpolar"
           }
          ],
          "scatterpolargl": [
           {
            "marker": {
             "colorbar": {
              "outlinewidth": 0,
              "ticks": ""
             }
            },
            "type": "scatterpolargl"
           }
          ],
          "scatterternary": [
           {
            "marker": {
             "colorbar": {
              "outlinewidth": 0,
              "ticks": ""
             }
            },
            "type": "scatterternary"
           }
          ],
          "surface": [
           {
            "colorbar": {
             "outlinewidth": 0,
             "ticks": ""
            },
            "colorscale": [
             [
              0,
              "#0d0887"
             ],
             [
              0.1111111111111111,
              "#46039f"
             ],
             [
              0.2222222222222222,
              "#7201a8"
             ],
             [
              0.3333333333333333,
              "#9c179e"
             ],
             [
              0.4444444444444444,
              "#bd3786"
             ],
             [
              0.5555555555555556,
              "#d8576b"
             ],
             [
              0.6666666666666666,
              "#ed7953"
             ],
             [
              0.7777777777777778,
              "#fb9f3a"
             ],
             [
              0.8888888888888888,
              "#fdca26"
             ],
             [
              1,
              "#f0f921"
             ]
            ],
            "type": "surface"
           }
          ],
          "table": [
           {
            "cells": {
             "fill": {
              "color": "#EBF0F8"
             },
             "line": {
              "color": "white"
             }
            },
            "header": {
             "fill": {
              "color": "#C8D4E3"
             },
             "line": {
              "color": "white"
             }
            },
            "type": "table"
           }
          ]
         },
         "layout": {
          "annotationdefaults": {
           "arrowcolor": "#2a3f5f",
           "arrowhead": 0,
           "arrowwidth": 1
          },
          "autotypenumbers": "strict",
          "coloraxis": {
           "colorbar": {
            "outlinewidth": 0,
            "ticks": ""
           }
          },
          "colorscale": {
           "diverging": [
            [
             0,
             "#8e0152"
            ],
            [
             0.1,
             "#c51b7d"
            ],
            [
             0.2,
             "#de77ae"
            ],
            [
             0.3,
             "#f1b6da"
            ],
            [
             0.4,
             "#fde0ef"
            ],
            [
             0.5,
             "#f7f7f7"
            ],
            [
             0.6,
             "#e6f5d0"
            ],
            [
             0.7,
             "#b8e186"
            ],
            [
             0.8,
             "#7fbc41"
            ],
            [
             0.9,
             "#4d9221"
            ],
            [
             1,
             "#276419"
            ]
           ],
           "sequential": [
            [
             0,
             "#0d0887"
            ],
            [
             0.1111111111111111,
             "#46039f"
            ],
            [
             0.2222222222222222,
             "#7201a8"
            ],
            [
             0.3333333333333333,
             "#9c179e"
            ],
            [
             0.4444444444444444,
             "#bd3786"
            ],
            [
             0.5555555555555556,
             "#d8576b"
            ],
            [
             0.6666666666666666,
             "#ed7953"
            ],
            [
             0.7777777777777778,
             "#fb9f3a"
            ],
            [
             0.8888888888888888,
             "#fdca26"
            ],
            [
             1,
             "#f0f921"
            ]
           ],
           "sequentialminus": [
            [
             0,
             "#0d0887"
            ],
            [
             0.1111111111111111,
             "#46039f"
            ],
            [
             0.2222222222222222,
             "#7201a8"
            ],
            [
             0.3333333333333333,
             "#9c179e"
            ],
            [
             0.4444444444444444,
             "#bd3786"
            ],
            [
             0.5555555555555556,
             "#d8576b"
            ],
            [
             0.6666666666666666,
             "#ed7953"
            ],
            [
             0.7777777777777778,
             "#fb9f3a"
            ],
            [
             0.8888888888888888,
             "#fdca26"
            ],
            [
             1,
             "#f0f921"
            ]
           ]
          },
          "colorway": [
           "#636efa",
           "#EF553B",
           "#00cc96",
           "#ab63fa",
           "#FFA15A",
           "#19d3f3",
           "#FF6692",
           "#B6E880",
           "#FF97FF",
           "#FECB52"
          ],
          "font": {
           "color": "#2a3f5f"
          },
          "geo": {
           "bgcolor": "white",
           "lakecolor": "white",
           "landcolor": "#E5ECF6",
           "showlakes": true,
           "showland": true,
           "subunitcolor": "white"
          },
          "hoverlabel": {
           "align": "left"
          },
          "hovermode": "closest",
          "mapbox": {
           "style": "light"
          },
          "paper_bgcolor": "white",
          "plot_bgcolor": "#E5ECF6",
          "polar": {
           "angularaxis": {
            "gridcolor": "white",
            "linecolor": "white",
            "ticks": ""
           },
           "bgcolor": "#E5ECF6",
           "radialaxis": {
            "gridcolor": "white",
            "linecolor": "white",
            "ticks": ""
           }
          },
          "scene": {
           "xaxis": {
            "backgroundcolor": "#E5ECF6",
            "gridcolor": "white",
            "gridwidth": 2,
            "linecolor": "white",
            "showbackground": true,
            "ticks": "",
            "zerolinecolor": "white"
           },
           "yaxis": {
            "backgroundcolor": "#E5ECF6",
            "gridcolor": "white",
            "gridwidth": 2,
            "linecolor": "white",
            "showbackground": true,
            "ticks": "",
            "zerolinecolor": "white"
           },
           "zaxis": {
            "backgroundcolor": "#E5ECF6",
            "gridcolor": "white",
            "gridwidth": 2,
            "linecolor": "white",
            "showbackground": true,
            "ticks": "",
            "zerolinecolor": "white"
           }
          },
          "shapedefaults": {
           "line": {
            "color": "#2a3f5f"
           }
          },
          "ternary": {
           "aaxis": {
            "gridcolor": "white",
            "linecolor": "white",
            "ticks": ""
           },
           "baxis": {
            "gridcolor": "white",
            "linecolor": "white",
            "ticks": ""
           },
           "bgcolor": "#E5ECF6",
           "caxis": {
            "gridcolor": "white",
            "linecolor": "white",
            "ticks": ""
           }
          },
          "title": {
           "x": 0.05
          },
          "xaxis": {
           "automargin": true,
           "gridcolor": "white",
           "linecolor": "white",
           "ticks": "",
           "title": {
            "standoff": 15
           },
           "zerolinecolor": "white",
           "zerolinewidth": 2
          },
          "yaxis": {
           "automargin": true,
           "gridcolor": "white",
           "linecolor": "white",
           "ticks": "",
           "title": {
            "standoff": 15
           },
           "zerolinecolor": "white",
           "zerolinewidth": 2
          }
         }
        },
        "xaxis": {
         "anchor": "y",
         "domain": [
          0,
          1
         ],
         "title": {
          "text": "genre"
         }
        },
        "yaxis": {
         "anchor": "x",
         "domain": [
          0,
          1
         ],
         "title": {
          "text": "Count"
         }
        }
       }
      }
     },
     "metadata": {},
     "output_type": "display_data"
    }
   ],
   "source": [
    "fig = px.bar(by_genre,x='genre',y='Count')\n",
    "fig.show()"
   ]
  },
  {
   "cell_type": "markdown",
   "metadata": {},
   "source": [
    "Here I chart a stacked bar chart showing the number of books published per year by each publisher."
   ]
  },
  {
   "cell_type": "code",
   "execution_count": 70,
   "metadata": {},
   "outputs": [
    {
     "data": {
      "application/vnd.plotly.v1+json": {
       "config": {
        "plotlyServerURL": "https://plot.ly"
       },
       "data": [
        {
         "alignmentgroup": "True",
         "hovertemplate": "publisher=Amazon Digital Services,  Inc.<br>publishing_year=%{x}<br>count=%{y}<extra></extra>",
         "legendgroup": "Amazon Digital Services,  Inc.",
         "marker": {
          "color": "#636efa",
          "pattern": {
           "shape": ""
          }
         },
         "name": "Amazon Digital Services,  Inc.",
         "offsetgroup": "Amazon Digital Services,  Inc.",
         "orientation": "v",
         "showlegend": true,
         "textposition": "auto",
         "type": "bar",
         "x": [
          2000,
          2001,
          2002,
          2003,
          2004,
          2005,
          2006,
          2007,
          2008,
          2009,
          2010,
          2011,
          2012,
          2013,
          2014,
          2015,
          2016
         ],
         "xaxis": "x",
         "y": [
          15,
          13,
          12,
          25,
          19,
          18,
          19,
          22,
          19,
          19,
          29,
          34,
          39,
          24,
          16,
          15,
          6
         ],
         "yaxis": "y"
        },
        {
         "alignmentgroup": "True",
         "hovertemplate": "publisher=HarperCollins Christian Publishing<br>publishing_year=%{x}<br>count=%{y}<extra></extra>",
         "legendgroup": "HarperCollins Christian Publishing",
         "marker": {
          "color": "#EF553B",
          "pattern": {
           "shape": ""
          }
         },
         "name": "HarperCollins Christian Publishing",
         "offsetgroup": "HarperCollins Christian Publishing",
         "orientation": "v",
         "showlegend": true,
         "textposition": "auto",
         "type": "bar",
         "x": [
          2000,
          2003
         ],
         "xaxis": "x",
         "y": [
          1,
          1
         ],
         "yaxis": "y"
        },
        {
         "alignmentgroup": "True",
         "hovertemplate": "publisher=HarperCollins Publishers<br>publishing_year=%{x}<br>count=%{y}<extra></extra>",
         "legendgroup": "HarperCollins Publishers",
         "marker": {
          "color": "#00cc96",
          "pattern": {
           "shape": ""
          }
         },
         "name": "HarperCollins Publishers",
         "offsetgroup": "HarperCollins Publishers",
         "orientation": "v",
         "showlegend": true,
         "textposition": "auto",
         "type": "bar",
         "x": [
          2000,
          2001,
          2002,
          2003,
          2006,
          2008,
          2009,
          2010,
          2011,
          2012,
          2013,
          2014,
          2015
         ],
         "xaxis": "x",
         "y": [
          1,
          2,
          3,
          4,
          5,
          3,
          4,
          2,
          2,
          4,
          1,
          2,
          3
         ],
         "yaxis": "y"
        },
        {
         "alignmentgroup": "True",
         "hovertemplate": "publisher=Penguin Group (USA) LLC<br>publishing_year=%{x}<br>count=%{y}<extra></extra>",
         "legendgroup": "Penguin Group (USA) LLC",
         "marker": {
          "color": "#ab63fa",
          "pattern": {
           "shape": ""
          }
         },
         "name": "Penguin Group (USA) LLC",
         "offsetgroup": "Penguin Group (USA) LLC",
         "orientation": "v",
         "showlegend": true,
         "textposition": "auto",
         "type": "bar",
         "x": [
          2000,
          2001,
          2002,
          2003,
          2004,
          2005,
          2006,
          2007,
          2008,
          2009,
          2010,
          2011,
          2012,
          2013,
          2014,
          2015,
          2016
         ],
         "xaxis": "x",
         "y": [
          2,
          5,
          2,
          4,
          3,
          5,
          3,
          3,
          4,
          9,
          1,
          6,
          4,
          4,
          2,
          3,
          3
         ],
         "yaxis": "y"
        },
        {
         "alignmentgroup": "True",
         "hovertemplate": "publisher=Random House LLC<br>publishing_year=%{x}<br>count=%{y}<extra></extra>",
         "legendgroup": "Random House LLC",
         "marker": {
          "color": "#FFA15A",
          "pattern": {
           "shape": ""
          }
         },
         "name": "Random House LLC",
         "offsetgroup": "Random House LLC",
         "orientation": "v",
         "showlegend": true,
         "textposition": "auto",
         "type": "bar",
         "x": [
          2000,
          2001,
          2002,
          2003,
          2004,
          2005,
          2006,
          2007,
          2008,
          2009,
          2010,
          2011,
          2012,
          2014,
          2015,
          2016
         ],
         "xaxis": "x",
         "y": [
          1,
          5,
          2,
          1,
          6,
          3,
          4,
          5,
          7,
          5,
          5,
          5,
          10,
          6,
          2,
          1
         ],
         "yaxis": "y"
        },
        {
         "alignmentgroup": "True",
         "hovertemplate": "publisher=Simon and Schuster Digital Sales Inc<br>publishing_year=%{x}<br>count=%{y}<extra></extra>",
         "legendgroup": "Simon and Schuster Digital Sales Inc",
         "marker": {
          "color": "#19d3f3",
          "pattern": {
           "shape": ""
          }
         },
         "name": "Simon and Schuster Digital Sales Inc",
         "offsetgroup": "Simon and Schuster Digital Sales Inc",
         "orientation": "v",
         "showlegend": true,
         "textposition": "auto",
         "type": "bar",
         "x": [
          2000,
          2003,
          2004,
          2005,
          2006,
          2007,
          2008,
          2009,
          2010,
          2012,
          2013,
          2014,
          2015,
          2016
         ],
         "xaxis": "x",
         "y": [
          1,
          2,
          2,
          5,
          4,
          1,
          2,
          4,
          3,
          3,
          1,
          2,
          1,
          1
         ],
         "yaxis": "y"
        },
        {
         "alignmentgroup": "True",
         "hovertemplate": "publisher=Hachette Book Group<br>publishing_year=%{x}<br>count=%{y}<extra></extra>",
         "legendgroup": "Hachette Book Group",
         "marker": {
          "color": "#FF6692",
          "pattern": {
           "shape": ""
          }
         },
         "name": "Hachette Book Group",
         "offsetgroup": "Hachette Book Group",
         "orientation": "v",
         "showlegend": true,
         "textposition": "auto",
         "type": "bar",
         "x": [
          2001,
          2002,
          2003,
          2004,
          2005,
          2006,
          2007,
          2008,
          2009,
          2010,
          2011,
          2012,
          2013,
          2014,
          2015
         ],
         "xaxis": "x",
         "y": [
          1,
          1,
          1,
          1,
          3,
          5,
          2,
          1,
          2,
          1,
          4,
          5,
          1,
          2,
          1
         ],
         "yaxis": "y"
        },
        {
         "alignmentgroup": "True",
         "hovertemplate": "publisher=Macmillan<br>publishing_year=%{x}<br>count=%{y}<extra></extra>",
         "legendgroup": "Macmillan",
         "marker": {
          "color": "#B6E880",
          "pattern": {
           "shape": ""
          }
         },
         "name": "Macmillan",
         "offsetgroup": "Macmillan",
         "orientation": "v",
         "showlegend": true,
         "textposition": "auto",
         "type": "bar",
         "x": [
          2001,
          2003,
          2005,
          2006,
          2007,
          2008,
          2009,
          2010,
          2011,
          2012,
          2013,
          2014,
          2015
         ],
         "xaxis": "x",
         "y": [
          1,
          1,
          2,
          1,
          1,
          3,
          3,
          3,
          4,
          2,
          1,
          3,
          1
         ],
         "yaxis": "y"
        },
        {
         "alignmentgroup": "True",
         "hovertemplate": "publisher=HarperCollins Publishing<br>publishing_year=%{x}<br>count=%{y}<extra></extra>",
         "legendgroup": "HarperCollins Publishing",
         "marker": {
          "color": "#FF97FF",
          "pattern": {
           "shape": ""
          }
         },
         "name": "HarperCollins Publishing",
         "offsetgroup": "HarperCollins Publishing",
         "orientation": "v",
         "showlegend": true,
         "textposition": "auto",
         "type": "bar",
         "x": [
          2012
         ],
         "xaxis": "x",
         "y": [
          1
         ],
         "yaxis": "y"
        }
       ],
       "layout": {
        "barmode": "relative",
        "legend": {
         "title": {
          "text": "publisher"
         },
         "tracegroupgap": 0
        },
        "template": {
         "data": {
          "bar": [
           {
            "error_x": {
             "color": "#2a3f5f"
            },
            "error_y": {
             "color": "#2a3f5f"
            },
            "marker": {
             "line": {
              "color": "#E5ECF6",
              "width": 0.5
             },
             "pattern": {
              "fillmode": "overlay",
              "size": 10,
              "solidity": 0.2
             }
            },
            "type": "bar"
           }
          ],
          "barpolar": [
           {
            "marker": {
             "line": {
              "color": "#E5ECF6",
              "width": 0.5
             },
             "pattern": {
              "fillmode": "overlay",
              "size": 10,
              "solidity": 0.2
             }
            },
            "type": "barpolar"
           }
          ],
          "carpet": [
           {
            "aaxis": {
             "endlinecolor": "#2a3f5f",
             "gridcolor": "white",
             "linecolor": "white",
             "minorgridcolor": "white",
             "startlinecolor": "#2a3f5f"
            },
            "baxis": {
             "endlinecolor": "#2a3f5f",
             "gridcolor": "white",
             "linecolor": "white",
             "minorgridcolor": "white",
             "startlinecolor": "#2a3f5f"
            },
            "type": "carpet"
           }
          ],
          "choropleth": [
           {
            "colorbar": {
             "outlinewidth": 0,
             "ticks": ""
            },
            "type": "choropleth"
           }
          ],
          "contour": [
           {
            "colorbar": {
             "outlinewidth": 0,
             "ticks": ""
            },
            "colorscale": [
             [
              0,
              "#0d0887"
             ],
             [
              0.1111111111111111,
              "#46039f"
             ],
             [
              0.2222222222222222,
              "#7201a8"
             ],
             [
              0.3333333333333333,
              "#9c179e"
             ],
             [
              0.4444444444444444,
              "#bd3786"
             ],
             [
              0.5555555555555556,
              "#d8576b"
             ],
             [
              0.6666666666666666,
              "#ed7953"
             ],
             [
              0.7777777777777778,
              "#fb9f3a"
             ],
             [
              0.8888888888888888,
              "#fdca26"
             ],
             [
              1,
              "#f0f921"
             ]
            ],
            "type": "contour"
           }
          ],
          "contourcarpet": [
           {
            "colorbar": {
             "outlinewidth": 0,
             "ticks": ""
            },
            "type": "contourcarpet"
           }
          ],
          "heatmap": [
           {
            "colorbar": {
             "outlinewidth": 0,
             "ticks": ""
            },
            "colorscale": [
             [
              0,
              "#0d0887"
             ],
             [
              0.1111111111111111,
              "#46039f"
             ],
             [
              0.2222222222222222,
              "#7201a8"
             ],
             [
              0.3333333333333333,
              "#9c179e"
             ],
             [
              0.4444444444444444,
              "#bd3786"
             ],
             [
              0.5555555555555556,
              "#d8576b"
             ],
             [
              0.6666666666666666,
              "#ed7953"
             ],
             [
              0.7777777777777778,
              "#fb9f3a"
             ],
             [
              0.8888888888888888,
              "#fdca26"
             ],
             [
              1,
              "#f0f921"
             ]
            ],
            "type": "heatmap"
           }
          ],
          "heatmapgl": [
           {
            "colorbar": {
             "outlinewidth": 0,
             "ticks": ""
            },
            "colorscale": [
             [
              0,
              "#0d0887"
             ],
             [
              0.1111111111111111,
              "#46039f"
             ],
             [
              0.2222222222222222,
              "#7201a8"
             ],
             [
              0.3333333333333333,
              "#9c179e"
             ],
             [
              0.4444444444444444,
              "#bd3786"
             ],
             [
              0.5555555555555556,
              "#d8576b"
             ],
             [
              0.6666666666666666,
              "#ed7953"
             ],
             [
              0.7777777777777778,
              "#fb9f3a"
             ],
             [
              0.8888888888888888,
              "#fdca26"
             ],
             [
              1,
              "#f0f921"
             ]
            ],
            "type": "heatmapgl"
           }
          ],
          "histogram": [
           {
            "marker": {
             "pattern": {
              "fillmode": "overlay",
              "size": 10,
              "solidity": 0.2
             }
            },
            "type": "histogram"
           }
          ],
          "histogram2d": [
           {
            "colorbar": {
             "outlinewidth": 0,
             "ticks": ""
            },
            "colorscale": [
             [
              0,
              "#0d0887"
             ],
             [
              0.1111111111111111,
              "#46039f"
             ],
             [
              0.2222222222222222,
              "#7201a8"
             ],
             [
              0.3333333333333333,
              "#9c179e"
             ],
             [
              0.4444444444444444,
              "#bd3786"
             ],
             [
              0.5555555555555556,
              "#d8576b"
             ],
             [
              0.6666666666666666,
              "#ed7953"
             ],
             [
              0.7777777777777778,
              "#fb9f3a"
             ],
             [
              0.8888888888888888,
              "#fdca26"
             ],
             [
              1,
              "#f0f921"
             ]
            ],
            "type": "histogram2d"
           }
          ],
          "histogram2dcontour": [
           {
            "colorbar": {
             "outlinewidth": 0,
             "ticks": ""
            },
            "colorscale": [
             [
              0,
              "#0d0887"
             ],
             [
              0.1111111111111111,
              "#46039f"
             ],
             [
              0.2222222222222222,
              "#7201a8"
             ],
             [
              0.3333333333333333,
              "#9c179e"
             ],
             [
              0.4444444444444444,
              "#bd3786"
             ],
             [
              0.5555555555555556,
              "#d8576b"
             ],
             [
              0.6666666666666666,
              "#ed7953"
             ],
             [
              0.7777777777777778,
              "#fb9f3a"
             ],
             [
              0.8888888888888888,
              "#fdca26"
             ],
             [
              1,
              "#f0f921"
             ]
            ],
            "type": "histogram2dcontour"
           }
          ],
          "mesh3d": [
           {
            "colorbar": {
             "outlinewidth": 0,
             "ticks": ""
            },
            "type": "mesh3d"
           }
          ],
          "parcoords": [
           {
            "line": {
             "colorbar": {
              "outlinewidth": 0,
              "ticks": ""
             }
            },
            "type": "parcoords"
           }
          ],
          "pie": [
           {
            "automargin": true,
            "type": "pie"
           }
          ],
          "scatter": [
           {
            "fillpattern": {
             "fillmode": "overlay",
             "size": 10,
             "solidity": 0.2
            },
            "type": "scatter"
           }
          ],
          "scatter3d": [
           {
            "line": {
             "colorbar": {
              "outlinewidth": 0,
              "ticks": ""
             }
            },
            "marker": {
             "colorbar": {
              "outlinewidth": 0,
              "ticks": ""
             }
            },
            "type": "scatter3d"
           }
          ],
          "scattercarpet": [
           {
            "marker": {
             "colorbar": {
              "outlinewidth": 0,
              "ticks": ""
             }
            },
            "type": "scattercarpet"
           }
          ],
          "scattergeo": [
           {
            "marker": {
             "colorbar": {
              "outlinewidth": 0,
              "ticks": ""
             }
            },
            "type": "scattergeo"
           }
          ],
          "scattergl": [
           {
            "marker": {
             "colorbar": {
              "outlinewidth": 0,
              "ticks": ""
             }
            },
            "type": "scattergl"
           }
          ],
          "scattermapbox": [
           {
            "marker": {
             "colorbar": {
              "outlinewidth": 0,
              "ticks": ""
             }
            },
            "type": "scattermapbox"
           }
          ],
          "scatterpolar": [
           {
            "marker": {
             "colorbar": {
              "outlinewidth": 0,
              "ticks": ""
             }
            },
            "type": "scatterpolar"
           }
          ],
          "scatterpolargl": [
           {
            "marker": {
             "colorbar": {
              "outlinewidth": 0,
              "ticks": ""
             }
            },
            "type": "scatterpolargl"
           }
          ],
          "scatterternary": [
           {
            "marker": {
             "colorbar": {
              "outlinewidth": 0,
              "ticks": ""
             }
            },
            "type": "scatterternary"
           }
          ],
          "surface": [
           {
            "colorbar": {
             "outlinewidth": 0,
             "ticks": ""
            },
            "colorscale": [
             [
              0,
              "#0d0887"
             ],
             [
              0.1111111111111111,
              "#46039f"
             ],
             [
              0.2222222222222222,
              "#7201a8"
             ],
             [
              0.3333333333333333,
              "#9c179e"
             ],
             [
              0.4444444444444444,
              "#bd3786"
             ],
             [
              0.5555555555555556,
              "#d8576b"
             ],
             [
              0.6666666666666666,
              "#ed7953"
             ],
             [
              0.7777777777777778,
              "#fb9f3a"
             ],
             [
              0.8888888888888888,
              "#fdca26"
             ],
             [
              1,
              "#f0f921"
             ]
            ],
            "type": "surface"
           }
          ],
          "table": [
           {
            "cells": {
             "fill": {
              "color": "#EBF0F8"
             },
             "line": {
              "color": "white"
             }
            },
            "header": {
             "fill": {
              "color": "#C8D4E3"
             },
             "line": {
              "color": "white"
             }
            },
            "type": "table"
           }
          ]
         },
         "layout": {
          "annotationdefaults": {
           "arrowcolor": "#2a3f5f",
           "arrowhead": 0,
           "arrowwidth": 1
          },
          "autotypenumbers": "strict",
          "coloraxis": {
           "colorbar": {
            "outlinewidth": 0,
            "ticks": ""
           }
          },
          "colorscale": {
           "diverging": [
            [
             0,
             "#8e0152"
            ],
            [
             0.1,
             "#c51b7d"
            ],
            [
             0.2,
             "#de77ae"
            ],
            [
             0.3,
             "#f1b6da"
            ],
            [
             0.4,
             "#fde0ef"
            ],
            [
             0.5,
             "#f7f7f7"
            ],
            [
             0.6,
             "#e6f5d0"
            ],
            [
             0.7,
             "#b8e186"
            ],
            [
             0.8,
             "#7fbc41"
            ],
            [
             0.9,
             "#4d9221"
            ],
            [
             1,
             "#276419"
            ]
           ],
           "sequential": [
            [
             0,
             "#0d0887"
            ],
            [
             0.1111111111111111,
             "#46039f"
            ],
            [
             0.2222222222222222,
             "#7201a8"
            ],
            [
             0.3333333333333333,
             "#9c179e"
            ],
            [
             0.4444444444444444,
             "#bd3786"
            ],
            [
             0.5555555555555556,
             "#d8576b"
            ],
            [
             0.6666666666666666,
             "#ed7953"
            ],
            [
             0.7777777777777778,
             "#fb9f3a"
            ],
            [
             0.8888888888888888,
             "#fdca26"
            ],
            [
             1,
             "#f0f921"
            ]
           ],
           "sequentialminus": [
            [
             0,
             "#0d0887"
            ],
            [
             0.1111111111111111,
             "#46039f"
            ],
            [
             0.2222222222222222,
             "#7201a8"
            ],
            [
             0.3333333333333333,
             "#9c179e"
            ],
            [
             0.4444444444444444,
             "#bd3786"
            ],
            [
             0.5555555555555556,
             "#d8576b"
            ],
            [
             0.6666666666666666,
             "#ed7953"
            ],
            [
             0.7777777777777778,
             "#fb9f3a"
            ],
            [
             0.8888888888888888,
             "#fdca26"
            ],
            [
             1,
             "#f0f921"
            ]
           ]
          },
          "colorway": [
           "#636efa",
           "#EF553B",
           "#00cc96",
           "#ab63fa",
           "#FFA15A",
           "#19d3f3",
           "#FF6692",
           "#B6E880",
           "#FF97FF",
           "#FECB52"
          ],
          "font": {
           "color": "#2a3f5f"
          },
          "geo": {
           "bgcolor": "white",
           "lakecolor": "white",
           "landcolor": "#E5ECF6",
           "showlakes": true,
           "showland": true,
           "subunitcolor": "white"
          },
          "hoverlabel": {
           "align": "left"
          },
          "hovermode": "closest",
          "mapbox": {
           "style": "light"
          },
          "paper_bgcolor": "white",
          "plot_bgcolor": "#E5ECF6",
          "polar": {
           "angularaxis": {
            "gridcolor": "white",
            "linecolor": "white",
            "ticks": ""
           },
           "bgcolor": "#E5ECF6",
           "radialaxis": {
            "gridcolor": "white",
            "linecolor": "white",
            "ticks": ""
           }
          },
          "scene": {
           "xaxis": {
            "backgroundcolor": "#E5ECF6",
            "gridcolor": "white",
            "gridwidth": 2,
            "linecolor": "white",
            "showbackground": true,
            "ticks": "",
            "zerolinecolor": "white"
           },
           "yaxis": {
            "backgroundcolor": "#E5ECF6",
            "gridcolor": "white",
            "gridwidth": 2,
            "linecolor": "white",
            "showbackground": true,
            "ticks": "",
            "zerolinecolor": "white"
           },
           "zaxis": {
            "backgroundcolor": "#E5ECF6",
            "gridcolor": "white",
            "gridwidth": 2,
            "linecolor": "white",
            "showbackground": true,
            "ticks": "",
            "zerolinecolor": "white"
           }
          },
          "shapedefaults": {
           "line": {
            "color": "#2a3f5f"
           }
          },
          "ternary": {
           "aaxis": {
            "gridcolor": "white",
            "linecolor": "white",
            "ticks": ""
           },
           "baxis": {
            "gridcolor": "white",
            "linecolor": "white",
            "ticks": ""
           },
           "bgcolor": "#E5ECF6",
           "caxis": {
            "gridcolor": "white",
            "linecolor": "white",
            "ticks": ""
           }
          },
          "title": {
           "x": 0.05
          },
          "xaxis": {
           "automargin": true,
           "gridcolor": "white",
           "linecolor": "white",
           "ticks": "",
           "title": {
            "standoff": 15
           },
           "zerolinecolor": "white",
           "zerolinewidth": 2
          },
          "yaxis": {
           "automargin": true,
           "gridcolor": "white",
           "linecolor": "white",
           "ticks": "",
           "title": {
            "standoff": 15
           },
           "zerolinecolor": "white",
           "zerolinewidth": 2
          }
         }
        },
        "title": {
         "text": "Number of Books Published Per Year"
        },
        "xaxis": {
         "anchor": "y",
         "domain": [
          0,
          1
         ],
         "title": {
          "text": "publishing_year"
         }
        },
        "yaxis": {
         "anchor": "x",
         "domain": [
          0,
          1
         ],
         "title": {
          "text": "count"
         }
        }
       }
      }
     },
     "metadata": {},
     "output_type": "display_data"
    }
   ],
   "source": [
    "recent = df[df['publishing_year'] >= 2000]\n",
    "by_year = recent.groupby(['publishing_year','publisher'])['book_name'].count().reset_index()\n",
    "by_year.columns = ['publishing_year','publisher','count']\n",
    "px.bar(by_year,x='publishing_year',y='count',color='publisher',title='Number of Books Published Per Year')"
   ]
  },
  {
   "cell_type": "markdown",
   "metadata": {},
   "source": [
    "Here I plot a line plot combining the revenue from 2000 to 2016 for each publisher."
   ]
  },
  {
   "cell_type": "code",
   "execution_count": 71,
   "metadata": {},
   "outputs": [
    {
     "data": {
      "application/vnd.plotly.v1+json": {
       "config": {
        "plotlyServerURL": "https://plot.ly"
       },
       "data": [
        {
         "hovertemplate": "publisher=Amazon Digital Services,  Inc.<br>publishing_year=%{x}<br>publisher_revenue=%{y}<extra></extra>",
         "legendgroup": "Amazon Digital Services,  Inc.",
         "line": {
          "color": "#636efa",
          "dash": "solid"
         },
         "marker": {
          "symbol": "circle"
         },
         "mode": "lines",
         "name": "Amazon Digital Services,  Inc.",
         "orientation": "v",
         "showlegend": true,
         "type": "scatter",
         "x": [
          2000,
          2001,
          2002,
          2003,
          2004,
          2005,
          2006,
          2007,
          2008,
          2009,
          2010,
          2011,
          2012,
          2013,
          2014,
          2015,
          2016
         ],
         "xaxis": "x",
         "y": [
          994.6980000000001,
          497.358,
          5549.694,
          2636.1,
          1787.6879999999999,
          2574.864,
          4840.716,
          2802.948,
          12129.156,
          3048.924,
          2406.078,
          7787.532,
          5321.442,
          3263.022,
          413.424,
          31786.158,
          971.028
         ],
         "yaxis": "y"
        },
        {
         "hovertemplate": "publisher=HarperCollins Christian Publishing<br>publishing_year=%{x}<br>publisher_revenue=%{y}<extra></extra>",
         "legendgroup": "HarperCollins Christian Publishing",
         "line": {
          "color": "#EF553B",
          "dash": "solid"
         },
         "marker": {
          "symbol": "circle"
         },
         "mode": "lines",
         "name": "HarperCollins Christian Publishing",
         "orientation": "v",
         "showlegend": true,
         "type": "scatter",
         "x": [
          2000,
          2003
         ],
         "xaxis": "x",
         "y": [
          1131.384,
          570.486
         ],
         "yaxis": "y"
        },
        {
         "hovertemplate": "publisher=HarperCollins Publishers<br>publishing_year=%{x}<br>publisher_revenue=%{y}<extra></extra>",
         "legendgroup": "HarperCollins Publishers",
         "line": {
          "color": "#00cc96",
          "dash": "solid"
         },
         "marker": {
          "symbol": "circle"
         },
         "mode": "lines",
         "name": "HarperCollins Publishers",
         "orientation": "v",
         "showlegend": true,
         "type": "scatter",
         "x": [
          2000,
          2001,
          2002,
          2003,
          2006,
          2008,
          2009,
          2010,
          2011,
          2012,
          2013,
          2014,
          2015
         ],
         "xaxis": "x",
         "y": [
          6634.524,
          1604.172,
          2385.672,
          12251.07,
          6483.317999999999,
          2606.388,
          3708.882,
          2607.0240000000003,
          17508.69,
          17949.498,
          805.392,
          579.834,
          1134.21
         ],
         "yaxis": "y"
        },
        {
         "hovertemplate": "publisher=Penguin Group (USA) LLC<br>publishing_year=%{x}<br>publisher_revenue=%{y}<extra></extra>",
         "legendgroup": "Penguin Group (USA) LLC",
         "line": {
          "color": "#ab63fa",
          "dash": "solid"
         },
         "marker": {
          "symbol": "circle"
         },
         "mode": "lines",
         "name": "Penguin Group (USA) LLC",
         "orientation": "v",
         "showlegend": true,
         "type": "scatter",
         "x": [
          2000,
          2001,
          2002,
          2003,
          2004,
          2005,
          2006,
          2007,
          2008,
          2009,
          2010,
          2011,
          2012,
          2013,
          2014,
          2015,
          2016
         ],
         "xaxis": "x",
         "y": [
          1403.13,
          3191.046,
          1913.85,
          6977.262,
          2094.5280000000002,
          7714.86,
          2778.006,
          2367.9,
          5011.614,
          13763.358,
          798.534,
          32482.206,
          4723.986,
          6875.856,
          1675.71,
          1970.7540000000001,
          1784.3819999999998
         ],
         "yaxis": "y"
        },
        {
         "hovertemplate": "publisher=Random House LLC<br>publishing_year=%{x}<br>publisher_revenue=%{y}<extra></extra>",
         "legendgroup": "Random House LLC",
         "line": {
          "color": "#FFA15A",
          "dash": "solid"
         },
         "marker": {
          "symbol": "circle"
         },
         "mode": "lines",
         "name": "Random House LLC",
         "orientation": "v",
         "showlegend": true,
         "type": "scatter",
         "x": [
          2000,
          2001,
          2002,
          2003,
          2004,
          2005,
          2006,
          2007,
          2008,
          2009,
          2010,
          2011,
          2012,
          2014,
          2015,
          2016
         ],
         "xaxis": "x",
         "y": [
          892.212,
          4197.204000000001,
          3511.992,
          2683.8,
          3327.24,
          5803.650000000001,
          3897.12,
          21821.946,
          7466.844,
          4459.32,
          6036.150000000001,
          10245.51,
          13887.186,
          7123.116,
          1032.1019999999999,
          584.868
         ],
         "yaxis": "y"
        },
        {
         "hovertemplate": "publisher=Simon and Schuster Digital Sales Inc<br>publishing_year=%{x}<br>publisher_revenue=%{y}<extra></extra>",
         "legendgroup": "Simon and Schuster Digital Sales Inc",
         "line": {
          "color": "#19d3f3",
          "dash": "solid"
         },
         "marker": {
          "symbol": "circle"
         },
         "mode": "lines",
         "name": "Simon and Schuster Digital Sales Inc",
         "orientation": "v",
         "showlegend": true,
         "type": "scatter",
         "x": [
          2000,
          2003,
          2004,
          2005,
          2006,
          2007,
          2008,
          2009,
          2010,
          2012,
          2013,
          2014,
          2015,
          2016
         ],
         "xaxis": "x",
         "y": [
          156.414,
          431.514,
          1263.228,
          2349.6059999999998,
          6024.216,
          718.56,
          3992.43,
          2558.022,
          1253.124,
          1437.36,
          1012.986,
          628.0319999999999,
          1204.56,
          695.304
         ],
         "yaxis": "y"
        },
        {
         "hovertemplate": "publisher=Hachette Book Group<br>publishing_year=%{x}<br>publisher_revenue=%{y}<extra></extra>",
         "legendgroup": "Hachette Book Group",
         "line": {
          "color": "#FF6692",
          "dash": "solid"
         },
         "marker": {
          "symbol": "circle"
         },
         "mode": "lines",
         "name": "Hachette Book Group",
         "orientation": "v",
         "showlegend": true,
         "type": "scatter",
         "x": [
          2001,
          2002,
          2003,
          2004,
          2005,
          2006,
          2007,
          2008,
          2009,
          2010,
          2011,
          2012,
          2013,
          2014,
          2015
         ],
         "xaxis": "x",
         "y": [
          521.13,
          656.778,
          609.522,
          3355.8,
          1056.78,
          8477.01,
          3772.278,
          24750,
          333.462,
          1665,
          1184.982,
          5874.072,
          5089.458,
          338.004,
          680.832
         ],
         "yaxis": "y"
        },
        {
         "hovertemplate": "publisher=Macmillan<br>publishing_year=%{x}<br>publisher_revenue=%{y}<extra></extra>",
         "legendgroup": "Macmillan",
         "line": {
          "color": "#B6E880",
          "dash": "solid"
         },
         "marker": {
          "symbol": "circle"
         },
         "mode": "lines",
         "name": "Macmillan",
         "orientation": "v",
         "showlegend": true,
         "type": "scatter",
         "x": [
          2001,
          2003,
          2005,
          2006,
          2007,
          2008,
          2009,
          2010,
          2011,
          2012,
          2013,
          2014,
          2015
         ],
         "xaxis": "x",
         "y": [
          412.62,
          344.31,
          1290.414,
          3504.6,
          314.82,
          1486.824,
          4421.777999999999,
          3451.368,
          2777.7599999999998,
          1357.176,
          287.04,
          2749.5060000000003,
          209.898
         ],
         "yaxis": "y"
        },
        {
         "hovertemplate": "publisher=HarperCollins Publishing<br>publishing_year=%{x}<br>publisher_revenue=%{y}<extra></extra>",
         "legendgroup": "HarperCollins Publishing",
         "line": {
          "color": "#FF97FF",
          "dash": "solid"
         },
         "marker": {
          "symbol": "circle"
         },
         "mode": "lines",
         "name": "HarperCollins Publishing",
         "orientation": "v",
         "showlegend": true,
         "type": "scatter",
         "x": [
          2012
         ],
         "xaxis": "x",
         "y": [
          893.106
         ],
         "yaxis": "y"
        }
       ],
       "layout": {
        "legend": {
         "title": {
          "text": "publisher"
         },
         "tracegroupgap": 0
        },
        "template": {
         "data": {
          "bar": [
           {
            "error_x": {
             "color": "#2a3f5f"
            },
            "error_y": {
             "color": "#2a3f5f"
            },
            "marker": {
             "line": {
              "color": "#E5ECF6",
              "width": 0.5
             },
             "pattern": {
              "fillmode": "overlay",
              "size": 10,
              "solidity": 0.2
             }
            },
            "type": "bar"
           }
          ],
          "barpolar": [
           {
            "marker": {
             "line": {
              "color": "#E5ECF6",
              "width": 0.5
             },
             "pattern": {
              "fillmode": "overlay",
              "size": 10,
              "solidity": 0.2
             }
            },
            "type": "barpolar"
           }
          ],
          "carpet": [
           {
            "aaxis": {
             "endlinecolor": "#2a3f5f",
             "gridcolor": "white",
             "linecolor": "white",
             "minorgridcolor": "white",
             "startlinecolor": "#2a3f5f"
            },
            "baxis": {
             "endlinecolor": "#2a3f5f",
             "gridcolor": "white",
             "linecolor": "white",
             "minorgridcolor": "white",
             "startlinecolor": "#2a3f5f"
            },
            "type": "carpet"
           }
          ],
          "choropleth": [
           {
            "colorbar": {
             "outlinewidth": 0,
             "ticks": ""
            },
            "type": "choropleth"
           }
          ],
          "contour": [
           {
            "colorbar": {
             "outlinewidth": 0,
             "ticks": ""
            },
            "colorscale": [
             [
              0,
              "#0d0887"
             ],
             [
              0.1111111111111111,
              "#46039f"
             ],
             [
              0.2222222222222222,
              "#7201a8"
             ],
             [
              0.3333333333333333,
              "#9c179e"
             ],
             [
              0.4444444444444444,
              "#bd3786"
             ],
             [
              0.5555555555555556,
              "#d8576b"
             ],
             [
              0.6666666666666666,
              "#ed7953"
             ],
             [
              0.7777777777777778,
              "#fb9f3a"
             ],
             [
              0.8888888888888888,
              "#fdca26"
             ],
             [
              1,
              "#f0f921"
             ]
            ],
            "type": "contour"
           }
          ],
          "contourcarpet": [
           {
            "colorbar": {
             "outlinewidth": 0,
             "ticks": ""
            },
            "type": "contourcarpet"
           }
          ],
          "heatmap": [
           {
            "colorbar": {
             "outlinewidth": 0,
             "ticks": ""
            },
            "colorscale": [
             [
              0,
              "#0d0887"
             ],
             [
              0.1111111111111111,
              "#46039f"
             ],
             [
              0.2222222222222222,
              "#7201a8"
             ],
             [
              0.3333333333333333,
              "#9c179e"
             ],
             [
              0.4444444444444444,
              "#bd3786"
             ],
             [
              0.5555555555555556,
              "#d8576b"
             ],
             [
              0.6666666666666666,
              "#ed7953"
             ],
             [
              0.7777777777777778,
              "#fb9f3a"
             ],
             [
              0.8888888888888888,
              "#fdca26"
             ],
             [
              1,
              "#f0f921"
             ]
            ],
            "type": "heatmap"
           }
          ],
          "heatmapgl": [
           {
            "colorbar": {
             "outlinewidth": 0,
             "ticks": ""
            },
            "colorscale": [
             [
              0,
              "#0d0887"
             ],
             [
              0.1111111111111111,
              "#46039f"
             ],
             [
              0.2222222222222222,
              "#7201a8"
             ],
             [
              0.3333333333333333,
              "#9c179e"
             ],
             [
              0.4444444444444444,
              "#bd3786"
             ],
             [
              0.5555555555555556,
              "#d8576b"
             ],
             [
              0.6666666666666666,
              "#ed7953"
             ],
             [
              0.7777777777777778,
              "#fb9f3a"
             ],
             [
              0.8888888888888888,
              "#fdca26"
             ],
             [
              1,
              "#f0f921"
             ]
            ],
            "type": "heatmapgl"
           }
          ],
          "histogram": [
           {
            "marker": {
             "pattern": {
              "fillmode": "overlay",
              "size": 10,
              "solidity": 0.2
             }
            },
            "type": "histogram"
           }
          ],
          "histogram2d": [
           {
            "colorbar": {
             "outlinewidth": 0,
             "ticks": ""
            },
            "colorscale": [
             [
              0,
              "#0d0887"
             ],
             [
              0.1111111111111111,
              "#46039f"
             ],
             [
              0.2222222222222222,
              "#7201a8"
             ],
             [
              0.3333333333333333,
              "#9c179e"
             ],
             [
              0.4444444444444444,
              "#bd3786"
             ],
             [
              0.5555555555555556,
              "#d8576b"
             ],
             [
              0.6666666666666666,
              "#ed7953"
             ],
             [
              0.7777777777777778,
              "#fb9f3a"
             ],
             [
              0.8888888888888888,
              "#fdca26"
             ],
             [
              1,
              "#f0f921"
             ]
            ],
            "type": "histogram2d"
           }
          ],
          "histogram2dcontour": [
           {
            "colorbar": {
             "outlinewidth": 0,
             "ticks": ""
            },
            "colorscale": [
             [
              0,
              "#0d0887"
             ],
             [
              0.1111111111111111,
              "#46039f"
             ],
             [
              0.2222222222222222,
              "#7201a8"
             ],
             [
              0.3333333333333333,
              "#9c179e"
             ],
             [
              0.4444444444444444,
              "#bd3786"
             ],
             [
              0.5555555555555556,
              "#d8576b"
             ],
             [
              0.6666666666666666,
              "#ed7953"
             ],
             [
              0.7777777777777778,
              "#fb9f3a"
             ],
             [
              0.8888888888888888,
              "#fdca26"
             ],
             [
              1,
              "#f0f921"
             ]
            ],
            "type": "histogram2dcontour"
           }
          ],
          "mesh3d": [
           {
            "colorbar": {
             "outlinewidth": 0,
             "ticks": ""
            },
            "type": "mesh3d"
           }
          ],
          "parcoords": [
           {
            "line": {
             "colorbar": {
              "outlinewidth": 0,
              "ticks": ""
             }
            },
            "type": "parcoords"
           }
          ],
          "pie": [
           {
            "automargin": true,
            "type": "pie"
           }
          ],
          "scatter": [
           {
            "fillpattern": {
             "fillmode": "overlay",
             "size": 10,
             "solidity": 0.2
            },
            "type": "scatter"
           }
          ],
          "scatter3d": [
           {
            "line": {
             "colorbar": {
              "outlinewidth": 0,
              "ticks": ""
             }
            },
            "marker": {
             "colorbar": {
              "outlinewidth": 0,
              "ticks": ""
             }
            },
            "type": "scatter3d"
           }
          ],
          "scattercarpet": [
           {
            "marker": {
             "colorbar": {
              "outlinewidth": 0,
              "ticks": ""
             }
            },
            "type": "scattercarpet"
           }
          ],
          "scattergeo": [
           {
            "marker": {
             "colorbar": {
              "outlinewidth": 0,
              "ticks": ""
             }
            },
            "type": "scattergeo"
           }
          ],
          "scattergl": [
           {
            "marker": {
             "colorbar": {
              "outlinewidth": 0,
              "ticks": ""
             }
            },
            "type": "scattergl"
           }
          ],
          "scattermapbox": [
           {
            "marker": {
             "colorbar": {
              "outlinewidth": 0,
              "ticks": ""
             }
            },
            "type": "scattermapbox"
           }
          ],
          "scatterpolar": [
           {
            "marker": {
             "colorbar": {
              "outlinewidth": 0,
              "ticks": ""
             }
            },
            "type": "scatterpolar"
           }
          ],
          "scatterpolargl": [
           {
            "marker": {
             "colorbar": {
              "outlinewidth": 0,
              "ticks": ""
             }
            },
            "type": "scatterpolargl"
           }
          ],
          "scatterternary": [
           {
            "marker": {
             "colorbar": {
              "outlinewidth": 0,
              "ticks": ""
             }
            },
            "type": "scatterternary"
           }
          ],
          "surface": [
           {
            "colorbar": {
             "outlinewidth": 0,
             "ticks": ""
            },
            "colorscale": [
             [
              0,
              "#0d0887"
             ],
             [
              0.1111111111111111,
              "#46039f"
             ],
             [
              0.2222222222222222,
              "#7201a8"
             ],
             [
              0.3333333333333333,
              "#9c179e"
             ],
             [
              0.4444444444444444,
              "#bd3786"
             ],
             [
              0.5555555555555556,
              "#d8576b"
             ],
             [
              0.6666666666666666,
              "#ed7953"
             ],
             [
              0.7777777777777778,
              "#fb9f3a"
             ],
             [
              0.8888888888888888,
              "#fdca26"
             ],
             [
              1,
              "#f0f921"
             ]
            ],
            "type": "surface"
           }
          ],
          "table": [
           {
            "cells": {
             "fill": {
              "color": "#EBF0F8"
             },
             "line": {
              "color": "white"
             }
            },
            "header": {
             "fill": {
              "color": "#C8D4E3"
             },
             "line": {
              "color": "white"
             }
            },
            "type": "table"
           }
          ]
         },
         "layout": {
          "annotationdefaults": {
           "arrowcolor": "#2a3f5f",
           "arrowhead": 0,
           "arrowwidth": 1
          },
          "autotypenumbers": "strict",
          "coloraxis": {
           "colorbar": {
            "outlinewidth": 0,
            "ticks": ""
           }
          },
          "colorscale": {
           "diverging": [
            [
             0,
             "#8e0152"
            ],
            [
             0.1,
             "#c51b7d"
            ],
            [
             0.2,
             "#de77ae"
            ],
            [
             0.3,
             "#f1b6da"
            ],
            [
             0.4,
             "#fde0ef"
            ],
            [
             0.5,
             "#f7f7f7"
            ],
            [
             0.6,
             "#e6f5d0"
            ],
            [
             0.7,
             "#b8e186"
            ],
            [
             0.8,
             "#7fbc41"
            ],
            [
             0.9,
             "#4d9221"
            ],
            [
             1,
             "#276419"
            ]
           ],
           "sequential": [
            [
             0,
             "#0d0887"
            ],
            [
             0.1111111111111111,
             "#46039f"
            ],
            [
             0.2222222222222222,
             "#7201a8"
            ],
            [
             0.3333333333333333,
             "#9c179e"
            ],
            [
             0.4444444444444444,
             "#bd3786"
            ],
            [
             0.5555555555555556,
             "#d8576b"
            ],
            [
             0.6666666666666666,
             "#ed7953"
            ],
            [
             0.7777777777777778,
             "#fb9f3a"
            ],
            [
             0.8888888888888888,
             "#fdca26"
            ],
            [
             1,
             "#f0f921"
            ]
           ],
           "sequentialminus": [
            [
             0,
             "#0d0887"
            ],
            [
             0.1111111111111111,
             "#46039f"
            ],
            [
             0.2222222222222222,
             "#7201a8"
            ],
            [
             0.3333333333333333,
             "#9c179e"
            ],
            [
             0.4444444444444444,
             "#bd3786"
            ],
            [
             0.5555555555555556,
             "#d8576b"
            ],
            [
             0.6666666666666666,
             "#ed7953"
            ],
            [
             0.7777777777777778,
             "#fb9f3a"
            ],
            [
             0.8888888888888888,
             "#fdca26"
            ],
            [
             1,
             "#f0f921"
            ]
           ]
          },
          "colorway": [
           "#636efa",
           "#EF553B",
           "#00cc96",
           "#ab63fa",
           "#FFA15A",
           "#19d3f3",
           "#FF6692",
           "#B6E880",
           "#FF97FF",
           "#FECB52"
          ],
          "font": {
           "color": "#2a3f5f"
          },
          "geo": {
           "bgcolor": "white",
           "lakecolor": "white",
           "landcolor": "#E5ECF6",
           "showlakes": true,
           "showland": true,
           "subunitcolor": "white"
          },
          "hoverlabel": {
           "align": "left"
          },
          "hovermode": "closest",
          "mapbox": {
           "style": "light"
          },
          "paper_bgcolor": "white",
          "plot_bgcolor": "#E5ECF6",
          "polar": {
           "angularaxis": {
            "gridcolor": "white",
            "linecolor": "white",
            "ticks": ""
           },
           "bgcolor": "#E5ECF6",
           "radialaxis": {
            "gridcolor": "white",
            "linecolor": "white",
            "ticks": ""
           }
          },
          "scene": {
           "xaxis": {
            "backgroundcolor": "#E5ECF6",
            "gridcolor": "white",
            "gridwidth": 2,
            "linecolor": "white",
            "showbackground": true,
            "ticks": "",
            "zerolinecolor": "white"
           },
           "yaxis": {
            "backgroundcolor": "#E5ECF6",
            "gridcolor": "white",
            "gridwidth": 2,
            "linecolor": "white",
            "showbackground": true,
            "ticks": "",
            "zerolinecolor": "white"
           },
           "zaxis": {
            "backgroundcolor": "#E5ECF6",
            "gridcolor": "white",
            "gridwidth": 2,
            "linecolor": "white",
            "showbackground": true,
            "ticks": "",
            "zerolinecolor": "white"
           }
          },
          "shapedefaults": {
           "line": {
            "color": "#2a3f5f"
           }
          },
          "ternary": {
           "aaxis": {
            "gridcolor": "white",
            "linecolor": "white",
            "ticks": ""
           },
           "baxis": {
            "gridcolor": "white",
            "linecolor": "white",
            "ticks": ""
           },
           "bgcolor": "#E5ECF6",
           "caxis": {
            "gridcolor": "white",
            "linecolor": "white",
            "ticks": ""
           }
          },
          "title": {
           "x": 0.05
          },
          "xaxis": {
           "automargin": true,
           "gridcolor": "white",
           "linecolor": "white",
           "ticks": "",
           "title": {
            "standoff": 15
           },
           "zerolinecolor": "white",
           "zerolinewidth": 2
          },
          "yaxis": {
           "automargin": true,
           "gridcolor": "white",
           "linecolor": "white",
           "ticks": "",
           "title": {
            "standoff": 15
           },
           "zerolinecolor": "white",
           "zerolinewidth": 2
          }
         }
        },
        "title": {
         "text": "Revenue by Year by Publisher"
        },
        "xaxis": {
         "anchor": "y",
         "domain": [
          0,
          1
         ],
         "title": {
          "text": "publishing_year"
         }
        },
        "yaxis": {
         "anchor": "x",
         "domain": [
          0,
          1
         ],
         "title": {
          "text": "publisher_revenue"
         }
        }
       }
      }
     },
     "metadata": {},
     "output_type": "display_data"
    }
   ],
   "source": [
    "rev_by_pub = recent.groupby(['publishing_year','publisher'])['publisher_revenue'].sum().reset_index()\n",
    "px.line(rev_by_pub,x='publishing_year',y='publisher_revenue',color='publisher',title='Revenue by Year by Publisher')"
   ]
  },
  {
   "cell_type": "markdown",
   "metadata": {},
   "source": [
    "Below is a histogram showing the distribution of gross sales."
   ]
  },
  {
   "cell_type": "code",
   "execution_count": 72,
   "metadata": {},
   "outputs": [
    {
     "data": {
      "application/vnd.plotly.v1+json": {
       "config": {
        "plotlyServerURL": "https://plot.ly"
       },
       "data": [
        {
         "alignmentgroup": "True",
         "bingroup": "x",
         "hovertemplate": "gross_sales=%{x}<br>count=%{y}<extra></extra>",
         "legendgroup": "",
         "marker": {
          "color": "#636efa",
          "pattern": {
           "shape": ""
          }
         },
         "name": "",
         "nbinsx": 100,
         "offsetgroup": "",
         "orientation": "v",
         "showlegend": false,
         "type": "histogram",
         "x": [
          34160,
          12437.5,
          47795,
          41250,
          37952.5,
          19960,
          27491.67,
          26182,
          26093.67,
          23792.34,
          17964,
          21564,
          3431.34,
          6897.34,
          21797.82,
          16297.34,
          15968,
          15968,
          6234.67,
          3035.34,
          11702.67,
          8569.34,
          2772,
          8171.67,
          2639.34,
          7774,
          26904.06,
          2376,
          9576,
          9308.67,
          4509.34,
          2178,
          13178,
          2045.34,
          17980,
          1964.16,
          1964.16,
          1949.31,
          1949.31,
          20309.55,
          1873.08,
          7485.24,
          3703.39,
          11057.54,
          12791.7,
          8982,
          3582,
          1766.16,
          10596.31,
          15058.27,
          1720.62,
          1705.77,
          8517.93,
          1675.08,
          6687.24,
          4966.39,
          1629.54,
          17783.3,
          1613.7,
          18394.85,
          10384,
          6320.16,
          4707,
          1522.62,
          5924.47,
          12040.93,
          13413.08,
          2907.39,
          11553.54,
          5705.7,
          9890.85,
          5245.36,
          5826.64,
          2724.31,
          5462.31,
          6751.47,
          6676.62,
          1309.77,
          5933.78,
          8482.43,
          6447.08,
          2539.24,
          4907.7,
          1202.85,
          2417.85,
          1188,
          2388,
          2356.16,
          1157.31,
          1157.31,
          1111.77,
          5603.77,
          2202.93,
          6983.24,
          6885.89,
          1035.54,
          1019.7,
          6079.85,
          6932.45,
          985.05,
          5068.8,
          2195.2,
          7312.5,
          960.3,
          10224,
          7670.4,
          1880.55,
          4690.6,
          3730.65,
          1850.7,
          5980,
          905.85,
          7759.2,
          900.9,
          895.95,
          891,
          5841,
          10731.05,
          2661.1,
          1771.1,
          3531.15,
          6525,
          3451.35,
          6871.4,
          841.5,
          10131.55,
          6711.6,
          816.75,
          1641.75,
          5696.85,
          2421.9,
          8573.25,
          3192,
          792,
          3172.05,
          1572.1,
          9412.15,
          3112.2,
          8269.25,
          1512.4,
          3012.45,
          3742.5,
          2992.5,
          3717.55,
          2952.6,
          727.65,
          3642.7,
          5444.75,
          712.8,
          702.9,
          697.95,
          5593,
          1353.2,
          668.25,
          3678.3,
          658.35,
          7814.4,
          648.45,
          9818.45,
          3243.5,
          1943.5,
          3218.55,
          4473.6,
          5663.7,
          608.85,
          603.9,
          1210,
          594,
          3540.25,
          3564.05,
          1174.1,
          5200.65,
          569.25,
          1134.3,
          1659.45,
          4434.45,
          544.5,
          534.6,
          2154.6,
          1599.65,
          524.7,
          1024.85,
          1524.9,
          2014.95,
          5433.18,
          1483.04,
          2950.91,
          2445.1,
          483.12,
          2605.92,
          5269.53,
          2057.58,
          476.19,
          475.2,
          1429.22,
          5253.22,
          1423.24,
          2375.24,
          470.25,
          470.25,
          1399.32,
          461.34,
          1393.34,
          460.35,
          455.4,
          455.4,
          3643.44,
          1815.45,
          5000.45,
          5195.91,
          448.47,
          2250.49,
          4792.5,
          4771.2,
          443.52,
          1324.57,
          8811.18,
          2175.64,
          430.65,
          5191.67,
          2593.67,
          426.69,
          425.7,
          5107.74,
          3821.22,
          420.75,
          1687.77,
          4473,
          413.82,
          411.84,
          2070.85,
          2537.9,
          1219.92,
          1685.04,
          2025.94,
          2251.8,
          1007.5,
          4270.65,
          3180.02,
          392.04,
          392.04,
          387.09,
          2726.1,
          1154.14,
          766.15,
          3060.17,
          758.19,
          3013.71,
          1136.2,
          1886.22,
          1124.24,
          371.25,
          1871.25,
          1488.27,
          1115.27,
          366.3,
          2775,
          1100.32,
          1094.34,
          4388.34,
          4084.35,
          1811.37,
          1085.37,
          357.39,
          1079.39,
          3905.78,
          1064.44,
          706.45,
          1049.49,
          347.49,
          346.5,
          344.52,
          1031.55,
          1025.57,
          1019.59,
          1019.59,
          3872.6,
          1686.62,
          1676.64,
          666.65,
          2620.72,
          2875.32,
          1300.74,
          2759.25,
          1611.77,
          2468.49,
          950.82,
          1576.84,
          2044.35,
          1874.87,
          307.89,
          306.9,
          616.9,
          2460.92,
          2152.92,
          10327.3,
          598.99,
          1487.02,
          891.02,
          1181.04,
          885.04,
          1772.95,
          292.05,
          290.07,
          288.09,
          3694.6,
          1149.12,
          1707.15,
          427.5,
          2071.56,
          1412.17,
          3650.19,
          1387.22,
          1097.25,
          2618.07,
          267.3,
          267.3,
          263.34,
          997.5,
          1719.85,
          1877.82,
          1041.39,
          777.4,
          771.42,
          1527.45,
          997.5,
          997.5,
          246.51,
          744.51,
          1635.93,
          3221.52,
          741.52,
          738.53,
          1141.14,
          244.53,
          1227.54,
          977.55,
          977.55,
          1698.57,
          726.57,
          1494.45,
          965.58,
          1202.59,
          2566.65,
          1197.6,
          236.61,
          953.61,
          1544.62,
          1419.63,
          471.63,
          1182.63,
          708.63,
          1885.64,
          1642.65,
          933.66,
          463.67,
          461.68,
          925.68,
          2460.15,
          690.69,
          687.7,
          2509.3,
          226.71,
          1142.71,
          909.72,
          5902.92,
          1468.69,
          223.74,
          1188.76,
          897.75,
          221.76,
          1274.56,
          1112.77,
          1781.77,
          1662.78,
          660.79,
          437.8,
          3955.6,
          2067.36,
          1311.81,
          433.82,
          2177.82,
          1864.03,
          214.83,
          2311.05,
          1072.85,
          1717.85,
          642.85,
          1281.86,
          849.87,
          423.87,
          1062.87,
          1693.88,
          1080.32,
          630.89,
          2007.6,
          833.91,
          206.91,
          621.92,
          205.92,
          1245.92,
          1032.93,
          2457.95,
          1621.97,
          1703.17,
          603.98,
          603.98,
          600.99,
          198.99,
          399.99,
          500,
          1898,
          595.01,
          196.02,
          790.02,
          1059.86,
          194.04,
          586.04,
          1480.05,
          583.05,
          192.06,
          191.07,
          770.07,
          1726.08,
          1468.79,
          948.1,
          376.11,
          1510.11,
          565.11,
          750.12,
          186.12,
          185.13,
          746.13,
          184.14,
          1114.14,
          553.15,
          550.16,
          181.17,
          544.18,
          1243.06,
          903.19,
          1726.2,
          177.21,
          2280.46,
          176.22,
          532.22,
          354.22,
          1242.44,
          175.23,
          350.24,
          702.24,
          1230.24,
          523.25,
          868.26,
          1216.26,
          1346.76,
          1842.45,
          344.27,
          171.27,
          517.27,
          170.28,
          1632.28,
          340.29,
          1024.29,
          1879.29,
          1109.79,
          648.09,
          340.29,
          508.3,
          678.3,
          848.3,
          1688.31,
          1350.31,
          674.31,
          167.31,
          2153.06,
          1294.54,
          1843.79,
          1342.32,
          166.32,
          1291.92,
          332.33,
          165.33,
          1985.63,
          833.33,
          1835.33,
          1152.04,
          164.34,
          1226.74,
          1153.35,
          823.35,
          163.35,
          823.35,
          1757.25,
          162.36,
          1746.6,
          162.36,
          162.36,
          162.36,
          324.37,
          813.37,
          1470.26,
          161.37,
          322.38,
          322.38,
          160.38,
          320.39,
          642.39,
          615.02,
          478.4,
          1438.4,
          478.4,
          478.4,
          1598.4,
          475.41,
          157.41,
          475.41,
          634.41,
          314.42,
          1136.02,
          472.42,
          1420.42,
          469.43,
          155.43,
          1474.23,
          154.44,
          778.44,
          669.24,
          2106.45,
          618.45,
          1230.46,
          614.46,
          460.46,
          768.46,
          1167.32,
          610.47,
          151.47,
          151.47,
          1176.57,
          1618.8,
          1111.12,
          910.48,
          149.49,
          151,
          661.38,
          1508.49,
          1125,
          598.5,
          594.51,
          594.51,
          1488.51,
          594.51,
          1427.42,
          1144.04,
          146.52,
          442.52,
          145.53,
          1997.73,
          145.53,
          439.53,
          439.53,
          1074.57,
          675.98,
          582.54,
          1097.92,
          1166.54,
          1251.22,
          144.54,
          665.55,
          723.55,
          990.35,
          1448.55,
          868.55,
          1134.72,
          570.57,
          1428.57,
          1072.5,
          708.58,
          1560.58,
          969.86,
          562.59,
          139.59,
          1030.71,
          562.59,
          558.6,
          418.6,
          1398.6,
          698.6,
          137.61,
          693.61,
          725.88,
          1516.62,
          957.72,
          1094.63,
          836.4,
          1225.36,
          542.64,
          133.65,
          538.65,
          808.65,
          873.68,
          1191.26,
          663.67,
          530.67,
          397.67,
          394.68,
          394.68,
          394.68,
          790.68,
          526.68,
          130.68,
          327.36,
          394.68,
          260.69,
          1395.15,
          129.69,
          260.69,
          492.7,
          258.7,
          1656.2,
          514.71,
          127.71,
          127.71,
          127.71,
          127.71,
          885.76,
          888.32,
          1470.72,
          787.2,
          126.72,
          1153.28,
          843.28,
          1395.73,
          125.73,
          506.73,
          502.74,
          124.74,
          1198.75,
          1127.5,
          122.76,
          370.76,
          121.77,
          121.77,
          974.78,
          120.78,
          1096.78,
          486.78,
          966.79,
          930.49,
          119.79,
          671.55,
          118.8,
          118.8,
          118.8,
          950.81,
          117.81,
          912.73,
          355.81,
          117.81,
          712.81,
          117.81,
          236.81,
          712.81,
          474.81,
          355.81,
          355.81,
          1188.81,
          355.81,
          117.81,
          593.81,
          117.81,
          784.21,
          1082.9,
          117.81,
          117.81,
          915.11,
          355.81,
          640.22,
          1307.81,
          117.81,
          593.81,
          355.81,
          1022.21,
          117.81,
          355.81,
          950.81,
          357.54,
          352.82,
          116.82,
          862.58,
          862.58,
          352.82,
          1060.82,
          352.82,
          116.82,
          1320.42,
          761.1,
          654.9,
          116.82,
          116.82,
          824.82,
          1060.82,
          706.82,
          502.68,
          1131.62,
          234.82,
          588.82,
          1680.32,
          1128.08,
          352.82,
          872.02,
          470.82,
          824.82,
          352.82,
          942.82,
          470.82,
          588.82,
          234.82,
          234.82,
          725.7,
          466.83,
          934.83,
          349.83,
          349.83,
          115.83,
          232.83,
          232.83,
          855.27,
          1519.83,
          466.83,
          700.83,
          115.83,
          1689.48,
          349.83,
          583.83,
          1170,
          1402.83,
          115.83,
          349.83,
          1084.59,
          232.83,
          466.83,
          349.83,
          466.83,
          1391.13,
          232.83,
          799.11,
          349.83,
          583.83,
          114.84,
          624.08,
          694.84,
          892.04,
          346.84,
          462.84,
          114.84,
          1158.84,
          462.84,
          230.84,
          462.84,
          694.84,
          770.24,
          114.84,
          694.84,
          114.84,
          114.84,
          114.84,
          810.84,
          346.84,
          114.84,
          114.84,
          462.84,
          1042.84,
          1041.68,
          1506.84,
          784.16,
          346.84,
          1158.84,
          926.84,
          458.85,
          1367.35,
          573.85,
          343.85,
          1033.85,
          343.85,
          343.85,
          573.85,
          343.85,
          458.85,
          1263.85,
          458.85,
          343.85,
          343.85,
          458.85,
          803.85,
          930.35,
          113.85,
          573.85,
          1269.6,
          884.35,
          113.85,
          573.85,
          573.85,
          113.85,
          343.85,
          910.86,
          1366.86,
          1366.86,
          340.86,
          568.86,
          112.86,
          910.86,
          112.86,
          876.66,
          226.86,
          568.86,
          568.86,
          112.86,
          226.86,
          876.66,
          340.86,
          1366.86,
          397.86,
          568.86,
          340.86,
          454.86,
          856.14,
          340.86,
          345.42,
          844.74,
          228,
          597.36,
          778.62,
          910.86,
          454.86,
          454.86,
          746.7,
          1220.4,
          431.66,
          902.87,
          563.87,
          1128.87,
          450.87,
          450.87,
          1241.87,
          111.87,
          169.5,
          450.87,
          1388.77,
          111.87,
          111.87,
          111.87,
          864.45,
          1327.75,
          781.96,
          450.87,
          337.87,
          970.67,
          1015.87,
          846.37,
          789.87,
          111.87,
          224.87,
          111.87,
          224.87,
          992.14,
          282.5,
          110.88,
          838.88,
          334.88,
          670.88,
          334.88,
          334.88,
          110.88,
          894.88,
          334.88,
          670.88,
          446.88,
          894.88,
          842.24,
          334.88,
          1326.08,
          446.88,
          558.88,
          110.88,
          1230.88,
          558.88,
          334.88,
          838.88,
          334.88,
          446.88,
          670.88,
          222.88,
          334.88,
          222.88,
          109.89,
          331.89,
          1330.89,
          442.89,
          109.89,
          331.89,
          331.89,
          109.89,
          109.89,
          220.89,
          331.89,
          331.89,
          899.1,
          1314.24,
          220.89,
          1330.89,
          1225.44,
          109.89,
          196.47,
          109.89,
          109.89,
          637.14,
          858.03,
          442.89,
          1219.89,
          331.89,
          1414.14,
          331.89,
          331.89,
          109.89,
          548.9,
          1098.9,
          108.9,
          108.9,
          438.9,
          1230.9,
          108.9,
          438.9,
          108.9,
          218.9,
          438.9,
          1351.9,
          1208.9,
          878.9,
          108.9,
          328.9,
          603.9,
          988.9,
          438.9,
          1200.1,
          988.9,
          988.9,
          548.9,
          108.9,
          1867.8,
          416.9,
          548.9,
          493.9,
          641.3,
          1088.91,
          216.91,
          434.91,
          1160.85,
          516.66,
          107.91,
          107.91,
          543.91,
          1502.02,
          107.91,
          107.91,
          325.91,
          706.32,
          216.91,
          1306.91,
          960.29,
          598.41,
          325.91,
          325.91,
          325.91,
          620.21,
          434.91,
          325.91,
          107.91,
          325.91,
          434.91,
          434.91,
          543.91,
          543.91,
          107.91,
          107.91,
          761.91,
          538.92,
          646.92,
          970.92,
          106.92,
          106.92,
          1659.96,
          412.56,
          430.92,
          430.92,
          1186.92,
          1150.2,
          430.92,
          1327.32,
          322.92,
          322.92,
          516.24,
          214.92,
          139.32,
          748.44,
          106.92,
          646.92,
          1186.92,
          538.92,
          106.92,
          430.92,
          538.92,
          322.92,
          1078.92,
          214.92,
          430.92,
          322.92,
          322.92,
          105.93,
          854.93,
          919.13,
          105.93,
          426.93,
          1272.23,
          640.93,
          105.93,
          408.74,
          319.93,
          1282.93,
          640.93,
          854.93,
          1175.93,
          105.93,
          854.93,
          426.93,
          405.53,
          324.21,
          747.93,
          951.23,
          319.93,
          529.65,
          426.93,
          105.93,
          822.83,
          1149.18,
          640.93,
          319.93,
          104.94,
          477,
          1588.94,
          212,
          735.64,
          846.94,
          1334.54,
          827.86,
          589.36,
          316.94,
          1058.94,
          316.94,
          740.94,
          210.94,
          104.94,
          815.14,
          846.94,
          316.94,
          104.94,
          846.94,
          846.94,
          104.94,
          316.94
         ],
         "xaxis": "x",
         "yaxis": "y"
        }
       ],
       "layout": {
        "barmode": "relative",
        "legend": {
         "tracegroupgap": 0
        },
        "template": {
         "data": {
          "bar": [
           {
            "error_x": {
             "color": "#2a3f5f"
            },
            "error_y": {
             "color": "#2a3f5f"
            },
            "marker": {
             "line": {
              "color": "#E5ECF6",
              "width": 0.5
             },
             "pattern": {
              "fillmode": "overlay",
              "size": 10,
              "solidity": 0.2
             }
            },
            "type": "bar"
           }
          ],
          "barpolar": [
           {
            "marker": {
             "line": {
              "color": "#E5ECF6",
              "width": 0.5
             },
             "pattern": {
              "fillmode": "overlay",
              "size": 10,
              "solidity": 0.2
             }
            },
            "type": "barpolar"
           }
          ],
          "carpet": [
           {
            "aaxis": {
             "endlinecolor": "#2a3f5f",
             "gridcolor": "white",
             "linecolor": "white",
             "minorgridcolor": "white",
             "startlinecolor": "#2a3f5f"
            },
            "baxis": {
             "endlinecolor": "#2a3f5f",
             "gridcolor": "white",
             "linecolor": "white",
             "minorgridcolor": "white",
             "startlinecolor": "#2a3f5f"
            },
            "type": "carpet"
           }
          ],
          "choropleth": [
           {
            "colorbar": {
             "outlinewidth": 0,
             "ticks": ""
            },
            "type": "choropleth"
           }
          ],
          "contour": [
           {
            "colorbar": {
             "outlinewidth": 0,
             "ticks": ""
            },
            "colorscale": [
             [
              0,
              "#0d0887"
             ],
             [
              0.1111111111111111,
              "#46039f"
             ],
             [
              0.2222222222222222,
              "#7201a8"
             ],
             [
              0.3333333333333333,
              "#9c179e"
             ],
             [
              0.4444444444444444,
              "#bd3786"
             ],
             [
              0.5555555555555556,
              "#d8576b"
             ],
             [
              0.6666666666666666,
              "#ed7953"
             ],
             [
              0.7777777777777778,
              "#fb9f3a"
             ],
             [
              0.8888888888888888,
              "#fdca26"
             ],
             [
              1,
              "#f0f921"
             ]
            ],
            "type": "contour"
           }
          ],
          "contourcarpet": [
           {
            "colorbar": {
             "outlinewidth": 0,
             "ticks": ""
            },
            "type": "contourcarpet"
           }
          ],
          "heatmap": [
           {
            "colorbar": {
             "outlinewidth": 0,
             "ticks": ""
            },
            "colorscale": [
             [
              0,
              "#0d0887"
             ],
             [
              0.1111111111111111,
              "#46039f"
             ],
             [
              0.2222222222222222,
              "#7201a8"
             ],
             [
              0.3333333333333333,
              "#9c179e"
             ],
             [
              0.4444444444444444,
              "#bd3786"
             ],
             [
              0.5555555555555556,
              "#d8576b"
             ],
             [
              0.6666666666666666,
              "#ed7953"
             ],
             [
              0.7777777777777778,
              "#fb9f3a"
             ],
             [
              0.8888888888888888,
              "#fdca26"
             ],
             [
              1,
              "#f0f921"
             ]
            ],
            "type": "heatmap"
           }
          ],
          "heatmapgl": [
           {
            "colorbar": {
             "outlinewidth": 0,
             "ticks": ""
            },
            "colorscale": [
             [
              0,
              "#0d0887"
             ],
             [
              0.1111111111111111,
              "#46039f"
             ],
             [
              0.2222222222222222,
              "#7201a8"
             ],
             [
              0.3333333333333333,
              "#9c179e"
             ],
             [
              0.4444444444444444,
              "#bd3786"
             ],
             [
              0.5555555555555556,
              "#d8576b"
             ],
             [
              0.6666666666666666,
              "#ed7953"
             ],
             [
              0.7777777777777778,
              "#fb9f3a"
             ],
             [
              0.8888888888888888,
              "#fdca26"
             ],
             [
              1,
              "#f0f921"
             ]
            ],
            "type": "heatmapgl"
           }
          ],
          "histogram": [
           {
            "marker": {
             "pattern": {
              "fillmode": "overlay",
              "size": 10,
              "solidity": 0.2
             }
            },
            "type": "histogram"
           }
          ],
          "histogram2d": [
           {
            "colorbar": {
             "outlinewidth": 0,
             "ticks": ""
            },
            "colorscale": [
             [
              0,
              "#0d0887"
             ],
             [
              0.1111111111111111,
              "#46039f"
             ],
             [
              0.2222222222222222,
              "#7201a8"
             ],
             [
              0.3333333333333333,
              "#9c179e"
             ],
             [
              0.4444444444444444,
              "#bd3786"
             ],
             [
              0.5555555555555556,
              "#d8576b"
             ],
             [
              0.6666666666666666,
              "#ed7953"
             ],
             [
              0.7777777777777778,
              "#fb9f3a"
             ],
             [
              0.8888888888888888,
              "#fdca26"
             ],
             [
              1,
              "#f0f921"
             ]
            ],
            "type": "histogram2d"
           }
          ],
          "histogram2dcontour": [
           {
            "colorbar": {
             "outlinewidth": 0,
             "ticks": ""
            },
            "colorscale": [
             [
              0,
              "#0d0887"
             ],
             [
              0.1111111111111111,
              "#46039f"
             ],
             [
              0.2222222222222222,
              "#7201a8"
             ],
             [
              0.3333333333333333,
              "#9c179e"
             ],
             [
              0.4444444444444444,
              "#bd3786"
             ],
             [
              0.5555555555555556,
              "#d8576b"
             ],
             [
              0.6666666666666666,
              "#ed7953"
             ],
             [
              0.7777777777777778,
              "#fb9f3a"
             ],
             [
              0.8888888888888888,
              "#fdca26"
             ],
             [
              1,
              "#f0f921"
             ]
            ],
            "type": "histogram2dcontour"
           }
          ],
          "mesh3d": [
           {
            "colorbar": {
             "outlinewidth": 0,
             "ticks": ""
            },
            "type": "mesh3d"
           }
          ],
          "parcoords": [
           {
            "line": {
             "colorbar": {
              "outlinewidth": 0,
              "ticks": ""
             }
            },
            "type": "parcoords"
           }
          ],
          "pie": [
           {
            "automargin": true,
            "type": "pie"
           }
          ],
          "scatter": [
           {
            "fillpattern": {
             "fillmode": "overlay",
             "size": 10,
             "solidity": 0.2
            },
            "type": "scatter"
           }
          ],
          "scatter3d": [
           {
            "line": {
             "colorbar": {
              "outlinewidth": 0,
              "ticks": ""
             }
            },
            "marker": {
             "colorbar": {
              "outlinewidth": 0,
              "ticks": ""
             }
            },
            "type": "scatter3d"
           }
          ],
          "scattercarpet": [
           {
            "marker": {
             "colorbar": {
              "outlinewidth": 0,
              "ticks": ""
             }
            },
            "type": "scattercarpet"
           }
          ],
          "scattergeo": [
           {
            "marker": {
             "colorbar": {
              "outlinewidth": 0,
              "ticks": ""
             }
            },
            "type": "scattergeo"
           }
          ],
          "scattergl": [
           {
            "marker": {
             "colorbar": {
              "outlinewidth": 0,
              "ticks": ""
             }
            },
            "type": "scattergl"
           }
          ],
          "scattermapbox": [
           {
            "marker": {
             "colorbar": {
              "outlinewidth": 0,
              "ticks": ""
             }
            },
            "type": "scattermapbox"
           }
          ],
          "scatterpolar": [
           {
            "marker": {
             "colorbar": {
              "outlinewidth": 0,
              "ticks": ""
             }
            },
            "type": "scatterpolar"
           }
          ],
          "scatterpolargl": [
           {
            "marker": {
             "colorbar": {
              "outlinewidth": 0,
              "ticks": ""
             }
            },
            "type": "scatterpolargl"
           }
          ],
          "scatterternary": [
           {
            "marker": {
             "colorbar": {
              "outlinewidth": 0,
              "ticks": ""
             }
            },
            "type": "scatterternary"
           }
          ],
          "surface": [
           {
            "colorbar": {
             "outlinewidth": 0,
             "ticks": ""
            },
            "colorscale": [
             [
              0,
              "#0d0887"
             ],
             [
              0.1111111111111111,
              "#46039f"
             ],
             [
              0.2222222222222222,
              "#7201a8"
             ],
             [
              0.3333333333333333,
              "#9c179e"
             ],
             [
              0.4444444444444444,
              "#bd3786"
             ],
             [
              0.5555555555555556,
              "#d8576b"
             ],
             [
              0.6666666666666666,
              "#ed7953"
             ],
             [
              0.7777777777777778,
              "#fb9f3a"
             ],
             [
              0.8888888888888888,
              "#fdca26"
             ],
             [
              1,
              "#f0f921"
             ]
            ],
            "type": "surface"
           }
          ],
          "table": [
           {
            "cells": {
             "fill": {
              "color": "#EBF0F8"
             },
             "line": {
              "color": "white"
             }
            },
            "header": {
             "fill": {
              "color": "#C8D4E3"
             },
             "line": {
              "color": "white"
             }
            },
            "type": "table"
           }
          ]
         },
         "layout": {
          "annotationdefaults": {
           "arrowcolor": "#2a3f5f",
           "arrowhead": 0,
           "arrowwidth": 1
          },
          "autotypenumbers": "strict",
          "coloraxis": {
           "colorbar": {
            "outlinewidth": 0,
            "ticks": ""
           }
          },
          "colorscale": {
           "diverging": [
            [
             0,
             "#8e0152"
            ],
            [
             0.1,
             "#c51b7d"
            ],
            [
             0.2,
             "#de77ae"
            ],
            [
             0.3,
             "#f1b6da"
            ],
            [
             0.4,
             "#fde0ef"
            ],
            [
             0.5,
             "#f7f7f7"
            ],
            [
             0.6,
             "#e6f5d0"
            ],
            [
             0.7,
             "#b8e186"
            ],
            [
             0.8,
             "#7fbc41"
            ],
            [
             0.9,
             "#4d9221"
            ],
            [
             1,
             "#276419"
            ]
           ],
           "sequential": [
            [
             0,
             "#0d0887"
            ],
            [
             0.1111111111111111,
             "#46039f"
            ],
            [
             0.2222222222222222,
             "#7201a8"
            ],
            [
             0.3333333333333333,
             "#9c179e"
            ],
            [
             0.4444444444444444,
             "#bd3786"
            ],
            [
             0.5555555555555556,
             "#d8576b"
            ],
            [
             0.6666666666666666,
             "#ed7953"
            ],
            [
             0.7777777777777778,
             "#fb9f3a"
            ],
            [
             0.8888888888888888,
             "#fdca26"
            ],
            [
             1,
             "#f0f921"
            ]
           ],
           "sequentialminus": [
            [
             0,
             "#0d0887"
            ],
            [
             0.1111111111111111,
             "#46039f"
            ],
            [
             0.2222222222222222,
             "#7201a8"
            ],
            [
             0.3333333333333333,
             "#9c179e"
            ],
            [
             0.4444444444444444,
             "#bd3786"
            ],
            [
             0.5555555555555556,
             "#d8576b"
            ],
            [
             0.6666666666666666,
             "#ed7953"
            ],
            [
             0.7777777777777778,
             "#fb9f3a"
            ],
            [
             0.8888888888888888,
             "#fdca26"
            ],
            [
             1,
             "#f0f921"
            ]
           ]
          },
          "colorway": [
           "#636efa",
           "#EF553B",
           "#00cc96",
           "#ab63fa",
           "#FFA15A",
           "#19d3f3",
           "#FF6692",
           "#B6E880",
           "#FF97FF",
           "#FECB52"
          ],
          "font": {
           "color": "#2a3f5f"
          },
          "geo": {
           "bgcolor": "white",
           "lakecolor": "white",
           "landcolor": "#E5ECF6",
           "showlakes": true,
           "showland": true,
           "subunitcolor": "white"
          },
          "hoverlabel": {
           "align": "left"
          },
          "hovermode": "closest",
          "mapbox": {
           "style": "light"
          },
          "paper_bgcolor": "white",
          "plot_bgcolor": "#E5ECF6",
          "polar": {
           "angularaxis": {
            "gridcolor": "white",
            "linecolor": "white",
            "ticks": ""
           },
           "bgcolor": "#E5ECF6",
           "radialaxis": {
            "gridcolor": "white",
            "linecolor": "white",
            "ticks": ""
           }
          },
          "scene": {
           "xaxis": {
            "backgroundcolor": "#E5ECF6",
            "gridcolor": "white",
            "gridwidth": 2,
            "linecolor": "white",
            "showbackground": true,
            "ticks": "",
            "zerolinecolor": "white"
           },
           "yaxis": {
            "backgroundcolor": "#E5ECF6",
            "gridcolor": "white",
            "gridwidth": 2,
            "linecolor": "white",
            "showbackground": true,
            "ticks": "",
            "zerolinecolor": "white"
           },
           "zaxis": {
            "backgroundcolor": "#E5ECF6",
            "gridcolor": "white",
            "gridwidth": 2,
            "linecolor": "white",
            "showbackground": true,
            "ticks": "",
            "zerolinecolor": "white"
           }
          },
          "shapedefaults": {
           "line": {
            "color": "#2a3f5f"
           }
          },
          "ternary": {
           "aaxis": {
            "gridcolor": "white",
            "linecolor": "white",
            "ticks": ""
           },
           "baxis": {
            "gridcolor": "white",
            "linecolor": "white",
            "ticks": ""
           },
           "bgcolor": "#E5ECF6",
           "caxis": {
            "gridcolor": "white",
            "linecolor": "white",
            "ticks": ""
           }
          },
          "title": {
           "x": 0.05
          },
          "xaxis": {
           "automargin": true,
           "gridcolor": "white",
           "linecolor": "white",
           "ticks": "",
           "title": {
            "standoff": 15
           },
           "zerolinecolor": "white",
           "zerolinewidth": 2
          },
          "yaxis": {
           "automargin": true,
           "gridcolor": "white",
           "linecolor": "white",
           "ticks": "",
           "title": {
            "standoff": 15
           },
           "zerolinecolor": "white",
           "zerolinewidth": 2
          }
         }
        },
        "title": {
         "text": "Distribution of gross sales by book"
        },
        "xaxis": {
         "anchor": "y",
         "domain": [
          0,
          1
         ],
         "title": {
          "text": "gross_sales"
         }
        },
        "yaxis": {
         "anchor": "x",
         "domain": [
          0,
          1
         ],
         "title": {
          "text": "count"
         }
        }
       }
      }
     },
     "metadata": {},
     "output_type": "display_data"
    }
   ],
   "source": [
    "gross_sales = df['gross_sales']\n",
    "px.histogram(gross_sales,x='gross_sales',nbins=100,title='Distribution of gross sales by book')\n"
   ]
  },
  {
   "cell_type": "markdown",
   "metadata": {},
   "source": [
    "Here I find the mean and median for the distribution. Given that there are many outliers, I take the median as a preferable reference to the average sales."
   ]
  },
  {
   "cell_type": "code",
   "execution_count": 73,
   "metadata": {},
   "outputs": [
    {
     "data": {
      "text/plain": [
       "1856.6229439252338"
      ]
     },
     "execution_count": 73,
     "metadata": {},
     "output_type": "execute_result"
    }
   ],
   "source": [
    "gross_sales.mean()"
   ]
  },
  {
   "cell_type": "code",
   "execution_count": 74,
   "metadata": {},
   "outputs": [
    {
     "data": {
      "text/plain": [
       "809.745"
      ]
     },
     "execution_count": 74,
     "metadata": {},
     "output_type": "execute_result"
    }
   ],
   "source": [
    "gross_sales.median()"
   ]
  },
  {
   "cell_type": "markdown",
   "metadata": {},
   "source": [
    "Here I plot the relationship between average rating of the book to the gross sales of the book."
   ]
  },
  {
   "cell_type": "code",
   "execution_count": 75,
   "metadata": {},
   "outputs": [
    {
     "data": {
      "application/vnd.plotly.v1+json": {
       "config": {
        "plotlyServerURL": "https://plot.ly"
       },
       "data": [
        {
         "hovertemplate": "book_average_rating=%{x}<br>gross_sales=%{y}<extra></extra>",
         "legendgroup": "",
         "marker": {
          "color": "#636efa",
          "symbol": "circle"
         },
         "mode": "markers",
         "name": "",
         "showlegend": false,
         "type": "scattergl",
         "x": [
          3.42,
          4.23,
          3.31,
          4.04,
          4.04,
          4.08,
          4.03,
          3.9,
          4.34,
          4.2,
          4.13,
          3.9,
          4.42,
          4.18,
          4.29,
          3.76,
          3.8,
          3.9,
          4.28,
          4.17,
          3.74,
          4.1,
          3.87,
          4.38,
          4.12,
          3.65,
          3.83,
          4.13,
          3.77,
          3.64,
          4.22,
          4.64,
          4.03,
          4.14,
          4.35,
          3.7,
          4.07,
          4.25,
          4.08,
          3.94,
          4.14,
          4,
          3.52,
          4,
          3.83,
          3.76,
          3.85,
          3.72,
          4.16,
          3.83,
          4.3,
          3.95,
          4.16,
          3.47,
          4.42,
          3.79,
          3.9,
          4.09,
          4.11,
          3.96,
          4.11,
          4.32,
          3.99,
          4,
          3.56,
          3.91,
          3.85,
          4.14,
          4.22,
          3.89,
          4.17,
          3.95,
          4.46,
          3.9,
          3.85,
          3.8,
          4.48,
          4.34,
          3.64,
          4.32,
          3.87,
          4.23,
          4.12,
          3.98,
          4.03,
          3.97,
          3.7,
          4.09,
          4.08,
          4.12,
          3.89,
          3.82,
          3.92,
          4.05,
          3.97,
          4.29,
          4.29,
          4.11,
          3.69,
          3.94,
          4.01,
          4.01,
          3.99,
          3.93,
          3.88,
          4.3,
          4.12,
          3.64,
          3.97,
          3.72,
          4.02,
          4.23,
          3.9,
          4.29,
          3.84,
          3.48,
          3.71,
          4.08,
          3.89,
          3.83,
          3.97,
          4.02,
          4.08,
          3.73,
          3.52,
          3.82,
          3.71,
          3.78,
          3.81,
          3.55,
          4.22,
          4.12,
          4.07,
          3.89,
          4.04,
          4,
          4.08,
          3.78,
          4.2,
          3.9,
          3.98,
          4.16,
          4.26,
          4.16,
          3.85,
          4.19,
          4.27,
          3.98,
          4.22,
          4.17,
          4.16,
          3.8,
          4.02,
          4.54,
          3.85,
          3.98,
          4.06,
          3.98,
          3.67,
          3.69,
          4.31,
          4.04,
          3.77,
          3.7,
          4.03,
          4.05,
          3.85,
          4,
          3.86,
          3.88,
          3.78,
          3.81,
          3.87,
          4.1,
          3.66,
          3.9,
          3.95,
          3.69,
          4.19,
          3.67,
          4.18,
          4.34,
          4.29,
          3.89,
          3.49,
          3.99,
          4.51,
          3.86,
          4.02,
          4.21,
          4.17,
          4.21,
          4.26,
          4.01,
          4.24,
          4.18,
          3.73,
          4.19,
          4.21,
          3.41,
          4.14,
          3.51,
          3.8,
          4.42,
          4.36,
          3.84,
          4.14,
          4.13,
          4.34,
          4.33,
          3.29,
          4.24,
          4.26,
          4.1,
          3.9,
          4.3,
          4.17,
          4.01,
          4.26,
          4.23,
          4.19,
          4.49,
          4.18,
          4.05,
          4.22,
          3.92,
          4.47,
          4.05,
          4.22,
          4.3,
          3.82,
          4.34,
          3.99,
          3.9,
          4.29,
          4.3,
          4.2,
          4.07,
          4.5,
          3.65,
          3.81,
          3.9,
          3.81,
          4.46,
          4.14,
          3.79,
          3.62,
          3.97,
          4.34,
          4.61,
          3.77,
          3.63,
          3.93,
          4.09,
          4.08,
          4.33,
          3.98,
          4.07,
          4.2,
          4.12,
          4.01,
          4.31,
          4.15,
          4.1,
          3.79,
          4.24,
          4.15,
          4.12,
          4.16,
          4.07,
          3.88,
          3.7,
          4.23,
          3.8,
          3.98,
          4.24,
          3.46,
          4.23,
          4.16,
          4.36,
          3.81,
          4.21,
          3.55,
          3.96,
          4.12,
          3.85,
          4.3,
          3.59,
          3.79,
          4.1,
          3.91,
          3.7,
          3.82,
          3.67,
          3.87,
          3.98,
          4.11,
          4.23,
          3.91,
          3.86,
          4.01,
          4.13,
          3.76,
          4.03,
          4.35,
          3.89,
          3.99,
          3.77,
          3.78,
          4.37,
          4.45,
          4.29,
          4.13,
          4.21,
          4.19,
          4.26,
          3.84,
          3.98,
          3.74,
          3.75,
          3.79,
          4.32,
          3.86,
          4,
          3.97,
          3.8,
          4.03,
          4.26,
          4.15,
          3.94,
          4.23,
          4.77,
          4.36,
          4.26,
          3.96,
          3.96,
          3.91,
          4.11,
          3.73,
          4.3,
          3.88,
          3.97,
          3.95,
          4,
          3.69,
          4.13,
          4.17,
          4.12,
          3.72,
          4.03,
          4.04,
          4.16,
          3.95,
          4.07,
          3.83,
          3.93,
          3.72,
          4.24,
          4.35,
          4.23,
          4.04,
          3.9,
          4.49,
          4.32,
          3.86,
          4.07,
          4.06,
          3.86,
          3.93,
          4.11,
          4,
          4.08,
          3.62,
          4.02,
          4.15,
          3.87,
          4.1,
          3.48,
          4.2,
          4.23,
          3.47,
          4.11,
          4.14,
          4.15,
          3.79,
          3.57,
          4.14,
          3.94,
          3.83,
          3.77,
          4.19,
          3.86,
          3.84,
          3.42,
          3.89,
          3.48,
          4.16,
          4.05,
          3.99,
          3.78,
          3.33,
          4.04,
          4.12,
          3.81,
          3.94,
          4.17,
          4.25,
          4.26,
          3.82,
          3.94,
          3.91,
          4.1,
          3.95,
          3.8,
          3.89,
          3.69,
          4.19,
          3.91,
          4.13,
          4.14,
          3.93,
          3.77,
          4.27,
          4.2,
          3.75,
          4.29,
          3.91,
          4.42,
          3.6,
          4.34,
          3.93,
          4.3,
          3.89,
          4.59,
          4.12,
          4.1,
          3.74,
          3.62,
          3.66,
          4.16,
          4.15,
          3.84,
          3.57,
          3.66,
          4,
          4.44,
          3.99,
          4.04,
          3.94,
          4.18,
          3.68,
          4.05,
          4.4,
          3.8,
          4.26,
          3.56,
          4.36,
          4.42,
          4.25,
          3.93,
          3.95,
          3.88,
          4.04,
          4.31,
          4.09,
          4.14,
          4.06,
          4.45,
          4.09,
          4.05,
          3.22,
          4.37,
          4.11,
          4,
          3.75,
          3.97,
          3.79,
          4.17,
          3.54,
          4.65,
          4,
          4.13,
          4.14,
          4.08,
          4.11,
          4.1,
          3.95,
          4.21,
          4.09,
          4,
          4.03,
          4.53,
          4.1,
          3.81,
          3.92,
          4.43,
          4.41,
          3.55,
          4.25,
          3.99,
          4.04,
          4.08,
          3.91,
          4.18,
          4.08,
          4.37,
          3.81,
          3.79,
          3.28,
          3.8,
          4.18,
          3.97,
          4.1,
          3.89,
          4.1,
          3.85,
          4.24,
          4.07,
          4.17,
          3.96,
          3.88,
          3.96,
          3.98,
          3.56,
          3.99,
          3.86,
          3.83,
          4.03,
          3.97,
          4.07,
          3.97,
          3.85,
          3.77,
          3.98,
          4.21,
          3.96,
          4.17,
          4.06,
          3.95,
          4.14,
          4.1,
          3.73,
          3.76,
          4.16,
          3.81,
          3.45,
          3.99,
          3.98,
          3.6,
          4.02,
          4.29,
          3.82,
          3.77,
          3.76,
          3.43,
          4.02,
          4.09,
          3.92,
          4,
          4.13,
          4.11,
          3.98,
          4.02,
          3.76,
          3.89,
          4.02,
          3.91,
          4.14,
          4.31,
          4.27,
          3.91,
          4.01,
          4.15,
          3.76,
          3.86,
          4.28,
          3.76,
          4.28,
          4.34,
          4.33,
          3.41,
          4.21,
          4.05,
          4.13,
          3.89,
          4,
          3.72,
          3.74,
          4,
          4.05,
          4.18,
          4.22,
          3.93,
          3.73,
          3.42,
          4.1,
          4.3,
          4.1,
          3.81,
          4.3,
          3.95,
          3.82,
          3.88,
          4.22,
          3.85,
          3.93,
          4.04,
          4.11,
          3.48,
          3.96,
          3.86,
          4.25,
          4.05,
          3.98,
          3.7,
          3.98,
          3.84,
          3.91,
          3.68,
          4.15,
          4.18,
          3.85,
          4.08,
          4.24,
          3.99,
          3.91,
          3.85,
          4.33,
          4.07,
          4.04,
          4.02,
          3.72,
          3.83,
          3.95,
          4.19,
          4.11,
          4.06,
          4.01,
          4.33,
          4.28,
          3.79,
          4.04,
          3.73,
          3.49,
          4.18,
          4.19,
          3.93,
          3.84,
          4.17,
          4.17,
          4.17,
          3.9,
          4.42,
          3.83,
          3.99,
          3.67,
          3.88,
          3.84,
          3.77,
          3.99,
          3.96,
          4.36,
          3.79,
          4.14,
          3.91,
          4.07,
          4.18,
          4.27,
          4.12,
          4.2,
          3.77,
          3.9,
          4.34,
          3.62,
          4.15,
          3.57,
          3.92,
          3.9,
          3.81,
          4.21,
          4.15,
          3.71,
          3.74,
          3.74,
          3.94,
          4.15,
          4.1,
          4.24,
          4.21,
          3.56,
          3.83,
          3.88,
          4.39,
          4.06,
          3.97,
          4.15,
          4.16,
          4.32,
          4.22,
          4.27,
          3.73,
          4.17,
          3.94,
          3.99,
          4.35,
          3.59,
          4.13,
          4.16,
          3.95,
          4.22,
          4.02,
          3.82,
          4.2,
          3.98,
          3.71,
          4.18,
          3.96,
          4.12,
          3.9,
          3.94,
          4.21,
          3.97,
          4.05,
          4.23,
          3.57,
          4.28,
          4.18,
          3.94,
          4.29,
          3.82,
          3.92,
          3.9,
          4.2,
          4.6,
          4.41,
          4.13,
          4.16,
          3.86,
          4.1,
          3.82,
          3.81,
          3.86,
          4.04,
          4.36,
          4.42,
          4.06,
          4.1,
          4.12,
          3.81,
          3.81,
          3.75,
          3.68,
          3.97,
          4.14,
          4.08,
          3.85,
          4.26,
          4.11,
          4.01,
          3.9,
          4.3,
          4.25,
          4.14,
          3.96,
          4.21,
          3.69,
          3.8,
          4.09,
          4.04,
          4.12,
          3.77,
          3.78,
          4.03,
          4.33,
          4.09,
          3.3,
          3.73,
          4.72,
          3.84,
          4.11,
          3.5,
          3.86,
          4.42,
          3.97,
          4.06,
          3.6,
          3.73,
          4.01,
          3.97,
          4.46,
          4.42,
          4.18,
          3.8,
          3.89,
          4.05,
          4.07,
          3.94,
          4.23,
          4.14,
          3.95,
          4.26,
          3.96,
          3.96,
          3.37,
          4.16,
          4.33,
          4.36,
          4.37,
          3.92,
          4.43,
          4.46,
          4.47,
          3.94,
          3.82,
          3.95,
          4.26,
          3.75,
          4.16,
          4.16,
          4.29,
          4.16,
          4.37,
          4.49,
          3.94,
          4.4,
          4.27,
          3.98,
          4.2,
          4.28,
          3.93,
          3.93,
          3.92,
          4.41,
          4.17,
          3.97,
          3.94,
          4.08,
          4.27,
          3.89,
          4.12,
          4.1,
          3.8,
          3.89,
          4.5,
          3.58,
          4.16,
          4.34,
          3.84,
          4.01,
          4.53,
          3.92,
          4.17,
          4.14,
          4.14,
          3.81,
          3.86,
          4.1,
          3.85,
          3.6,
          4.15,
          3.91,
          3.75,
          3.99,
          4.41,
          3.58,
          4.03,
          4.01,
          3.59,
          4.28,
          4.15,
          3.89,
          4.2,
          3.92,
          3.91,
          4.05,
          4.13,
          3.67,
          4.34,
          2.97,
          4.2,
          3.96,
          4.27,
          4.01,
          3.8,
          4.04,
          4.36,
          3.32,
          4.13,
          4.43,
          4.15,
          3.41,
          4.16,
          3.66,
          4,
          3.95,
          3.79,
          3.82,
          4.21,
          4.29,
          3.39,
          4.11,
          3.51,
          3.67,
          3.69,
          4.18,
          3.64,
          4.13,
          3.92,
          3.64,
          4.16,
          4.16,
          3.56,
          3.98,
          4.16,
          3.94,
          3.81,
          4.21,
          4.01,
          3.91,
          4.43,
          4.43,
          4.01,
          4.11,
          3.9,
          3.75,
          4.26,
          3.53,
          3.95,
          3.81,
          4.05,
          4.32,
          4.06,
          4.17,
          4.36,
          4.03,
          4.09,
          3.86,
          3.95,
          4.15,
          4.13,
          4.35,
          4.32,
          4.12,
          4.1,
          3.72,
          4,
          4,
          4.12,
          4.12,
          4.27,
          3.23,
          3.79,
          4.38,
          4.18,
          3.75,
          4.06,
          4.23,
          4.08,
          4.19,
          4.03,
          3.77,
          4.21,
          4.06,
          3.87,
          4.01,
          4.56,
          4.02,
          3.8,
          4.35,
          3.94,
          3.83,
          4.21,
          4.24,
          4.32,
          4.26,
          3.56,
          4.08,
          3.65,
          3.94,
          4.4,
          3.92,
          4.15,
          4.41,
          4.16,
          4.2,
          3.88,
          3.98,
          3.94,
          4.19,
          3.97,
          3.6,
          3.63,
          3.81,
          3.99,
          3.82,
          3.21,
          4.17,
          3.85,
          3.51,
          4.13,
          3.99,
          3.76,
          3.7,
          4.02,
          4.16,
          3.98,
          3.84,
          3.4,
          4.04,
          3.91,
          4.24,
          3.77,
          3.79,
          3.83,
          4.36,
          4.24,
          3.1,
          4.18,
          3.97,
          3.91,
          3.93,
          4.3,
          4.16,
          4.24,
          3.72,
          4.34,
          4.08,
          4.37,
          4.03,
          3.89,
          4.03,
          4.25,
          3.88,
          3.76,
          3.21,
          3.35,
          3.78,
          4.44,
          4.07,
          3.92,
          3.46,
          4.28,
          3.67,
          4.05,
          3.84,
          4.03,
          4.4,
          4.04,
          3.81,
          3.69,
          4.18,
          3.89,
          3.73,
          4.06,
          3.91,
          3.91,
          3.92,
          3.65,
          3.94,
          3.97,
          4.11,
          3.66,
          4.17,
          3.95,
          4.31,
          3.52,
          4.34,
          3.92,
          4.17,
          4.07
         ],
         "xaxis": "x",
         "y": [
          34160,
          12437.5,
          47795,
          41250,
          37952.5,
          19960,
          27491.67,
          26182,
          26093.67,
          23792.34,
          17964,
          21564,
          3431.34,
          6897.34,
          21797.82,
          16297.34,
          15968,
          15968,
          6234.67,
          3035.34,
          11702.67,
          8569.34,
          2772,
          8171.67,
          2639.34,
          7774,
          26904.06,
          2376,
          9576,
          9308.67,
          4509.34,
          2178,
          13178,
          2045.34,
          17980,
          1964.16,
          1964.16,
          1949.31,
          1949.31,
          20309.55,
          1873.08,
          7485.24,
          3703.39,
          11057.54,
          12791.7,
          8982,
          3582,
          1766.16,
          10596.31,
          15058.27,
          1720.62,
          1705.77,
          8517.93,
          1675.08,
          6687.24,
          4966.39,
          1629.54,
          17783.3,
          1613.7,
          18394.85,
          10384,
          6320.16,
          4707,
          1522.62,
          5924.47,
          12040.93,
          13413.08,
          2907.39,
          11553.54,
          5705.7,
          9890.85,
          5245.36,
          5826.64,
          2724.31,
          5462.31,
          6751.47,
          6676.62,
          1309.77,
          5933.78,
          8482.43,
          6447.08,
          2539.24,
          4907.7,
          1202.85,
          2417.85,
          1188,
          2388,
          2356.16,
          1157.31,
          1157.31,
          1111.77,
          5603.77,
          2202.93,
          6983.24,
          6885.89,
          1035.54,
          1019.7,
          6079.85,
          6932.45,
          985.05,
          5068.8,
          2195.2,
          7312.5,
          960.3,
          10224,
          7670.4,
          1880.55,
          4690.6,
          3730.65,
          1850.7,
          5980,
          905.85,
          7759.2,
          900.9,
          895.95,
          891,
          5841,
          10731.05,
          2661.1,
          1771.1,
          3531.15,
          6525,
          3451.35,
          6871.4,
          841.5,
          10131.55,
          6711.6,
          816.75,
          1641.75,
          5696.85,
          2421.9,
          8573.25,
          3192,
          792,
          3172.05,
          1572.1,
          9412.15,
          3112.2,
          8269.25,
          1512.4,
          3012.45,
          3742.5,
          2992.5,
          3717.55,
          2952.6,
          727.65,
          3642.7,
          5444.75,
          712.8,
          702.9,
          697.95,
          5593,
          1353.2,
          668.25,
          3678.3,
          658.35,
          7814.4,
          648.45,
          9818.45,
          3243.5,
          1943.5,
          3218.55,
          4473.6,
          5663.7,
          608.85,
          603.9,
          1210,
          594,
          3540.25,
          3564.05,
          1174.1,
          5200.65,
          569.25,
          1134.3,
          1659.45,
          4434.45,
          544.5,
          534.6,
          2154.6,
          1599.65,
          524.7,
          1024.85,
          1524.9,
          2014.95,
          5433.18,
          1483.04,
          2950.91,
          2445.1,
          483.12,
          2605.92,
          5269.53,
          2057.58,
          476.19,
          475.2,
          1429.22,
          5253.22,
          1423.24,
          2375.24,
          470.25,
          470.25,
          1399.32,
          461.34,
          1393.34,
          460.35,
          455.4,
          455.4,
          3643.44,
          1815.45,
          5000.45,
          5195.91,
          448.47,
          2250.49,
          4792.5,
          4771.2,
          443.52,
          1324.57,
          8811.18,
          2175.64,
          430.65,
          5191.67,
          2593.67,
          426.69,
          425.7,
          5107.74,
          3821.22,
          420.75,
          1687.77,
          4473,
          413.82,
          411.84,
          2070.85,
          2537.9,
          1219.92,
          1685.04,
          2025.94,
          2251.8,
          1007.5,
          4270.65,
          3180.02,
          392.04,
          392.04,
          387.09,
          2726.1,
          1154.14,
          766.15,
          3060.17,
          758.19,
          3013.71,
          1136.2,
          1886.22,
          1124.24,
          371.25,
          1871.25,
          1488.27,
          1115.27,
          366.3,
          2775,
          1100.32,
          1094.34,
          4388.34,
          4084.35,
          1811.37,
          1085.37,
          357.39,
          1079.39,
          3905.78,
          1064.44,
          706.45,
          1049.49,
          347.49,
          346.5,
          344.52,
          1031.55,
          1025.57,
          1019.59,
          1019.59,
          3872.6,
          1686.62,
          1676.64,
          666.65,
          2620.72,
          2875.32,
          1300.74,
          2759.25,
          1611.77,
          2468.49,
          950.82,
          1576.84,
          2044.35,
          1874.87,
          307.89,
          306.9,
          616.9,
          2460.92,
          2152.92,
          10327.3,
          598.99,
          1487.02,
          891.02,
          1181.04,
          885.04,
          1772.95,
          292.05,
          290.07,
          288.09,
          3694.6,
          1149.12,
          1707.15,
          427.5,
          2071.56,
          1412.17,
          3650.19,
          1387.22,
          1097.25,
          2618.07,
          267.3,
          267.3,
          263.34,
          997.5,
          1719.85,
          1877.82,
          1041.39,
          777.4,
          771.42,
          1527.45,
          997.5,
          997.5,
          246.51,
          744.51,
          1635.93,
          3221.52,
          741.52,
          738.53,
          1141.14,
          244.53,
          1227.54,
          977.55,
          977.55,
          1698.57,
          726.57,
          1494.45,
          965.58,
          1202.59,
          2566.65,
          1197.6,
          236.61,
          953.61,
          1544.62,
          1419.63,
          471.63,
          1182.63,
          708.63,
          1885.64,
          1642.65,
          933.66,
          463.67,
          461.68,
          925.68,
          2460.15,
          690.69,
          687.7,
          2509.3,
          226.71,
          1142.71,
          909.72,
          5902.92,
          1468.69,
          223.74,
          1188.76,
          897.75,
          221.76,
          1274.56,
          1112.77,
          1781.77,
          1662.78,
          660.79,
          437.8,
          3955.6,
          2067.36,
          1311.81,
          433.82,
          2177.82,
          1864.03,
          214.83,
          2311.05,
          1072.85,
          1717.85,
          642.85,
          1281.86,
          849.87,
          423.87,
          1062.87,
          1693.88,
          1080.32,
          630.89,
          2007.6,
          833.91,
          206.91,
          621.92,
          205.92,
          1245.92,
          1032.93,
          2457.95,
          1621.97,
          1703.17,
          603.98,
          603.98,
          600.99,
          198.99,
          399.99,
          500,
          1898,
          595.01,
          196.02,
          790.02,
          1059.86,
          194.04,
          586.04,
          1480.05,
          583.05,
          192.06,
          191.07,
          770.07,
          1726.08,
          1468.79,
          948.1,
          376.11,
          1510.11,
          565.11,
          750.12,
          186.12,
          185.13,
          746.13,
          184.14,
          1114.14,
          553.15,
          550.16,
          181.17,
          544.18,
          1243.06,
          903.19,
          1726.2,
          177.21,
          2280.46,
          176.22,
          532.22,
          354.22,
          1242.44,
          175.23,
          350.24,
          702.24,
          1230.24,
          523.25,
          868.26,
          1216.26,
          1346.76,
          1842.45,
          344.27,
          171.27,
          517.27,
          170.28,
          1632.28,
          340.29,
          1024.29,
          1879.29,
          1109.79,
          648.09,
          340.29,
          508.3,
          678.3,
          848.3,
          1688.31,
          1350.31,
          674.31,
          167.31,
          2153.06,
          1294.54,
          1843.79,
          1342.32,
          166.32,
          1291.92,
          332.33,
          165.33,
          1985.63,
          833.33,
          1835.33,
          1152.04,
          164.34,
          1226.74,
          1153.35,
          823.35,
          163.35,
          823.35,
          1757.25,
          162.36,
          1746.6,
          162.36,
          162.36,
          162.36,
          324.37,
          813.37,
          1470.26,
          161.37,
          322.38,
          322.38,
          160.38,
          320.39,
          642.39,
          615.02,
          478.4,
          1438.4,
          478.4,
          478.4,
          1598.4,
          475.41,
          157.41,
          475.41,
          634.41,
          314.42,
          1136.02,
          472.42,
          1420.42,
          469.43,
          155.43,
          1474.23,
          154.44,
          778.44,
          669.24,
          2106.45,
          618.45,
          1230.46,
          614.46,
          460.46,
          768.46,
          1167.32,
          610.47,
          151.47,
          151.47,
          1176.57,
          1618.8,
          1111.12,
          910.48,
          149.49,
          151,
          661.38,
          1508.49,
          1125,
          598.5,
          594.51,
          594.51,
          1488.51,
          594.51,
          1427.42,
          1144.04,
          146.52,
          442.52,
          145.53,
          1997.73,
          145.53,
          439.53,
          439.53,
          1074.57,
          675.98,
          582.54,
          1097.92,
          1166.54,
          1251.22,
          144.54,
          665.55,
          723.55,
          990.35,
          1448.55,
          868.55,
          1134.72,
          570.57,
          1428.57,
          1072.5,
          708.58,
          1560.58,
          969.86,
          562.59,
          139.59,
          1030.71,
          562.59,
          558.6,
          418.6,
          1398.6,
          698.6,
          137.61,
          693.61,
          725.88,
          1516.62,
          957.72,
          1094.63,
          836.4,
          1225.36,
          542.64,
          133.65,
          538.65,
          808.65,
          873.68,
          1191.26,
          663.67,
          530.67,
          397.67,
          394.68,
          394.68,
          394.68,
          790.68,
          526.68,
          130.68,
          327.36,
          394.68,
          260.69,
          1395.15,
          129.69,
          260.69,
          492.7,
          258.7,
          1656.2,
          514.71,
          127.71,
          127.71,
          127.71,
          127.71,
          885.76,
          888.32,
          1470.72,
          787.2,
          126.72,
          1153.28,
          843.28,
          1395.73,
          125.73,
          506.73,
          502.74,
          124.74,
          1198.75,
          1127.5,
          122.76,
          370.76,
          121.77,
          121.77,
          974.78,
          120.78,
          1096.78,
          486.78,
          966.79,
          930.49,
          119.79,
          671.55,
          118.8,
          118.8,
          118.8,
          950.81,
          117.81,
          912.73,
          355.81,
          117.81,
          712.81,
          117.81,
          236.81,
          712.81,
          474.81,
          355.81,
          355.81,
          1188.81,
          355.81,
          117.81,
          593.81,
          117.81,
          784.21,
          1082.9,
          117.81,
          117.81,
          915.11,
          355.81,
          640.22,
          1307.81,
          117.81,
          593.81,
          355.81,
          1022.21,
          117.81,
          355.81,
          950.81,
          357.54,
          352.82,
          116.82,
          862.58,
          862.58,
          352.82,
          1060.82,
          352.82,
          116.82,
          1320.42,
          761.1,
          654.9,
          116.82,
          116.82,
          824.82,
          1060.82,
          706.82,
          502.68,
          1131.62,
          234.82,
          588.82,
          1680.32,
          1128.08,
          352.82,
          872.02,
          470.82,
          824.82,
          352.82,
          942.82,
          470.82,
          588.82,
          234.82,
          234.82,
          725.7,
          466.83,
          934.83,
          349.83,
          349.83,
          115.83,
          232.83,
          232.83,
          855.27,
          1519.83,
          466.83,
          700.83,
          115.83,
          1689.48,
          349.83,
          583.83,
          1170,
          1402.83,
          115.83,
          349.83,
          1084.59,
          232.83,
          466.83,
          349.83,
          466.83,
          1391.13,
          232.83,
          799.11,
          349.83,
          583.83,
          114.84,
          624.08,
          694.84,
          892.04,
          346.84,
          462.84,
          114.84,
          1158.84,
          462.84,
          230.84,
          462.84,
          694.84,
          770.24,
          114.84,
          694.84,
          114.84,
          114.84,
          114.84,
          810.84,
          346.84,
          114.84,
          114.84,
          462.84,
          1042.84,
          1041.68,
          1506.84,
          784.16,
          346.84,
          1158.84,
          926.84,
          458.85,
          1367.35,
          573.85,
          343.85,
          1033.85,
          343.85,
          343.85,
          573.85,
          343.85,
          458.85,
          1263.85,
          458.85,
          343.85,
          343.85,
          458.85,
          803.85,
          930.35,
          113.85,
          573.85,
          1269.6,
          884.35,
          113.85,
          573.85,
          573.85,
          113.85,
          343.85,
          910.86,
          1366.86,
          1366.86,
          340.86,
          568.86,
          112.86,
          910.86,
          112.86,
          876.66,
          226.86,
          568.86,
          568.86,
          112.86,
          226.86,
          876.66,
          340.86,
          1366.86,
          397.86,
          568.86,
          340.86,
          454.86,
          856.14,
          340.86,
          345.42,
          844.74,
          228,
          597.36,
          778.62,
          910.86,
          454.86,
          454.86,
          746.7,
          1220.4,
          431.66,
          902.87,
          563.87,
          1128.87,
          450.87,
          450.87,
          1241.87,
          111.87,
          169.5,
          450.87,
          1388.77,
          111.87,
          111.87,
          111.87,
          864.45,
          1327.75,
          781.96,
          450.87,
          337.87,
          970.67,
          1015.87,
          846.37,
          789.87,
          111.87,
          224.87,
          111.87,
          224.87,
          992.14,
          282.5,
          110.88,
          838.88,
          334.88,
          670.88,
          334.88,
          334.88,
          110.88,
          894.88,
          334.88,
          670.88,
          446.88,
          894.88,
          842.24,
          334.88,
          1326.08,
          446.88,
          558.88,
          110.88,
          1230.88,
          558.88,
          334.88,
          838.88,
          334.88,
          446.88,
          670.88,
          222.88,
          334.88,
          222.88,
          109.89,
          331.89,
          1330.89,
          442.89,
          109.89,
          331.89,
          331.89,
          109.89,
          109.89,
          220.89,
          331.89,
          331.89,
          899.1,
          1314.24,
          220.89,
          1330.89,
          1225.44,
          109.89,
          196.47,
          109.89,
          109.89,
          637.14,
          858.03,
          442.89,
          1219.89,
          331.89,
          1414.14,
          331.89,
          331.89,
          109.89,
          548.9,
          1098.9,
          108.9,
          108.9,
          438.9,
          1230.9,
          108.9,
          438.9,
          108.9,
          218.9,
          438.9,
          1351.9,
          1208.9,
          878.9,
          108.9,
          328.9,
          603.9,
          988.9,
          438.9,
          1200.1,
          988.9,
          988.9,
          548.9,
          108.9,
          1867.8,
          416.9,
          548.9,
          493.9,
          641.3,
          1088.91,
          216.91,
          434.91,
          1160.85,
          516.66,
          107.91,
          107.91,
          543.91,
          1502.02,
          107.91,
          107.91,
          325.91,
          706.32,
          216.91,
          1306.91,
          960.29,
          598.41,
          325.91,
          325.91,
          325.91,
          620.21,
          434.91,
          325.91,
          107.91,
          325.91,
          434.91,
          434.91,
          543.91,
          543.91,
          107.91,
          107.91,
          761.91,
          538.92,
          646.92,
          970.92,
          106.92,
          106.92,
          1659.96,
          412.56,
          430.92,
          430.92,
          1186.92,
          1150.2,
          430.92,
          1327.32,
          322.92,
          322.92,
          516.24,
          214.92,
          139.32,
          748.44,
          106.92,
          646.92,
          1186.92,
          538.92,
          106.92,
          430.92,
          538.92,
          322.92,
          1078.92,
          214.92,
          430.92,
          322.92,
          322.92,
          105.93,
          854.93,
          919.13,
          105.93,
          426.93,
          1272.23,
          640.93,
          105.93,
          408.74,
          319.93,
          1282.93,
          640.93,
          854.93,
          1175.93,
          105.93,
          854.93,
          426.93,
          405.53,
          324.21,
          747.93,
          951.23,
          319.93,
          529.65,
          426.93,
          105.93,
          822.83,
          1149.18,
          640.93,
          319.93,
          104.94,
          477,
          1588.94,
          212,
          735.64,
          846.94,
          1334.54,
          827.86,
          589.36,
          316.94,
          1058.94,
          316.94,
          740.94,
          210.94,
          104.94,
          815.14,
          846.94,
          316.94,
          104.94,
          846.94,
          846.94,
          104.94,
          316.94
         ],
         "yaxis": "y"
        }
       ],
       "layout": {
        "legend": {
         "tracegroupgap": 0
        },
        "margin": {
         "t": 60
        },
        "template": {
         "data": {
          "bar": [
           {
            "error_x": {
             "color": "#2a3f5f"
            },
            "error_y": {
             "color": "#2a3f5f"
            },
            "marker": {
             "line": {
              "color": "#E5ECF6",
              "width": 0.5
             },
             "pattern": {
              "fillmode": "overlay",
              "size": 10,
              "solidity": 0.2
             }
            },
            "type": "bar"
           }
          ],
          "barpolar": [
           {
            "marker": {
             "line": {
              "color": "#E5ECF6",
              "width": 0.5
             },
             "pattern": {
              "fillmode": "overlay",
              "size": 10,
              "solidity": 0.2
             }
            },
            "type": "barpolar"
           }
          ],
          "carpet": [
           {
            "aaxis": {
             "endlinecolor": "#2a3f5f",
             "gridcolor": "white",
             "linecolor": "white",
             "minorgridcolor": "white",
             "startlinecolor": "#2a3f5f"
            },
            "baxis": {
             "endlinecolor": "#2a3f5f",
             "gridcolor": "white",
             "linecolor": "white",
             "minorgridcolor": "white",
             "startlinecolor": "#2a3f5f"
            },
            "type": "carpet"
           }
          ],
          "choropleth": [
           {
            "colorbar": {
             "outlinewidth": 0,
             "ticks": ""
            },
            "type": "choropleth"
           }
          ],
          "contour": [
           {
            "colorbar": {
             "outlinewidth": 0,
             "ticks": ""
            },
            "colorscale": [
             [
              0,
              "#0d0887"
             ],
             [
              0.1111111111111111,
              "#46039f"
             ],
             [
              0.2222222222222222,
              "#7201a8"
             ],
             [
              0.3333333333333333,
              "#9c179e"
             ],
             [
              0.4444444444444444,
              "#bd3786"
             ],
             [
              0.5555555555555556,
              "#d8576b"
             ],
             [
              0.6666666666666666,
              "#ed7953"
             ],
             [
              0.7777777777777778,
              "#fb9f3a"
             ],
             [
              0.8888888888888888,
              "#fdca26"
             ],
             [
              1,
              "#f0f921"
             ]
            ],
            "type": "contour"
           }
          ],
          "contourcarpet": [
           {
            "colorbar": {
             "outlinewidth": 0,
             "ticks": ""
            },
            "type": "contourcarpet"
           }
          ],
          "heatmap": [
           {
            "colorbar": {
             "outlinewidth": 0,
             "ticks": ""
            },
            "colorscale": [
             [
              0,
              "#0d0887"
             ],
             [
              0.1111111111111111,
              "#46039f"
             ],
             [
              0.2222222222222222,
              "#7201a8"
             ],
             [
              0.3333333333333333,
              "#9c179e"
             ],
             [
              0.4444444444444444,
              "#bd3786"
             ],
             [
              0.5555555555555556,
              "#d8576b"
             ],
             [
              0.6666666666666666,
              "#ed7953"
             ],
             [
              0.7777777777777778,
              "#fb9f3a"
             ],
             [
              0.8888888888888888,
              "#fdca26"
             ],
             [
              1,
              "#f0f921"
             ]
            ],
            "type": "heatmap"
           }
          ],
          "heatmapgl": [
           {
            "colorbar": {
             "outlinewidth": 0,
             "ticks": ""
            },
            "colorscale": [
             [
              0,
              "#0d0887"
             ],
             [
              0.1111111111111111,
              "#46039f"
             ],
             [
              0.2222222222222222,
              "#7201a8"
             ],
             [
              0.3333333333333333,
              "#9c179e"
             ],
             [
              0.4444444444444444,
              "#bd3786"
             ],
             [
              0.5555555555555556,
              "#d8576b"
             ],
             [
              0.6666666666666666,
              "#ed7953"
             ],
             [
              0.7777777777777778,
              "#fb9f3a"
             ],
             [
              0.8888888888888888,
              "#fdca26"
             ],
             [
              1,
              "#f0f921"
             ]
            ],
            "type": "heatmapgl"
           }
          ],
          "histogram": [
           {
            "marker": {
             "pattern": {
              "fillmode": "overlay",
              "size": 10,
              "solidity": 0.2
             }
            },
            "type": "histogram"
           }
          ],
          "histogram2d": [
           {
            "colorbar": {
             "outlinewidth": 0,
             "ticks": ""
            },
            "colorscale": [
             [
              0,
              "#0d0887"
             ],
             [
              0.1111111111111111,
              "#46039f"
             ],
             [
              0.2222222222222222,
              "#7201a8"
             ],
             [
              0.3333333333333333,
              "#9c179e"
             ],
             [
              0.4444444444444444,
              "#bd3786"
             ],
             [
              0.5555555555555556,
              "#d8576b"
             ],
             [
              0.6666666666666666,
              "#ed7953"
             ],
             [
              0.7777777777777778,
              "#fb9f3a"
             ],
             [
              0.8888888888888888,
              "#fdca26"
             ],
             [
              1,
              "#f0f921"
             ]
            ],
            "type": "histogram2d"
           }
          ],
          "histogram2dcontour": [
           {
            "colorbar": {
             "outlinewidth": 0,
             "ticks": ""
            },
            "colorscale": [
             [
              0,
              "#0d0887"
             ],
             [
              0.1111111111111111,
              "#46039f"
             ],
             [
              0.2222222222222222,
              "#7201a8"
             ],
             [
              0.3333333333333333,
              "#9c179e"
             ],
             [
              0.4444444444444444,
              "#bd3786"
             ],
             [
              0.5555555555555556,
              "#d8576b"
             ],
             [
              0.6666666666666666,
              "#ed7953"
             ],
             [
              0.7777777777777778,
              "#fb9f3a"
             ],
             [
              0.8888888888888888,
              "#fdca26"
             ],
             [
              1,
              "#f0f921"
             ]
            ],
            "type": "histogram2dcontour"
           }
          ],
          "mesh3d": [
           {
            "colorbar": {
             "outlinewidth": 0,
             "ticks": ""
            },
            "type": "mesh3d"
           }
          ],
          "parcoords": [
           {
            "line": {
             "colorbar": {
              "outlinewidth": 0,
              "ticks": ""
             }
            },
            "type": "parcoords"
           }
          ],
          "pie": [
           {
            "automargin": true,
            "type": "pie"
           }
          ],
          "scatter": [
           {
            "fillpattern": {
             "fillmode": "overlay",
             "size": 10,
             "solidity": 0.2
            },
            "type": "scatter"
           }
          ],
          "scatter3d": [
           {
            "line": {
             "colorbar": {
              "outlinewidth": 0,
              "ticks": ""
             }
            },
            "marker": {
             "colorbar": {
              "outlinewidth": 0,
              "ticks": ""
             }
            },
            "type": "scatter3d"
           }
          ],
          "scattercarpet": [
           {
            "marker": {
             "colorbar": {
              "outlinewidth": 0,
              "ticks": ""
             }
            },
            "type": "scattercarpet"
           }
          ],
          "scattergeo": [
           {
            "marker": {
             "colorbar": {
              "outlinewidth": 0,
              "ticks": ""
             }
            },
            "type": "scattergeo"
           }
          ],
          "scattergl": [
           {
            "marker": {
             "colorbar": {
              "outlinewidth": 0,
              "ticks": ""
             }
            },
            "type": "scattergl"
           }
          ],
          "scattermapbox": [
           {
            "marker": {
             "colorbar": {
              "outlinewidth": 0,
              "ticks": ""
             }
            },
            "type": "scattermapbox"
           }
          ],
          "scatterpolar": [
           {
            "marker": {
             "colorbar": {
              "outlinewidth": 0,
              "ticks": ""
             }
            },
            "type": "scatterpolar"
           }
          ],
          "scatterpolargl": [
           {
            "marker": {
             "colorbar": {
              "outlinewidth": 0,
              "ticks": ""
             }
            },
            "type": "scatterpolargl"
           }
          ],
          "scatterternary": [
           {
            "marker": {
             "colorbar": {
              "outlinewidth": 0,
              "ticks": ""
             }
            },
            "type": "scatterternary"
           }
          ],
          "surface": [
           {
            "colorbar": {
             "outlinewidth": 0,
             "ticks": ""
            },
            "colorscale": [
             [
              0,
              "#0d0887"
             ],
             [
              0.1111111111111111,
              "#46039f"
             ],
             [
              0.2222222222222222,
              "#7201a8"
             ],
             [
              0.3333333333333333,
              "#9c179e"
             ],
             [
              0.4444444444444444,
              "#bd3786"
             ],
             [
              0.5555555555555556,
              "#d8576b"
             ],
             [
              0.6666666666666666,
              "#ed7953"
             ],
             [
              0.7777777777777778,
              "#fb9f3a"
             ],
             [
              0.8888888888888888,
              "#fdca26"
             ],
             [
              1,
              "#f0f921"
             ]
            ],
            "type": "surface"
           }
          ],
          "table": [
           {
            "cells": {
             "fill": {
              "color": "#EBF0F8"
             },
             "line": {
              "color": "white"
             }
            },
            "header": {
             "fill": {
              "color": "#C8D4E3"
             },
             "line": {
              "color": "white"
             }
            },
            "type": "table"
           }
          ]
         },
         "layout": {
          "annotationdefaults": {
           "arrowcolor": "#2a3f5f",
           "arrowhead": 0,
           "arrowwidth": 1
          },
          "autotypenumbers": "strict",
          "coloraxis": {
           "colorbar": {
            "outlinewidth": 0,
            "ticks": ""
           }
          },
          "colorscale": {
           "diverging": [
            [
             0,
             "#8e0152"
            ],
            [
             0.1,
             "#c51b7d"
            ],
            [
             0.2,
             "#de77ae"
            ],
            [
             0.3,
             "#f1b6da"
            ],
            [
             0.4,
             "#fde0ef"
            ],
            [
             0.5,
             "#f7f7f7"
            ],
            [
             0.6,
             "#e6f5d0"
            ],
            [
             0.7,
             "#b8e186"
            ],
            [
             0.8,
             "#7fbc41"
            ],
            [
             0.9,
             "#4d9221"
            ],
            [
             1,
             "#276419"
            ]
           ],
           "sequential": [
            [
             0,
             "#0d0887"
            ],
            [
             0.1111111111111111,
             "#46039f"
            ],
            [
             0.2222222222222222,
             "#7201a8"
            ],
            [
             0.3333333333333333,
             "#9c179e"
            ],
            [
             0.4444444444444444,
             "#bd3786"
            ],
            [
             0.5555555555555556,
             "#d8576b"
            ],
            [
             0.6666666666666666,
             "#ed7953"
            ],
            [
             0.7777777777777778,
             "#fb9f3a"
            ],
            [
             0.8888888888888888,
             "#fdca26"
            ],
            [
             1,
             "#f0f921"
            ]
           ],
           "sequentialminus": [
            [
             0,
             "#0d0887"
            ],
            [
             0.1111111111111111,
             "#46039f"
            ],
            [
             0.2222222222222222,
             "#7201a8"
            ],
            [
             0.3333333333333333,
             "#9c179e"
            ],
            [
             0.4444444444444444,
             "#bd3786"
            ],
            [
             0.5555555555555556,
             "#d8576b"
            ],
            [
             0.6666666666666666,
             "#ed7953"
            ],
            [
             0.7777777777777778,
             "#fb9f3a"
            ],
            [
             0.8888888888888888,
             "#fdca26"
            ],
            [
             1,
             "#f0f921"
            ]
           ]
          },
          "colorway": [
           "#636efa",
           "#EF553B",
           "#00cc96",
           "#ab63fa",
           "#FFA15A",
           "#19d3f3",
           "#FF6692",
           "#B6E880",
           "#FF97FF",
           "#FECB52"
          ],
          "font": {
           "color": "#2a3f5f"
          },
          "geo": {
           "bgcolor": "white",
           "lakecolor": "white",
           "landcolor": "#E5ECF6",
           "showlakes": true,
           "showland": true,
           "subunitcolor": "white"
          },
          "hoverlabel": {
           "align": "left"
          },
          "hovermode": "closest",
          "mapbox": {
           "style": "light"
          },
          "paper_bgcolor": "white",
          "plot_bgcolor": "#E5ECF6",
          "polar": {
           "angularaxis": {
            "gridcolor": "white",
            "linecolor": "white",
            "ticks": ""
           },
           "bgcolor": "#E5ECF6",
           "radialaxis": {
            "gridcolor": "white",
            "linecolor": "white",
            "ticks": ""
           }
          },
          "scene": {
           "xaxis": {
            "backgroundcolor": "#E5ECF6",
            "gridcolor": "white",
            "gridwidth": 2,
            "linecolor": "white",
            "showbackground": true,
            "ticks": "",
            "zerolinecolor": "white"
           },
           "yaxis": {
            "backgroundcolor": "#E5ECF6",
            "gridcolor": "white",
            "gridwidth": 2,
            "linecolor": "white",
            "showbackground": true,
            "ticks": "",
            "zerolinecolor": "white"
           },
           "zaxis": {
            "backgroundcolor": "#E5ECF6",
            "gridcolor": "white",
            "gridwidth": 2,
            "linecolor": "white",
            "showbackground": true,
            "ticks": "",
            "zerolinecolor": "white"
           }
          },
          "shapedefaults": {
           "line": {
            "color": "#2a3f5f"
           }
          },
          "ternary": {
           "aaxis": {
            "gridcolor": "white",
            "linecolor": "white",
            "ticks": ""
           },
           "baxis": {
            "gridcolor": "white",
            "linecolor": "white",
            "ticks": ""
           },
           "bgcolor": "#E5ECF6",
           "caxis": {
            "gridcolor": "white",
            "linecolor": "white",
            "ticks": ""
           }
          },
          "title": {
           "x": 0.05
          },
          "xaxis": {
           "automargin": true,
           "gridcolor": "white",
           "linecolor": "white",
           "ticks": "",
           "title": {
            "standoff": 15
           },
           "zerolinecolor": "white",
           "zerolinewidth": 2
          },
          "yaxis": {
           "automargin": true,
           "gridcolor": "white",
           "linecolor": "white",
           "ticks": "",
           "title": {
            "standoff": 15
           },
           "zerolinecolor": "white",
           "zerolinewidth": 2
          }
         }
        },
        "xaxis": {
         "anchor": "y",
         "domain": [
          0,
          1
         ],
         "title": {
          "text": "book_average_rating"
         }
        },
        "yaxis": {
         "anchor": "x",
         "domain": [
          0,
          1
         ],
         "title": {
          "text": "gross_sales"
         }
        }
       }
      }
     },
     "metadata": {},
     "output_type": "display_data"
    }
   ],
   "source": [
    "px.scatter(df,x='book_average_rating',y='gross_sales')"
   ]
  },
  {
   "cell_type": "markdown",
   "metadata": {},
   "source": [
    "## Conclusion\n",
    "To conclude this section of the project on Exploratory Data Analysis, I found the following insights:\n",
    "- The genre of the majority of books is fiction.\n",
    "- Between 2000 and 2016, the year in which the most books were published was 2012. Amazon published the greatest amount of books.\n",
    "- The revenue of Penguin publishing peaked highest at 32,000 in 2011, while Amazon peaked at 31,000 in 2015.\n",
    "- The highest distribution of books (367) bring in less then $500 in gross sales. The average book brings in about $809 in sales.\n",
    "- Comparing the relationship between book rating and gross sales did not display a clear correlation."
   ]
  }
 ],
 "metadata": {
  "kernelspec": {
   "display_name": "Python 3",
   "language": "python",
   "name": "python3"
  },
  "language_info": {
   "codemirror_mode": {
    "name": "ipython",
    "version": 3
   },
   "file_extension": ".py",
   "mimetype": "text/x-python",
   "name": "python",
   "nbconvert_exporter": "python",
   "pygments_lexer": "ipython3",
   "version": "3.12.1"
  }
 },
 "nbformat": 4,
 "nbformat_minor": 2
}
